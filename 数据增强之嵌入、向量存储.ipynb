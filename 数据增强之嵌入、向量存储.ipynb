{
 "cells": [
  {
   "cell_type": "markdown",
   "id": "d5e731f4-3eac-4230-b91e-a21cee2b7bb1",
   "metadata": {},
   "source": [
    "# 介绍数据增强的数据嵌入、向量存储"
   ]
  },
  {
   "cell_type": "code",
   "execution_count": 1,
   "id": "5b26bc9f-8be7-43e2-9d86-3dfe7583d327",
   "metadata": {},
   "outputs": [],
   "source": [
    "import sys\n",
    "\n",
    "from langchain_community.document_loaders import PyPDFLoader\n",
    "from langchain.text_splitter import RecursiveCharacterTextSplitter\n",
    "\n",
    "loader = PyPDFLoader(r\"C:\\Users\\Administrator\\Desktop\\AI\\PRD.pdf\", extract_images=True)\n",
    "\n",
    "pages = loader.load_and_split()\n",
    "\n",
    "text_splitter = RecursiveCharacterTextSplitter(\n",
    "                chunk_size = 200,\n",
    "                chunk_overlap  = 50,\n",
    "                length_function = len,\n",
    "            )\n",
    "\n",
    "\n",
    "pages_splitter = loader.load_and_split(text_splitter)"
   ]
  },
  {
   "cell_type": "markdown",
   "id": "445e596d-9a43-427e-adc4-efbfb8d50e0d",
   "metadata": {},
   "source": [
    "## 引入向量数据库Chroma\n",
    "## 引入OpenAI 的 Embedding类"
   ]
  },
  {
   "cell_type": "code",
   "execution_count": 2,
   "id": "b3ed9058-1b42-4ddf-8fda-abb4fb918b49",
   "metadata": {},
   "outputs": [
    {
     "name": "stdout",
     "output_type": "stream",
     "text": [
      "通用性，以便其他客户能够更好地使用我们的巡检3.0产品。\n",
      "二、需求介绍\n",
      "1.需求总体思路\n",
      "对于路线和设备，引入一个“巡检主题”类型的概念。所谓“巡检主题”是指不同类型\n",
      "的巡检，比如设备巡检（我们现有的），我们可以根据客户实际需要配置新的巡检主题，比\n",
      "如工艺、安全、重大危险源或其他“主题”。\n",
      "对于路线、设备、巡检项，新增一个属性“巡检主题”。默认的巡检主题是设备，是我\n"
     ]
    }
   ],
   "source": [
    "import os\n",
    "\n",
    "from langchain.vectorstores import Chroma \n",
    "from langchain_openai import OpenAIEmbeddings\n",
    "\n",
    "api_key = os.getenv(\"OPENAI_API_KEY\")\n",
    "\n",
    "vectorstore = Chroma.from_documents(\n",
    "    pages_splitter,\n",
    "    embedding=OpenAIEmbeddings(openai_api_key=api_key),\n",
    ")\n",
    "\n",
    "query = \"需求总体思路是什么？\"\n",
    "docs = vectorstore.similarity_search(query)\n",
    "print(docs[0].page_content)"
   ]
  }
 ],
 "metadata": {
  "kernelspec": {
   "display_name": "Python 3 (ipykernel)",
   "language": "python",
   "name": "python3"
  },
  "language_info": {
   "codemirror_mode": {
    "name": "ipython",
    "version": 3
   },
   "file_extension": ".py",
   "mimetype": "text/x-python",
   "name": "python",
   "nbconvert_exporter": "python",
   "pygments_lexer": "ipython3",
   "version": "3.10.8"
  }
 },
 "nbformat": 4,
 "nbformat_minor": 5
}
