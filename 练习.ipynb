{
 "cells": [
  {
   "cell_type": "code",
   "execution_count": 41,
   "id": "737d2d11-6de5-4074-a881-f286264eeefe",
   "metadata": {},
   "outputs": [
    {
     "name": "stdout",
     "output_type": "stream",
     "text": [
      "You are an AI assistant tasked with generating question and answer pairs for the given context using the given format. Only answer in the format with no other text. You should create the following number of question/answer pairs: {number_of_pairs}. Return the question/answer pairs as a Python List. Each dict in the list should have the full context provided, a relevant question to the context and an answer to the question.\n",
      "\n",
      "Format:\n",
      "{data_format}\n",
      "\n",
      "Context:\n",
      "{context}\n",
      "\n"
     ]
    }
   ],
   "source": [
    "from operator import itemgetter\n",
    "from langchain import hub\n",
    "\n",
    "obj = hub.pull(\"homanp/question-answer-pair\")\n",
    "\n",
    "print(obj.messages[0].prompt.template)"
   ]
  },
  {
   "cell_type": "code",
   "execution_count": 2,
   "id": "15ae77ee-7547-4d14-b25b-35f339e08899",
   "metadata": {},
   "outputs": [
    {
     "data": {
      "text/plain": [
       "[{'url': 'https://finance.sina.com.cn/stock/2024-01-30/doc-inafhxvh0063490.shtml',\n",
       "  'content': '对于2024年的A股，部分国内券商相对乐观。中信建投证券预测2024年A股有望迎来熊牛转换期，市场有望由低位震荡转为波动上行。该判断主要源自两大改善因素，“一是全球宏观流动性明显改善，二是国内稳增长力度或将超预期”。  1月24日，在多部门齐手稳定市场预期下，上证指数收复2800点。1月25日反弹势能延续，中字头个股集体爆发，带动上证指数跃上2900点。  1月22日的国常会听取资本市场运行情况及工作考虑的汇报，并作出“要采取更加有力有效措施，着力稳市场、稳信心”的部署。 1月24日，国资委强调央企要加强市值管理，重视增持、回购、分红。  自2024年开年以后，上证指数从3000点左右一度跌至2700多点，短期持续下跌令A股几度冲上热搜，专家学者们纷纷建言。48 minutes ago — 48 minutes ago政策层面，1月22日，国务院常务会议（下称“国常会”）提出“要采取更加有力有效措施着力稳市场、稳信心，促进资本市场平稳健康发展”，证监会、中国人民银行\\xa0...'},\n",
       " {'url': 'https://finance.sina.com.cn/money/fund/etf/2024-01-30/doc-inafhxvi6873884.shtml?cre=tianyi&mod=pchp&loc=24&r=0&rfunc=45&tj=cxvertical_pc_hp&tr=12',\n",
       "  'content': '图片、数据来源：沪深交易所、华宝基金、Wind等，截至2024.1.30。  周二（1月30日），大盘全天震荡调整，创业板、深成指跌超2%，创业板指失守1600点续创年内新低。券商股午后异动拉升护盘未果。市场整体情绪较为低迷，全市场超5000只个股下跌。沪深两市成交额进一步萎缩，金额较前日减少1415亿元。北向资金  在具体节奏方面，长城证券表示，券商板块战略性配置窗口继续打开，可密切关注沪深300ETF成交额变化，静待市场信心修复。  %，相对沪深300（-1.78%）、上证指数（-1.83%）等大盘表现彰显韧性。38 minutes ago — 38 minutes ago周二（1月30日），大盘全天震荡调整，创业板、深成指跌超2%，创业板指失守1600点续创年内新低。券商股午后异动拉升护盘未果。市场整体情绪较为低迷，\\xa0...'}]"
      ]
     },
     "execution_count": 2,
     "metadata": {},
     "output_type": "execute_result"
    }
   ],
   "source": [
    "from langchain_community.tools.tavily_search import TavilySearchResults\n",
    "\n",
    "search = TavilySearchResults()\n",
    "\n",
    "search.invoke(\"中国A股的表现今天怎样？\")"
   ]
  },
  {
   "cell_type": "code",
   "execution_count": null,
   "id": "5440854e-b1b0-400f-a658-513da798b87a",
   "metadata": {},
   "outputs": [],
   "source": [
    "import getpass\n",
    "import os\n",
    "\n",
    "os.environ[\"TAVILY_API_KEY\"] = getpass.getpass()"
   ]
  }
 ],
 "metadata": {
  "kernelspec": {
   "display_name": "Python 3 (ipykernel)",
   "language": "python",
   "name": "python3"
  },
  "language_info": {
   "codemirror_mode": {
    "name": "ipython",
    "version": 3
   },
   "file_extension": ".py",
   "mimetype": "text/x-python",
   "name": "python",
   "nbconvert_exporter": "python",
   "pygments_lexer": "ipython3",
   "version": "3.10.8"
  }
 },
 "nbformat": 4,
 "nbformat_minor": 5
}
