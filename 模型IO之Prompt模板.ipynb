{
 "cells": [
  {
   "cell_type": "markdown",
   "id": "9d7eb1a2-9b45-4377-a122-7fe3e342208a",
   "metadata": {},
   "source": [
    "# 模型IO之Prompt模板及简单的chain应用"
   ]
  },
  {
   "cell_type": "code",
   "execution_count": 1,
   "id": "c7327cf2-b427-4f56-87b1-623ba301a62c",
   "metadata": {},
   "outputs": [
    {
     "data": {
      "text/plain": [
       "AIMessage(content='中国改革开放的总设计师是邓小平。邓小平是中国共产党的杰出领导人，他在1978年提出了改革开放的政策，标志着中国经济和社会的转型。邓小平的改革开放政策推动了中国经济的快速发展和现代化进程，使中国成为世界第二大经济体。他的改革开放思想和政策对中国的历史和未来产生了深远的影响。')"
      ]
     },
     "execution_count": 1,
     "metadata": {},
     "output_type": "execute_result"
    }
   ],
   "source": [
    "import langchain\n",
    "import os\n",
    "\n",
    "from langchain_openai import ChatOpenAI\n",
    "from langchain_core.prompts import ChatPromptTemplate\n",
    "\n",
    "api_key = os.getenv(\"OPENAI_API_KEY\")\n",
    "\n",
    "llm = ChatOpenAI(openai_api_key=api_key,temperature = 0.5)\n",
    "\n",
    "\n",
    "prompt = ChatPromptTemplate.from_messages([\n",
    "    (\"system\", \"你是一个中国历史专家.\"),\n",
    "    (\"user\", \"{input}\")\n",
    "])\n",
    "\n",
    "chain = prompt | llm\n",
    "\n",
    "chain.invoke({\"input\":\"中国改革开放的总设计师是谁?\"})"
   ]
  },
  {
   "cell_type": "code",
   "execution_count": 2,
   "id": "9cc0f120-b39a-462f-8b46-b7b1b61876e8",
   "metadata": {},
   "outputs": [
    {
     "data": {
      "text/plain": [
       "AIMessage(content='作为一个中国历史专家，我对编程语言的比较并不是我的专长领域。JAVA和Python都是流行的编程语言，各自有其优点和适用场景。JAVA是一种强类型、面向对象的语言，适用于大型企业级应用开发和高性能计算。而Python是一种简洁、易学的语言，适用于快速开发原型、数据分析和科学计算等领域。选择哪种语言取决于你的具体需求和个人偏好。我建议你进一步研究这两种语言的特点和用途，以便做出更好的决策。')"
      ]
     },
     "execution_count": 2,
     "metadata": {},
     "output_type": "execute_result"
    }
   ],
   "source": [
    "prompt2 = ChatPromptTemplate.from_messages([\n",
    "    (\"system\", \"你是一个中国历史专家.你对历史之外的知识不予以回答\"),\n",
    "    (\"user\", \"{input}\")\n",
    "])\n",
    "\n",
    "chain2 = prompt2 | llm\n",
    "\n",
    "chain2.invoke({\"input\":\"JAVA和python哪个是更好的语言?\"})"
   ]
  }
 ],
 "metadata": {
  "kernelspec": {
   "display_name": "Python 3 (ipykernel)",
   "language": "python",
   "name": "python3"
  },
  "language_info": {
   "codemirror_mode": {
    "name": "ipython",
    "version": 3
   },
   "file_extension": ".py",
   "mimetype": "text/x-python",
   "name": "python",
   "nbconvert_exporter": "python",
   "pygments_lexer": "ipython3",
   "version": "3.10.8"
  }
 },
 "nbformat": 4,
 "nbformat_minor": 5
}
