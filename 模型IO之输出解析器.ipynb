{
 "cells": [
  {
   "cell_type": "markdown",
   "id": "4cdcd204-5a64-4273-afec-e69a825ef03d",
   "metadata": {},
   "source": [
    "# 介绍输出解析器的基本使用和案例"
   ]
  },
  {
   "cell_type": "code",
   "execution_count": 14,
   "id": "291bef85-c8be-44ed-bef8-e3d14f9058ff",
   "metadata": {},
   "outputs": [
    {
     "name": "stdout",
     "output_type": "stream",
     "text": [
      "宋朝（960年-1279年）是中国历史上的一个重要朝代，分为两个时期：北宋和南宋。\n",
      "\n",
      "北宋时期（960年-1127年）是由赵匡胤建立的，首都设在开封。这个时期是中国历史上政治稳定、经济繁荣、文化辉煌的阶段之一。北宋时期，朝廷实行了许多改革政策，例如开创了科举制度，通过考试选拔官员，实现了士人的社会流动，促进了社会进步；推行了农田水利和税赋改革，提高了农业和财政收入；还制定了律令制度，加强了法制建设。在文化方面，北宋时期涌现了许多杰出的文学家、历史学家和艺术家，如苏东坡、欧阳修、王安石等。\n",
      "\n",
      "然而，北宋的政治和军事实力逐渐衰弱。1127年，北方的辽朝和西面的金朝联合进攻，占领了开封，导致北宋灭亡。\n",
      "\n",
      "南宋时期（1127年-1279年）是在南方建立的宋朝，首都迁至临安（今杭州）。南宋时期，政治中心转移到南方，朝廷采取了贵族政治和民族主义政策。南宋经济仍然相对繁荣，海外贸易发展，制造业和商业也兴盛起来。文化上，南宋的茶文化、诗词、绘画等达到了高峰，如陆游、杨万里、黄庭坚等都是这个时期的杰出代表。\n",
      "\n",
      "然而，南宋时期也一直面临来自金朝的威胁，并最终在1279年被元朝所灭。宋朝的灭亡标志着中国历史上一个重要的转折点，进入了元朝的统治时期。但宋朝的历史仍然对后世有着深远影响，特别是北宋的政治制度和南宋的文化艺术成就，都对中国历史产生了重要的影响。 <class 'str'>\n"
     ]
    }
   ],
   "source": [
    "import langchain\n",
    "import os\n",
    "\n",
    "from langchain_openai import ChatOpenAI\n",
    "from langchain_core.prompts import ChatPromptTemplate\n",
    "from langchain_core.output_parsers import StrOutputParser\n",
    "\n",
    "api_key = os.getenv(\"OPENAI_API_KEY\")\n",
    "\n",
    "llm = ChatOpenAI(\n",
    "    openai_api_key=api_key,\n",
    "    temperature=0.9,\n",
    "    base_url = \"https://apejhvxcd.cloud.sealos.io/v1\"\n",
    ")\n",
    "\n",
    "prompt = ChatPromptTemplate.from_messages([\n",
    "    (\"system\", \"你是一个中国历史专家.\"),\n",
    "    (\"user\", \"{input}\")\n",
    "])\n",
    "\n",
    "output_parser = StrOutputParser()\n",
    "\n",
    "chain = prompt | llm | output_parser\n",
    "\n",
    "response = chain.invoke({\"input\":\"简单介绍一下宋朝的历史\"})\n",
    "print(response,type(response))"
   ]
  },
  {
   "cell_type": "markdown",
   "id": "f2376a93-66fb-4dd2-b457-82d1ca62e0d6",
   "metadata": {},
   "source": [
    "# 介绍模型绑定和控制"
   ]
  },
  {
   "cell_type": "code",
   "execution_count": 13,
   "id": "54b58c23-d290-4de7-8675-821f220e624b",
   "metadata": {},
   "outputs": [
    {
     "data": {
      "text/plain": [
       "'宋朝（960年-1279年）是中国历史上一个重要的王朝，分为北宋和南宋两个时期。'"
      ]
     },
     "execution_count": 13,
     "metadata": {},
     "output_type": "execute_result"
    }
   ],
   "source": [
    "import langchain\n",
    "import os\n",
    "\n",
    "from langchain_openai import ChatOpenAI\n",
    "from langchain_core.prompts import ChatPromptTemplate\n",
    "from langchain_core.output_parsers import StrOutputParser\n",
    "\n",
    "api_key = os.getenv(\"OPENAI_API_KEY\")\n",
    "\n",
    "llm2 = ChatOpenAI(\n",
    "    openai_api_key=api_key,\n",
    "    temperature=0.9,\n",
    "    base_url = \"https://apejhvxcd.cloud.sealos.io/v1\"\n",
    ")\n",
    "\n",
    "prompt2 = ChatPromptTemplate.from_messages([\n",
    "    (\"system\", \"你是一个中国历史专家.\"),\n",
    "    (\"user\", \"{input}\")\n",
    "])\n",
    "\n",
    "output_parser = StrOutputParser()\n",
    "\n",
    "chain2 = prompt2 | llm2.bind(stop=[\"\\n\"]) | output_parser\n",
    "\n",
    "chain2.invoke({\"input\":\"简单介绍一下宋朝的历史\"})"
   ]
  },
  {
   "cell_type": "markdown",
   "id": "9e8cabde-c997-431e-b4e8-9ea2159b2ba8",
   "metadata": {},
   "source": [
    "## 介绍一种可用但不推荐的组链方式"
   ]
  },
  {
   "cell_type": "code",
   "execution_count": 5,
   "id": "1d12e5b1-a890-41a0-8ff1-dde13a5cee3f",
   "metadata": {},
   "outputs": [
    {
     "name": "stdout",
     "output_type": "stream",
     "text": [
      "{'topic': '历史', 'language': 'chinese', 'text': 'Sure, here\\'s a joke about 历史 (lìshǐ), which means \"history\" in Chinese:\\n\\nWhy did the history book go to the dentist?\\n\\nBecause it had too many \"cavities\" to fill!'}\n"
     ]
    }
   ],
   "source": [
    "import langchain\n",
    "import os\n",
    "\n",
    "from langchain_openai import ChatOpenAI\n",
    "from langchain.chains import LLMChain\n",
    "from langchain.prompts import PromptTemplate\n",
    "from langchain_core.prompts import ChatPromptTemplate\n",
    "from langchain_core.output_parsers import StrOutputParser\n",
    "\n",
    "api_key = os.getenv(\"OPENAI_API_KEY\")\n",
    "\n",
    "llm = ChatOpenAI(\n",
    "    openai_api_key=api_key,\n",
    "    temperature=0.9,\n",
    "    base_url = \"https://apejhvxcd.cloud.sealos.io/v1\"\n",
    ")\n",
    "\n",
    "prompt = (\n",
    "    ChatPromptTemplate.from_template(\"Tell me a joke about {topic}\")\n",
    "    + \", make it funny\"\n",
    "    + \"\\n\\n and in {language}\"\n",
    "    \n",
    "    # PromptTemplate.from_template(\"Tell me a joke about {topic}\")\n",
    "    # + \", make it funny\"\n",
    "    # + \"\\n\\n and in {language}\"\n",
    ")\n",
    "\n",
    "# print(prompt)\n",
    "\n",
    "output_parser = StrOutputParser()\n",
    "\n",
    "#这种chain的组装方式是老的方式，不太推荐，推荐用新的 | 组装chain\n",
    "chain = LLMChain(llm=llm, prompt=prompt, output_parser=output_parser) \n",
    "\n",
    "print(chain.invoke({\"topic\":\"历史\", \"language\":\"chinese\"}))"
   ]
  }
 ],
 "metadata": {
  "kernelspec": {
   "display_name": "Python 3 (ipykernel)",
   "language": "python",
   "name": "python3"
  },
  "language_info": {
   "codemirror_mode": {
    "name": "ipython",
    "version": 3
   },
   "file_extension": ".py",
   "mimetype": "text/x-python",
   "name": "python",
   "nbconvert_exporter": "python",
   "pygments_lexer": "ipython3",
   "version": "3.10.8"
  }
 },
 "nbformat": 4,
 "nbformat_minor": 5
}
