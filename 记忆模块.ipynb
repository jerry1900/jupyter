{
 "cells": [
  {
   "cell_type": "markdown",
   "id": "a38ea29c-657a-4c2a-9fde-ccf2db1e7892",
   "metadata": {},
   "source": [
    "# 如何添加记忆模块"
   ]
  },
  {
   "cell_type": "markdown",
   "id": "df4dfe2f-ab15-46df-b0aa-b2189f651bd7",
   "metadata": {},
   "source": [
    "## ConversationBufferMemory 是一种最简单的memory，对聊天内容不做任何压缩和处理"
   ]
  },
  {
   "cell_type": "code",
   "execution_count": 21,
   "id": "35ebace3-835b-4e48-9f2a-9a5732a869fb",
   "metadata": {},
   "outputs": [
    {
     "data": {
      "text/plain": [
       "{'history': ''}"
      ]
     },
     "execution_count": 21,
     "metadata": {},
     "output_type": "execute_result"
    }
   ],
   "source": [
    "from langchain.memory import ConversationBufferMemory\n",
    "\n",
    "memory = ConversationBufferMemory()\n",
    "memory.load_memory_variables({})\n",
    "\n",
    "\n"
   ]
  },
  {
   "cell_type": "code",
   "execution_count": 14,
   "id": "99de2527-9f72-4545-901e-7ce61ef8f430",
   "metadata": {},
   "outputs": [
    {
     "data": {
      "text/plain": [
       "{'history': \"Human: hi!\\nAI: what's up?\"}"
      ]
     },
     "execution_count": 14,
     "metadata": {},
     "output_type": "execute_result"
    }
   ],
   "source": [
    "memory.chat_memory.add_user_message(\"hi!\")\n",
    "memory.chat_memory.add_ai_message(\"what's up?\")\n",
    "memory.load_memory_variables({})"
   ]
  },
  {
   "cell_type": "markdown",
   "id": "b30e7e33-c4f7-4667-b90e-ffb4bfdc1f9a",
   "metadata": {},
   "source": [
    "## 在LLMChain里添加记忆模块"
   ]
  },
  {
   "cell_type": "code",
   "execution_count": 1,
   "id": "adb605e8-bccc-4bf2-8db6-1b416afb00b4",
   "metadata": {},
   "outputs": [
    {
     "name": "stdout",
     "output_type": "stream",
     "text": [
      "\n",
      "\n",
      "\u001b[1m> Entering new LLMChain chain...\u001b[0m\n",
      "Prompt after formatting:\n",
      "\u001b[32;1m\u001b[1;3mYou are a nice chatbot having a conversation with a human.\n",
      "\n",
      "Previous conversation:\n",
      "\n",
      "\n",
      "New human question: hi\n",
      "Response:\u001b[0m\n",
      "\n",
      "\u001b[1m> Finished chain.\u001b[0m\n",
      "\n",
      "\n",
      "\u001b[1m> Entering new LLMChain chain...\u001b[0m\n",
      "Prompt after formatting:\n",
      "\u001b[32;1m\u001b[1;3mYou are a nice chatbot having a conversation with a human.\n",
      "\n",
      "Previous conversation:\n",
      "Human: hi\n",
      "AI:  Hello! How are you doing today?\n",
      "\n",
      "New human question: 你最喜欢什么动物?\n",
      "Response:\u001b[0m\n",
      "\n",
      "\u001b[1m> Finished chain.\u001b[0m\n",
      "\n",
      "\n",
      "\u001b[1m> Entering new LLMChain chain...\u001b[0m\n",
      "Prompt after formatting:\n",
      "\u001b[32;1m\u001b[1;3mYou are a nice chatbot having a conversation with a human.\n",
      "\n",
      "Previous conversation:\n",
      "Human: hi\n",
      "AI:  Hello! How are you doing today?\n",
      "Human: 你最喜欢什么动物?\n",
      "AI:  我最喜欢猫咪！它们又可爱又聪明，总是能给人带来快乐。你呢？你最喜欢什么动物？\n",
      "\n",
      "New human question: 那么它最爱吃什么?\n",
      "Response:\u001b[0m\n",
      "\n",
      "\u001b[1m> Finished chain.\u001b[0m\n"
     ]
    },
    {
     "data": {
      "text/plain": [
       "{'chat_history': 'Human: hi\\nAI:  Hello! How are you doing today?\\nHuman: 你最喜欢什么动物?\\nAI:  我最喜欢猫咪！它们又可爱又聪明，总是能给人带来快乐。你呢？你最喜欢什么动物？\\nHuman: 那么它最爱吃什么?\\nAI:  猫咪最爱吃鱼肉和鸡肉，但它们也喜欢吃一些猫粮和零食。它们的食量通常不会很大，但它们会经常吃小量的食物。你有宠物吗？它们喜欢吃什么？'}"
      ]
     },
     "execution_count": 1,
     "metadata": {},
     "output_type": "execute_result"
    }
   ],
   "source": [
    "import os\n",
    "\n",
    "from langchain_openai import OpenAI\n",
    "from langchain.prompts import PromptTemplate\n",
    "from langchain.chains import LLMChain\n",
    "from langchain.memory import ConversationBufferMemory\n",
    "\n",
    "\n",
    "llm = OpenAI(\n",
    "    temperature=0,\n",
    "    openai_api_key = os.getenv(\"OPENAI_API_KEY\"),\n",
    "    base_url = os.getenv(\"OPENAI_BASE_URL\")\n",
    ")\n",
    "\n",
    "# 注意，在模板里，要给聊天记录留下位置，聊天记录是通过注入给模板来实现的\n",
    "\n",
    "template = \"\"\"You are a nice chatbot having a conversation with a human.\n",
    "\n",
    "Previous conversation:\n",
    "{chat_history}\n",
    "\n",
    "New human question: {question}\n",
    "Response:\"\"\"\n",
    "\n",
    "\n",
    "prompt = PromptTemplate.from_template(template)\n",
    "\n",
    "# `memory_key`要和模板里的参数保持一致\n",
    "\n",
    "memory = ConversationBufferMemory(memory_key=\"chat_history\")\n",
    "\n",
    "conversation = LLMChain(\n",
    "    llm=llm,\n",
    "    prompt=prompt,\n",
    "    verbose=True, \n",
    "    memory=memory\n",
    ")\n",
    "\n",
    "conversation.invoke({\"question\":\"hi\"})\n",
    "conversation.invoke({\"question\":\"你最喜欢什么动物?\"})\n",
    "conversation.invoke({\"question\":\"那么它最爱吃什么?\"})\n",
    "\n",
    "memory.load_memory_variables({})"
   ]
  },
  {
   "cell_type": "markdown",
   "id": "6e521231-46a7-44ee-b255-59298394f148",
   "metadata": {},
   "source": [
    "## 在LCEL 模式下的chain里添加 memory"
   ]
  },
  {
   "cell_type": "code",
   "execution_count": 24,
   "id": "d3e5f4e6-090d-4e59-909c-7e93987c9b58",
   "metadata": {},
   "outputs": [],
   "source": [
    "import langchain\n",
    "import os\n",
    "\n",
    "from operator import itemgetter\n",
    "\n",
    "from langchain_openai import ChatOpenAI\n",
    "from langchain_core.prompts import ChatPromptTemplate,MessagesPlaceholder\n",
    "from langchain_core.runnables import RunnableLambda, RunnablePassthrough\n",
    "from langchain.memory import ConversationBufferMemory\n",
    "\n",
    "\n",
    "\n",
    "llm = ChatOpenAI(\n",
    "    temperature=0,\n",
    "    openai_api_key = os.getenv(\"OPENAI_API_KEY\"),\n",
    "    base_url = os.getenv(\"OPENAI_BASE_URL\")\n",
    ")\n"
   ]
  },
  {
   "cell_type": "markdown",
   "id": "b1b33410-41f7-4b24-88f4-b6ca7d0f4c69",
   "metadata": {},
   "source": [
    "## 注意 return_messages = True是因为我们选择的是聊天模型包装器ChatOpenAI，memory也要对应选择返回的是messages消息体而不是str"
   ]
  },
  {
   "cell_type": "code",
   "execution_count": 25,
   "id": "036d68fe-46d6-4a0a-89b0-27b91cf9195a",
   "metadata": {},
   "outputs": [
    {
     "data": {
      "text/plain": [
       "{'history': []}"
      ]
     },
     "execution_count": 25,
     "metadata": {},
     "output_type": "execute_result"
    }
   ],
   "source": [
    "memory = ConversationBufferMemory(return_messages=True)\n",
    "\n",
    "prompt = ChatPromptTemplate.from_messages([\n",
    "    (\"system\", \"你是一个中国历史专家.\"),\n",
    "    MessagesPlaceholder(variable_name=\"history\"),\n",
    "    (\"user\", \"{input}\")\n",
    "])\n",
    "\n",
    "memory.load_memory_variables({})"
   ]
  },
  {
   "cell_type": "code",
   "execution_count": 28,
   "id": "bb97bde0-1d8e-4cb7-bc7d-0dce073183ac",
   "metadata": {},
   "outputs": [
    {
     "name": "stdout",
     "output_type": "stream",
     "text": [
      "content='中国改革开放的总设计师是邓小平。邓小平是中国共产党的杰出领导人，他在1978年提出了改革开放的政策，推动了中国经济的快速发展和社会的变革。他的改革开放政策包括引进外资、开放市场、发展私营经济等一系列措施，为中国的现代化建设奠定了基础。邓小平的改革开放政策被视为中国历史上的重大转折点，对中国的发展产生了深远的影响。'\n"
     ]
    },
    {
     "data": {
      "text/plain": [
       "{'history': []}"
      ]
     },
     "execution_count": 28,
     "metadata": {},
     "output_type": "execute_result"
    }
   ],
   "source": [
    "memory = ConversationBufferMemory(return_messages=True)\n",
    "\n",
    "chain = (\n",
    "    RunnablePassthrough.assign(\n",
    "        history=  RunnableLambda(memory.load_memory_variables) | itemgetter(\"history\")\n",
    "    )\n",
    "    | prompt\n",
    "    | llm\n",
    ")\n",
    "\n",
    "\n",
    "input = {\"input\":\"中国改革开放的总设计师是谁?\"}\n",
    "response = chain.invoke(input)\n",
    "print(response)\n",
    "\n",
    "# memory.save_context(input, {\"output\": response.content})\n",
    "memory.load_memory_variables({})"
   ]
  },
  {
   "cell_type": "code",
   "execution_count": 28,
   "id": "a03cbb1e-e2a5-4e56-b6ee-242746ebd250",
   "metadata": {},
   "outputs": [
    {
     "data": {
      "text/plain": [
       "{'history': []}"
      ]
     },
     "execution_count": 28,
     "metadata": {},
     "output_type": "execute_result"
    }
   ],
   "source": [
    "# memory.save_context(input, {\"output\": response.content})\n",
    "\n",
    "memory.load_memory_variables({})"
   ]
  },
  {
   "cell_type": "code",
   "execution_count": 29,
   "id": "ed6400ba-a6a6-402b-b398-7176056d27c4",
   "metadata": {},
   "outputs": [
    {
     "name": "stdout",
     "output_type": "stream",
     "text": [
      "content='很抱歉，我无法回答你的问题，因为你没有提供具体的人物信息。中国历史悠久，有许多重要人物，每个人物的去世时间都不同。如果你能提供更多的背景信息，我将尽力帮助你回答。'\n"
     ]
    },
    {
     "data": {
      "text/plain": [
       "{'history': []}"
      ]
     },
     "execution_count": 29,
     "metadata": {},
     "output_type": "execute_result"
    }
   ],
   "source": [
    "input = {\"input\":\"他是什么时候去世的?\"}\n",
    "response = chain.invoke(input)\n",
    "print(response)\n",
    "\n",
    "memory.load_memory_variables({})"
   ]
  },
  {
   "cell_type": "code",
   "execution_count": 30,
   "id": "f79cf242-e982-46e4-b348-e633c19b9d87",
   "metadata": {},
   "outputs": [
    {
     "data": {
      "text/plain": [
       "{'history': [HumanMessage(content='他是什么时候去世的?'),\n",
       "  AIMessage(content='很抱歉，我无法回答你的问题，因为你没有提供具体的人物信息。如果你能提供人物的姓名和背景，我将尽力为你提供相关的信息。')]}"
      ]
     },
     "execution_count": 30,
     "metadata": {},
     "output_type": "execute_result"
    }
   ],
   "source": [
    "memory.save_context(input, {\"output\": response.content})\n",
    "\n",
    "memory.load_memory_variables({})"
   ]
  }
 ],
 "metadata": {
  "kernelspec": {
   "display_name": "Python 3 (ipykernel)",
   "language": "python",
   "name": "python3"
  },
  "language_info": {
   "codemirror_mode": {
    "name": "ipython",
    "version": 3
   },
   "file_extension": ".py",
   "mimetype": "text/x-python",
   "name": "python",
   "nbconvert_exporter": "python",
   "pygments_lexer": "ipython3",
   "version": "3.10.8"
  }
 },
 "nbformat": 4,
 "nbformat_minor": 5
}
