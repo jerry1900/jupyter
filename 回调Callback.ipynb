{
 "cells": [
  {
   "cell_type": "markdown",
   "id": "07e5dc21-794e-4c86-90fc-efa83c18dd15",
   "metadata": {},
   "source": [
    "# 介绍langchain的回调模块和用法"
   ]
  },
  {
   "cell_type": "markdown",
   "id": "15f87eab-521e-458c-90de-d78cb9c084d2",
   "metadata": {},
   "source": [
    "## 简单同步回调，对于LLMChain来说，和verbose作用相同"
   ]
  },
  {
   "cell_type": "code",
   "execution_count": 2,
   "id": "6e554a7c-f326-4186-8cc6-5db48c4b09e6",
   "metadata": {},
   "outputs": [
    {
     "name": "stdout",
     "output_type": "stream",
     "text": [
      "\n",
      "\n",
      "\u001b[1m> Entering new LLMChain chain...\u001b[0m\n",
      "Prompt after formatting:\n",
      "\u001b[32;1m\u001b[1;3m1987年是中国生肖年的哪年？\u001b[0m\n",
      "\n",
      "\u001b[1m> Finished chain.\u001b[0m\n"
     ]
    },
    {
     "data": {
      "text/plain": [
       "{'year': 1987, 'text': '\\n\\n1987年是中国生肖年的兔年。'}"
      ]
     },
     "execution_count": 2,
     "metadata": {},
     "output_type": "execute_result"
    }
   ],
   "source": [
    "import os\n",
    "\n",
    "from langchain.callbacks import StdOutCallbackHandler\n",
    "\n",
    "from langchain.chains import LLMChain\n",
    "from langchain_openai import OpenAI\n",
    "from langchain.prompts import PromptTemplate\n",
    "\n",
    "handler = StdOutCallbackHandler()\n",
    "\n",
    "llm = OpenAI(\n",
    "    temperature=0,\n",
    "    openai_api_key = os.getenv(\"OPENAI_API_KEY\"),\n",
    "    base_url = os.getenv(\"OPENAI_BASE_URL\"),\n",
    " \n",
    ")\n",
    "\n",
    "prompt = PromptTemplate.from_template(\"{year}年是中国生肖年的哪年？\")\n",
    "\n",
    "chain_callback =  LLMChain(\n",
    "    llm=llm,\n",
    "    prompt=prompt,\n",
    "    # callbacks = [handler]\n",
    "    verbose = True\n",
    ")\n",
    "\n",
    "chain_callback.invoke({\"year\":1987})"
   ]
  },
  {
   "cell_type": "markdown",
   "id": "98484467-1e71-49e2-8c57-2b540f0ea002",
   "metadata": {},
   "source": [
    "## 使用 FileCallbackHandler 进行日志输出"
   ]
  },
  {
   "cell_type": "code",
   "execution_count": 3,
   "id": "cec76e82-833f-4b0b-9d86-95e87ad33bc0",
   "metadata": {},
   "outputs": [
    {
     "name": "stdout",
     "output_type": "stream",
     "text": [
      "\n",
      "\n",
      "\u001b[1m> Entering new LLMChain chain...\u001b[0m\n",
      "Prompt after formatting:\n",
      "\u001b[32;1m\u001b[1;3m1988年是中国生肖年的哪年？\u001b[0m\n"
     ]
    },
    {
     "name": "stderr",
     "output_type": "stream",
     "text": [
      "\u001b[32m2024-01-31 16:03:40.488\u001b[0m | \u001b[1mINFO    \u001b[0m | \u001b[36m__main__\u001b[0m:\u001b[36m<module>\u001b[0m:\u001b[36m19\u001b[0m - \u001b[1m{'year': 1988, 'text': '\\n\\n1988年是中国生肖年的龙年。'}\u001b[0m\n"
     ]
    },
    {
     "name": "stdout",
     "output_type": "stream",
     "text": [
      "\n",
      "\u001b[1m> Finished chain.\u001b[0m\n"
     ]
    }
   ],
   "source": [
    "from loguru import logger\n",
    "\n",
    "from langchain.callbacks import FileCallbackHandler\n",
    "\n",
    "logfile = 'output.log'\n",
    "\n",
    "logger.add(logfile,colorize=True,enqueue = True)\n",
    "\n",
    "handler = FileCallbackHandler(logfile)\n",
    "\n",
    "chain =  LLMChain(\n",
    "    llm=llm,\n",
    "    prompt=prompt,\n",
    "    callbacks = [handler],\n",
    "    verbose = True\n",
    ")\n",
    "\n",
    "response = chain.invoke({\"year\":1988})\n",
    "logger.info(response)"
   ]
  },
  {
   "cell_type": "code",
   "execution_count": 4,
   "id": "5264c360-3ded-475c-908a-1f0e67182e90",
   "metadata": {},
   "outputs": [
    {
     "name": "stdout",
     "output_type": "stream",
     "text": [
      "\n",
      "\n",
      "\u001b[1m> Entering new LLMChain chain...\u001b[0m\n",
      "Prompt after formatting:\n",
      "\u001b[32;1m\u001b[1;3m1988年是中国生肖年的哪年？\u001b[0m\n",
      "\n",
      "\u001b[1m> Finished chain.\u001b[0m\n",
      "\u001b[32m2024-01-30 10:14:16.758\u001b[0m | \u001b[1mINFO    \u001b[0m | \u001b[36m__main__\u001b[0m:\u001b[36m<module>\u001b[0m:\u001b[36m16\u001b[0m - \u001b[1m{'year': 1988, 'text': '\\n\\n1988年是中国生肖年的龙年。'}\u001b[0m\n",
      "\u001b[32m2024-01-30 10:14:16.758\u001b[0m | \u001b[1mINFO    \u001b[0m | \u001b[36m__main__\u001b[0m:\u001b[36m<module>\u001b[0m:\u001b[36m16\u001b[0m - \u001b[1m{'year': 1988, 'text': '\\n\\n1988年是中国生肖年的龙年。'}\u001b[0m\n",
      "\n",
      "\n",
      "\u001b[1m> Entering new LLMChain chain...\u001b[0m\n",
      "Prompt after formatting:\n",
      "\u001b[32;1m\u001b[1;3m1988年是中国生肖年的哪年？\u001b[0m\n",
      "\n",
      "\u001b[1m> Finished chain.\u001b[0m\n",
      "\u001b[32m2024-01-30 10:46:51.005\u001b[0m | \u001b[1mINFO    \u001b[0m | \u001b[36m__main__\u001b[0m:\u001b[36m<module>\u001b[0m:\u001b[36m14\u001b[0m - \u001b[1m{'year': 1988, 'text': '\\n\\n1988年是中国生肖年的龙年。'}\u001b[0m\n",
      "\u001b[32m2024-01-30 10:46:51.005\u001b[0m | \u001b[1mINFO    \u001b[0m | \u001b[36m__main__\u001b[0m:\u001b[36m<module>\u001b[0m:\u001b[36m14\u001b[0m - \u001b[1m{'year': 1988, 'text': '\\n\\n1988年是中国生肖年的龙年。'}\u001b[0m\n",
      "\u001b[32m2024-01-30 10:46:51.005\u001b[0m | \u001b[1mINFO    \u001b[0m | \u001b[36m__main__\u001b[0m:\u001b[36m<module>\u001b[0m:\u001b[36m14\u001b[0m - \u001b[1m{'year': 1988, 'text': '\\n\\n1988年是中国生肖年的龙年。'}\u001b[0m\n",
      "\n",
      "\n",
      "\u001b[1m> Entering new LLMChain chain...\u001b[0m\n",
      "Prompt after formatting:\n",
      "\u001b[32;1m\u001b[1;3m1988年是中国生肖年的哪年？\u001b[0m\n",
      "\n",
      "\u001b[1m> Finished chain.\u001b[0m\n",
      "\u001b[32m2024-01-31 16:03:40.488\u001b[0m | \u001b[1mINFO    \u001b[0m | \u001b[36m__main__\u001b[0m:\u001b[36m<module>\u001b[0m:\u001b[36m19\u001b[0m - \u001b[1m{'year': 1988, 'text': '\\n\\n1988年是中国生肖年的龙年。'}\u001b[0m\n",
      "\n"
     ]
    }
   ],
   "source": [
    "with open('output.log','r',encoding='utf-8') as file:\n",
    "    content = file.read()\n",
    "    \n",
    "print(content)"
   ]
  },
  {
   "cell_type": "markdown",
   "id": "6f19496c-d993-4143-bfd5-4bd05ef70509",
   "metadata": {},
   "source": [
    "## 使用get_openai_callback回调实现token计数"
   ]
  },
  {
   "cell_type": "code",
   "execution_count": 5,
   "id": "6cf0c2dd-96f4-4da1-be4c-01caa76330e5",
   "metadata": {},
   "outputs": [
    {
     "name": "stdout",
     "output_type": "stream",
     "text": [
      "46\n"
     ]
    }
   ],
   "source": [
    "from langchain.callbacks import get_openai_callback\n",
    "\n",
    "\n",
    "llm = OpenAI(\n",
    "    temperature=0,\n",
    "    openai_api_key = os.getenv(\"OPENAI_API_KEY\"),\n",
    "    base_url = os.getenv(\"OPENAI_BASE_URL\"),\n",
    ")\n",
    "\n",
    "with get_openai_callback() as cb:\n",
    "    llm.invoke(\"牛顿什么时候发现的万有引力定律？\")\n",
    "\n",
    "total_tokens = cb.total_tokens\n",
    "assert total_tokens >0\n",
    "\n",
    "print(total_tokens)"
   ]
  },
  {
   "cell_type": "code",
   "execution_count": 6,
   "id": "136d0c1f-1175-482f-b2d6-3ffb2c26964f",
   "metadata": {},
   "outputs": [
    {
     "name": "stdout",
     "output_type": "stream",
     "text": [
      "\n",
      "\n",
      "\u001b[1m> Entering new LLMChain chain...\u001b[0m\n",
      "Prompt after formatting:\n",
      "\u001b[32;1m\u001b[1;3m1988年是中国生肖年的哪年？\u001b[0m\n"
     ]
    },
    {
     "name": "stderr",
     "output_type": "stream",
     "text": [
      "\u001b[32m2024-01-31 16:08:02.635\u001b[0m | \u001b[1mINFO    \u001b[0m | \u001b[36m__main__\u001b[0m:\u001b[36m<module>\u001b[0m:\u001b[36m14\u001b[0m - \u001b[1m{'year': 1988, 'text': '\\n\\n1988年是中国生肖年的龙年。'}\u001b[0m\n"
     ]
    },
    {
     "name": "stdout",
     "output_type": "stream",
     "text": [
      "\n",
      "\u001b[1m> Finished chain.\u001b[0m\n",
      "29\n"
     ]
    }
   ],
   "source": [
    "with get_openai_callback() as cb:\n",
    "    logfile = 'output.log'\n",
    "    logger.add(logfile,colorize=True,enqueue = True)\n",
    "    handler = FileCallbackHandler(logfile)\n",
    "\n",
    "    chain =  LLMChain(\n",
    "    llm=llm,\n",
    "    prompt=prompt,\n",
    "    callbacks = [handler],\n",
    "    verbose = True\n",
    "    )\n",
    "\n",
    "    response = chain.invoke({\"year\":1988})\n",
    "    logger.info(response)\n",
    "\n",
    "total_tokens = cb.total_tokens\n",
    "assert total_tokens >0\n",
    "\n",
    "print(total_tokens)    "
   ]
  }
 ],
 "metadata": {
  "kernelspec": {
   "display_name": "Python 3 (ipykernel)",
   "language": "python",
   "name": "python3"
  },
  "language_info": {
   "codemirror_mode": {
    "name": "ipython",
    "version": 3
   },
   "file_extension": ".py",
   "mimetype": "text/x-python",
   "name": "python",
   "nbconvert_exporter": "python",
   "pygments_lexer": "ipython3",
   "version": "3.10.8"
  }
 },
 "nbformat": 4,
 "nbformat_minor": 5
}
