{
 "cells": [
  {
   "cell_type": "markdown",
   "id": "dba248ba-ba47-4f05-87c2-08a45a985c50",
   "metadata": {},
   "source": [
    "# 介绍数据增强的数据加载、转换"
   ]
  },
  {
   "cell_type": "markdown",
   "id": "0457941f-3129-47c6-acf4-2e66c4484bf2",
   "metadata": {},
   "source": [
    "## 使用PDF加载器加载一个PDF文档"
   ]
  },
  {
   "cell_type": "code",
   "execution_count": null,
   "id": "aab54ba8-4607-4492-aa41-c610cc43319a",
   "metadata": {},
   "outputs": [],
   "source": [
    "pip install pypdf"
   ]
  },
  {
   "cell_type": "markdown",
   "id": "78a7ae29-d53d-428d-96b5-dc935aab8fac",
   "metadata": {},
   "source": [
    "## 加载rapidocr-onnxruntime可以加载PDF里图像中的文字"
   ]
  },
  {
   "cell_type": "code",
   "execution_count": 10,
   "id": "e4d86df0-cffe-408b-b638-65d1120fe835",
   "metadata": {},
   "outputs": [
    {
     "name": "stdout",
     "output_type": "stream",
     "text": [
      "Note: you may need to restart the kernel to use updated packages.\n"
     ]
    },
    {
     "name": "stderr",
     "output_type": "stream",
     "text": [
      "ERROR: Invalid requirement: '#'\n",
      "\n",
      "[notice] A new release of pip available: 22.2.2 -> 23.3.2\n",
      "[notice] To update, run: python.exe -m pip install --upgrade pip\n"
     ]
    }
   ],
   "source": [
    "pip install rapidocr-onnxruntime "
   ]
  },
  {
   "cell_type": "markdown",
   "id": "86bead6b-867c-4d5d-8976-33e1911a39ab",
   "metadata": {},
   "source": [
    "## 注意加载本地文件的时候要注意 \\ 是转义符，直接填入地址会报错"
   ]
  },
  {
   "cell_type": "code",
   "execution_count": 4,
   "id": "41cdbaf4-974e-4791-a5db-52cb3a7057d2",
   "metadata": {},
   "outputs": [
    {
     "name": "stdout",
     "output_type": "stream",
     "text": [
      "page_content='目录\\n一、项目背景..................................................................................................................................2\\n二、需求介绍..................................................................................................................................2\\n一、项目背景\\n天伟化学，目前在用我们的智能巡检产品（2.0），目前客户使用反馈可以满足一线员\\n工的日常设备巡检，但是无法满足其他巡检需求，如重大危险源、工艺、安全巡检；并且我\\n们的产品设计之初考虑的直接使用者是一线外操人员，没有考虑其他角色（厂领导、值班领\\n导等其他角色）。且现有巡检2.0产品，终端无法跨组织使用，无法满足天伟的需求。\\n为了更好地服务客户，现考虑将天伟化工从巡检2.0升级到巡检3.0，为了满足天伟对\\n于重大危险源、工艺、安全、设备四类巡检工作的展现和统计要求，需对巡检3.0做项目提\\n升。\\n同时，为了更好地提升现有巡检产品，此次需求不仅考虑天伟的需求，同时考虑产品的\\n通用性，以便其他客户能够更好地使用我们的巡检3.0产品。\\n二、需求介绍\\n1.需求总体思路\\n对于路线和设备，引入一个“巡检主题”类型的概念。所谓“巡检主题”是指不同类型\\n的巡检，比如设备巡检（我们现有的），我们可以根据客户实际需要配置新的巡检主题，比\\n如工艺、安全、重大危险源或其他“主题”。\\n对于路线、设备、巡检项，新增一个属性“巡检主题”。默认的巡检主题是设备，是我\\n们目前现有的模式，用户在添加路线和巡检项时，可以选择不同的巡检主题。\\n一个路线、一个巡检项只能有一种巡检主题；一个设备可以有多个巡检主题；\\n路线有了类型，那么巡检任务也会有不同的“巡检主题”，在APP和后台展示不同类\\n型的巡检任务，会有不同的标识，帮助用户区分不同类型的任务。同时在工作台、统计和报\\n表中，要对不同类型的路线和任务进行统计，增加筛选条件。设备\\n现有的\\n单一类型\\n路线\\n工艺\\n多种属性\\n设备\\n巡检主题\\n安全\\n单一类型\\n巡检项\\n重大危险源\\n其他' metadata={'source': 'C:\\\\Users\\\\Administrator\\\\Desktop\\\\AI\\\\PRD.pdf', 'page': 1}\n",
      "<class 'list'>\n"
     ]
    }
   ],
   "source": [
    "import sys\n",
    "\n",
    "from langchain_community.document_loaders import PyPDFLoader\n",
    "\n",
    "\n",
    "loader = PyPDFLoader(r\"C:\\Users\\Administrator\\Desktop\\AI\\PRD.pdf\", extract_images=True)\n",
    "pages = loader.load_and_split()\n",
    "\n",
    "print(pages[1])\n",
    "print(type(pages))"
   ]
  },
  {
   "cell_type": "code",
   "execution_count": 5,
   "id": "2d474102-9038-4895-9fb5-f9f5571cfc85",
   "metadata": {},
   "outputs": [
    {
     "name": "stdout",
     "output_type": "stream",
     "text": [
      "page_content='巡检3.0产品提升需求\\n时间 版本 改动内容 待解决问题 作者\\n2023-08-22 1.0介绍项目背景、需求介绍；\\n目标版本v3.8.7.0万贺\\n2023-8-25 1.1经和杨红梅、卓玉保等讨论，修改思路，将\\n巡检主题作为设备的一个内在属性（新增设\\n备时无需选择），在新增巡检项时选择是哪\\n一种巡检主题。万贺' metadata={'source': 'C:\\\\Users\\\\Administrator\\\\Desktop\\\\AI\\\\PRD.pdf', 'page': 0}\n",
      "<class 'list'>\n"
     ]
    }
   ],
   "source": [
    "loader = PyPDFLoader(\"C:\\\\Users\\\\Administrator\\\\Desktop\\\\AI\\\\PRD.pdf\")\n",
    "pages = loader.load_and_split()\n",
    "\n",
    "print(pages[0])\n",
    "print(type(pages))"
   ]
  },
  {
   "cell_type": "markdown",
   "id": "c2331194-be34-4670-847a-fc6eaa3e67f2",
   "metadata": {},
   "source": [
    "## 查看加载文档的内存地址和大小"
   ]
  },
  {
   "cell_type": "code",
   "execution_count": 9,
   "id": "67730475-493a-4b12-ae06-64c137f21094",
   "metadata": {},
   "outputs": [
    {
     "name": "stdout",
     "output_type": "stream",
     "text": [
      "Memory Address: 2902002569216\n",
      "Object Size: 120 bytes\n"
     ]
    }
   ],
   "source": [
    "memory_address = id(pages)\n",
    "print(f\"Memory Address: {memory_address}\")\n",
    "\n",
    "object_size = sys.getsizeof(pages)\n",
    "print(f\"Object Size: {object_size} bytes\")"
   ]
  },
  {
   "cell_type": "markdown",
   "id": "b17479b2-91aa-4a9c-844f-300a4dec2866",
   "metadata": {},
   "source": [
    "## 对文档进行切分"
   ]
  },
  {
   "cell_type": "code",
   "execution_count": 7,
   "id": "8b311da8-91a9-47cc-ba52-1e5f69cffcb8",
   "metadata": {},
   "outputs": [
    {
     "name": "stdout",
     "output_type": "stream",
     "text": [
      "Object Size: 376 bytes\n",
      "[Document(page_content='巡检3.0产品提升需求\\n时间 版本 改动内容 待解决问题 作者\\n2023-08-22 1.0介绍项目背景、需求介绍；\\n目标版本v3.8.7.0万贺\\n2023-8-25 1.1经和杨红梅、卓玉保等讨论，修改思路，将\\n巡检主题作为设备的一个内在属性（新增设\\n备时无需选择），在新增巡检项时选择是哪\\n一种巡检主题。万贺', metadata={'source': 'C:\\\\Users\\\\Administrator\\\\Desktop\\\\AI\\\\PRD.pdf', 'page': 0}), Document(page_content='目录\\n一、项目背景..................................................................................................................................2', metadata={'source': 'C:\\\\Users\\\\Administrator\\\\Desktop\\\\AI\\\\PRD.pdf', 'page': 1}), Document(page_content='二、需求介绍..................................................................................................................................2\\n一、项目背景\\n天伟化学，目前在用我们的智能巡检产品（2.0），目前客户使用反馈可以满足一线员', metadata={'source': 'C:\\\\Users\\\\Administrator\\\\Desktop\\\\AI\\\\PRD.pdf', 'page': 1}), Document(page_content='一、项目背景\\n天伟化学，目前在用我们的智能巡检产品（2.0），目前客户使用反馈可以满足一线员\\n工的日常设备巡检，但是无法满足其他巡检需求，如重大危险源、工艺、安全巡检；并且我\\n们的产品设计之初考虑的直接使用者是一线外操人员，没有考虑其他角色（厂领导、值班领\\n导等其他角色）。且现有巡检2.0产品，终端无法跨组织使用，无法满足天伟的需求。', metadata={'source': 'C:\\\\Users\\\\Administrator\\\\Desktop\\\\AI\\\\PRD.pdf', 'page': 1}), Document(page_content='导等其他角色）。且现有巡检2.0产品，终端无法跨组织使用，无法满足天伟的需求。\\n为了更好地服务客户，现考虑将天伟化工从巡检2.0升级到巡检3.0，为了满足天伟对\\n于重大危险源、工艺、安全、设备四类巡检工作的展现和统计要求，需对巡检3.0做项目提\\n升。\\n同时，为了更好地提升现有巡检产品，此次需求不仅考虑天伟的需求，同时考虑产品的\\n通用性，以便其他客户能够更好地使用我们的巡检3.0产品。', metadata={'source': 'C:\\\\Users\\\\Administrator\\\\Desktop\\\\AI\\\\PRD.pdf', 'page': 1}), Document(page_content='通用性，以便其他客户能够更好地使用我们的巡检3.0产品。\\n二、需求介绍\\n1.需求总体思路\\n对于路线和设备，引入一个“巡检主题”类型的概念。所谓“巡检主题”是指不同类型\\n的巡检，比如设备巡检（我们现有的），我们可以根据客户实际需要配置新的巡检主题，比\\n如工艺、安全、重大危险源或其他“主题”。\\n对于路线、设备、巡检项，新增一个属性“巡检主题”。默认的巡检主题是设备，是我', metadata={'source': 'C:\\\\Users\\\\Administrator\\\\Desktop\\\\AI\\\\PRD.pdf', 'page': 1}), Document(page_content='对于路线、设备、巡检项，新增一个属性“巡检主题”。默认的巡检主题是设备，是我\\n们目前现有的模式，用户在添加路线和巡检项时，可以选择不同的巡检主题。\\n一个路线、一个巡检项只能有一种巡检主题；一个设备可以有多个巡检主题；\\n路线有了类型，那么巡检任务也会有不同的“巡检主题”，在APP和后台展示不同类\\n型的巡检任务，会有不同的标识，帮助用户区分不同类型的任务。同时在工作台、统计和报', metadata={'source': 'C:\\\\Users\\\\Administrator\\\\Desktop\\\\AI\\\\PRD.pdf', 'page': 1}), Document(page_content='型的巡检任务，会有不同的标识，帮助用户区分不同类型的任务。同时在工作台、统计和报\\n表中，要对不同类型的路线和任务进行统计，增加筛选条件。设备\\n现有的\\n单一类型\\n路线\\n工艺\\n多种属性\\n设备\\n巡检主题\\n安全\\n单一类型\\n巡检项\\n重大危险源\\n其他', metadata={'source': 'C:\\\\Users\\\\Administrator\\\\Desktop\\\\AI\\\\PRD.pdf', 'page': 1}), Document(page_content='2.“巡检管理”\\n2.1“巡检管理-巡检项管理”调整\\n在“设备名称”下，新增一个单选下拉框，命名为“巡检主题”，选项有默认为“设备”，\\n其他选项有“工艺、安全、重大危险源”。\\n2.2“巡检管理-路线管理”调整\\n路线管理页面调整，新增“巡检主题”筛选条件；\\n在查询结果页面，将原有的“巡检模式”去掉，替换成“巡检主题”字段；\\n在添加路线时，新增一个选项“巡检主题”，默认选择为“设备”；该选项在路线禁用', metadata={'source': 'C:\\\\Users\\\\Administrator\\\\Desktop\\\\AI\\\\PRD.pdf', 'page': 2}), Document(page_content='在添加路线时，新增一个选项“巡检主题”，默认选择为“设备”；该选项在路线禁用\\n-编辑时不可被修改：1添加巡检项\\n设备名称：\\n请输入设备名称\\n查内容：\\n请输入检查内容\\n停用状态下也生成任务\\n周期频次：\\n请选择周期频次\\n检查类型：\\n请选择检查类型\\n内外操核对项目：\\n巡检顺序：\\n请输入序号\\n保存\\n保存并继续添加\\n取消巡检管理/路线管理\\n组织机构：\\n总厂机构\\n路线名称：\\n请输入路线名称\\n路线状态：', metadata={'source': 'C:\\\\Users\\\\Administrator\\\\Desktop\\\\AI\\\\PRD.pdf', 'page': 2}), Document(page_content='取消巡检管理/路线管理\\n组织机构：\\n总厂机构\\n路线名称：\\n请输入路线名称\\n路线状态：\\n请选择路线状态\\n查询\\n重置\\n巡检主题：\\n设备\\n批量禁用\\n启用\\n批量删除\\n添加\\n序号\\n路线名称\\n巡检主题\\n所属机构\\n禁用计划时间\\n路线状态\\n操作\\n测11\\n设备\\n拓盛公司\\n草稿\\n编辑查看\\n删除\\n大门打卡\\n重大危险源\\n测试机构\\n草稿\\n编辑\\n查看\\n删除\\n路线一天一次（巡检项一天两次）测...\\n工艺\\n拓盛公司\\n启用', metadata={'source': 'C:\\\\Users\\\\Administrator\\\\Desktop\\\\AI\\\\PRD.pdf', 'page': 2}), Document(page_content='测试机构\\n草稿\\n编辑\\n查看\\n删除\\n路线一天一次（巡检项一天两次）测...\\n工艺\\n拓盛公司\\n启用\\n禁用编辑查看\\n删除\\n一天两轮路线（巡检项有三种）测试\\n安全\\n拓盛公司\\n启用\\n禁用编辑查看删除\\n正式测试路线（观察、测温、测振）\\n拓盛公司\\n启用\\n禁用\\n编辑查看\\n删除', metadata={'source': 'C:\\\\Users\\\\Administrator\\\\Desktop\\\\AI\\\\PRD.pdf', 'page': 2}), Document(page_content='重要：在做巡检项关联时，只有相同巡检主题的路线和巡检项才能匹配。换句话\\n说，如果新增路线时选择了“工艺”巡检主题，那么只有巡检项主题为“工艺”的巡\\n检项才能被路线关联。\\n2.3“巡检管理-巡检任务”\\n巡检任务进行调整：\\n1将“用户名”条件项替换为“巡检主题”，默认选项为“全部”（其余所有的筛选\\n条件都按照这个来，不再复述）\\n2在查询结果里新增“巡检主题”字段\\n3.“我的工作台”', metadata={'source': 'C:\\\\Users\\\\Administrator\\\\Desktop\\\\AI\\\\PRD.pdf', 'page': 3}), Document(page_content='条件都按照这个来，不再复述）\\n2在查询结果里新增“巡检主题”字段\\n3.“我的工作台”\\n我的工作台进行交互调整，具体见交互页面：\\n1.“设备总数”显示的是设备的合计数量；“工艺总数”显示的是巡检主题这个属性\\n为“工艺”的设备数量。例如，总共有100个设备，有20个设备下有属性为“工艺”的巡\\n检项，那么“工艺总数”为20，表示有20台设备具有“工艺”属性，或者说有20台设备', metadata={'source': 'C:\\\\Users\\\\Administrator\\\\Desktop\\\\AI\\\\PRD.pdf', 'page': 3}), Document(page_content='检项，那么“工艺总数”为20，表示有20台设备具有“工艺”属性，或者说有20台设备\\n下有关联“工艺”巡检项。新增路线\\n新增一个\\n路线名称：\\n请输入路线名称\\n巡检主题”\\n所属部门：\\n总厂机构\\n选择翻班：\\n请选择翻班\\n预览\\n选择轮次：\\n请选择轮次\\n预览\\n轮次关联周期：\\n暂无\\n翻班基准日：\\n选择日期\\n关联巡检项：\\n关联\\n纽扣数量：0\\n设备数量：0\\n巡检数量：0\\n纽扣刷卡间隔：', metadata={'source': 'C:\\\\Users\\\\Administrator\\\\Desktop\\\\AI\\\\PRD.pdf', 'page': 3}), Document(page_content='选择日期\\n关联巡检项：\\n关联\\n纽扣数量：0\\n设备数量：0\\n巡检数量：0\\n纽扣刷卡间隔：\\n分钟巡检管理/巡检任务/巡检任务\\n组织机构：\\n总厂机构\\n路线名称：\\n请输入路线名称\\n巡检主题：\\n执行状态：\\n全部\\n巡检日期：\\n2023-08-22\\n2023-08-22\\n查询\\n重置\\n新增筛选条件和\\n巡检主题字段务\\n路线名称\\n轮次\\n巡检数（已检/总\\n序号\\n班组\\n班次\\n计划开始时间\\n计划截止时间\\n免责项\\n操作', metadata={'source': 'C:\\\\Users\\\\Administrator\\\\Desktop\\\\AI\\\\PRD.pdf', 'page': 3}), Document(page_content='路线名称\\n轮次\\n巡检数（已检/总\\n序号\\n班组\\n班次\\n计划开始时间\\n计划截止时间\\n免责项\\n操作\\n数)\\n一天两轮路线（巡检项\\n第1轮\\n一班\\n全天班次\\n2023-08-220...\\n2023-08-2223..\\n0/1\\n查看\\n联迈常规巡检任务\\n第1轮\\n全天班次\\n2023-08-2200...\\n2023-08-2212...\\n0/3\\n查看\\n一天两轮路线（巡检项\\n第1轮\\n-班\\n全天班次', metadata={'source': 'C:\\\\Users\\\\Administrator\\\\Desktop\\\\AI\\\\PRD.pdf', 'page': 3}), Document(page_content='2023-08-2212...\\n0/3\\n查看\\n一天两轮路线（巡检项\\n第1轮\\n-班\\n全天班次\\n2023-08-220...\\n2023-08-2212.\\n0/1\\n查看\\n路线一天一次（巡检项.\\n第1轮\\n全天班次\\n2023-08-2200....\\n2023-08-2212.\\n0/1\\n查看\\n一天两轮路线（巡检项.\\n第1轮\\n全天班次\\n2023-08-2200...\\n2023-08-2212.\\n0/1\\n查看', metadata={'source': 'C:\\\\Users\\\\Administrator\\\\Desktop\\\\AI\\\\PRD.pdf', 'page': 3}), Document(page_content='第1轮\\n全天班次\\n2023-08-2200...\\n2023-08-2212.\\n0/1\\n查看\\n正式测试路线（观察、\\n第1轮\\n-班\\n全天班次\\n2023-08-2200....\\n2023-08-2212...\\n0/4\\n查看', metadata={'source': 'C:\\\\Users\\\\Administrator\\\\Desktop\\\\AI\\\\PRD.pdf', 'page': 3}), Document(page_content='2.“路线总数”显示的是所有路线的总数量；“工艺路线”显示的是巡检主题为“工\\n艺”的路线的数量；\\n3.点击“当日任务”进入“巡检任务”页面；\\n4.选择不同的巡检主题，显示不同类型的路线；\\n4.“统计分析”\\n4.1“统计分析-到位统计”调整\\n默认是一个总计\\n4.2“统计分析-路线统计”调整\\n5.“报表管理”\\n5.1“报表管理-巡检日报表”调整统计分析/到位统计\\n组织机构：\\n北海发电有限公司', metadata={'source': 'C:\\\\Users\\\\Administrator\\\\Desktop\\\\AI\\\\PRD.pdf', 'page': 4}), Document(page_content='5.1“报表管理-巡检日报表”调整统计分析/到位统计\\n组织机构：\\n北海发电有限公司\\n选择路线：\\n请选择路线\\n选择日期：\\n今日本周本月全年\\n2023-08-22\\n2023-08-22\\n查询\\n重置\\n新增“巡检主题”负\\n筛选条件和字段\\n序号\\n日期\\n分类名称\\n应到位数\\n实际到位数\\n未到位数\\n到位率\\n2023-08-22\\n北海发电有限公司\\n0%\\n2023-08-22\\n设备部\\n106\\n27\\n79', metadata={'source': 'C:\\\\Users\\\\Administrator\\\\Desktop\\\\AI\\\\PRD.pdf', 'page': 4}), Document(page_content='2023-08-22\\n北海发电有限公司\\n0%\\n2023-08-22\\n设备部\\n106\\n27\\n79\\n25.4717%\\n2023-08-22\\n运行部\\n1819\\n1193\\n626\\n65.5855%\\n2023-08-22\\n燃料部\\n240\\n161\\n79\\n67.0833%\\n2023-08-22\\n东电公司\\n62\\n56\\n9.6774%统计分析/路线统计\\n组织机构：\\n北海发电有限公司\\n查询\\n重置', metadata={'source': 'C:\\\\Users\\\\Administrator\\\\Desktop\\\\AI\\\\PRD.pdf', 'page': 4}), Document(page_content='东电公司\\n62\\n56\\n9.6774%统计分析/路线统计\\n组织机构：\\n北海发电有限公司\\n查询\\n重置\\n新增“巡检主题”筛选条件和字段\\n北海发电有限公司共53条路线\\n直属路线1条\\n序号\\n所属机构\\n路线名称\\n翻班规则\\n纽扣数量\\n设备数量\\n巡检项数量\\n标准耗时（min）\\n操作\\n燃料部煤管\\n燃料部煤管巡检路线\\n燃料部翻班（煤管）\\n25\\n25\\n104\\n0~240分钟\\n详情\\n燃料部码头\\n燃料部码头巡检路线1', metadata={'source': 'C:\\\\Users\\\\Administrator\\\\Desktop\\\\AI\\\\PRD.pdf', 'page': 4}), Document(page_content='燃料部翻班（煤管）\\n25\\n25\\n104\\n0~240分钟\\n详情\\n燃料部码头\\n燃料部码头巡检路线1\\n燃料部码头翻班\\n13\\n13\\n105\\n0~240分钟\\n详情\\n设备部锅炉\\n设备部锅炉点检路线（蔡岸..\\n每周1次\\n16\\n24\\n392\\n0~999分钟\\n详情\\n设备部锅炉\\n设备部锅炉点检路线（何广..\\n每周1次\\n212\\n0~999分钟\\n详情\\n设备部锅炉\\n设备部锅炉点检路线（蓝国\\n每周1次\\n10\\n145\\n428', metadata={'source': 'C:\\\\Users\\\\Administrator\\\\Desktop\\\\AI\\\\PRD.pdf', 'page': 4}), Document(page_content='212\\n0~999分钟\\n详情\\n设备部锅炉\\n设备部锅炉点检路线（蓝国\\n每周1次\\n10\\n145\\n428\\n0~999分钟\\n详情\\n设备部锅炉\\n设备部锅炉点检路线（柳强）\\n每周1次\\n27\\n177\\n0~999分钟\\n详情\\n设备部燃灰\\n设备部燃灰点检路线（黄敏）\\n每周1次\\n11\\n38\\n216\\n0~999分钟\\n详情', metadata={'source': 'C:\\\\Users\\\\Administrator\\\\Desktop\\\\AI\\\\PRD.pdf', 'page': 4}), Document(page_content='5.2“报表管理-巡检结果报表”调整\\n5.3“巡检未到位点报表”\\n报表管理/巡检日报表\\n组织机构：\\n北海发电有限公司\\n路线名称：\\n请输入路线名称\\n选择日期：\\n2023-08-21\\n查询\\n重置\\n2.新增\\n“巡检主题”！\\n字段\\n1.新增\\n“巡检主题”负\\n筛选条件\\n批量导出\\n序号\\n路线名称\\n所属机构\\n操作\\n燃料部煤管巡检路线\\n燃料部煤管\\n查看导出\\n燃料部码头巡检路线1\\n燃料部码头\\n查看导出', metadata={'source': 'C:\\\\Users\\\\Administrator\\\\Desktop\\\\AI\\\\PRD.pdf', 'page': 5}), Document(page_content='操作\\n燃料部煤管巡检路线\\n燃料部煤管\\n查看导出\\n燃料部码头巡检路线1\\n燃料部码头\\n查看导出\\n设备部锅炉点检路线（柳强）\\n设备部锅炉\\n查看\\n导出\\n设备部燃灰点检路线（黄敏）\\n设备部燃灰\\n查看\\n导出\\n设备部燃灰点检路线（李想）\\n设备部燃灰\\n查看\\n导出\\n设备部电气低压电动机点检路线\\n设备部电气\\n导出\\n设备部电气二次点检路线\\n设备部电气\\n查看导出报表管理/巡检结果报表\\n组织机构：\\n北海发电有限公司', metadata={'source': 'C:\\\\Users\\\\Administrator\\\\Desktop\\\\AI\\\\PRD.pdf', 'page': 5}), Document(page_content='设备部电气二次点检路线\\n设备部电气\\n查看导出报表管理/巡检结果报表\\n组织机构：\\n北海发电有限公司\\n选择日期：\\n按日按月\\n2023-08-16\\n2023-08-22\\n查询\\n重置\\n1.新增“巡检主题”查询条件\\n2.新增“巡检主题”类型\\n导出\\n序号\\n组织机构\\n应到点数\\n未到点数\\n到位率\\n应检项目\\n未检项目\\n填报率\\n免责项数\\n北海发电有限公司\\n30\\n30\\n0.00%\\n30\\n30\\n0.00%\\n运行部', metadata={'source': 'C:\\\\Users\\\\Administrator\\\\Desktop\\\\AI\\\\PRD.pdf', 'page': 5}), Document(page_content='填报率\\n免责项数\\n北海发电有限公司\\n30\\n30\\n0.00%\\n30\\n30\\n0.00%\\n运行部\\n12111\\n578\\n95.00%\\n138525\\n4150\\n97.00%\\n设备部锅炉\\n34\\n100.00%\\n997\\n100.00%\\n设备部电气\\n19\\n100.00%\\n702\\n100.00%\\n设备部机化\\n100.00%\\n133\\n100.00%\\n设备部热控\\n44\\n98.00%\\n375\\n100.00%\\n设备部燃灰', metadata={'source': 'C:\\\\Users\\\\Administrator\\\\Desktop\\\\AI\\\\PRD.pdf', 'page': 5}), Document(page_content='133\\n100.00%\\n设备部热控\\n44\\n98.00%\\n375\\n100.00%\\n设备部燃灰\\n18\\n100.00%\\n621\\n100.00%报表管理/巡检未到位点报表\\n组织机构：\\n北海发电有限公司\\n选择日期：\\n按日按月\\n2023-08-22\\n2023-08-22\\n查询\\n重置\\n新增\\n“巡检主题”筛选条件和字段\\n导出\\n序号\\n组织机构\\n巡检路线\\n漏检时间\\n任务日期\\n纽扣名称\\n班次\\n班组\\n轮次', metadata={'source': 'C:\\\\Users\\\\Administrator\\\\Desktop\\\\AI\\\\PRD.pdf', 'page': 5}), Document(page_content='导出\\n序号\\n组织机构\\n巡检路线\\n漏检时间\\n任务日期\\n纽扣名称\\n班次\\n班组\\n轮次\\n运行部1机组巡\\n2023-08-2208:0...\\n2023-08-22~202...\\n#1炉脱硝SCR反...\\n早班（08:00:00-1...\\n运行部班组\\n运行部轮次（8小\\n运行部\\n运行部2机组巡\\n2023-08-2208:0...\\n2023-08-22~202..\\n2A-次风机\\n早班（08:00:00-1..', metadata={'source': 'C:\\\\Users\\\\Administrator\\\\Desktop\\\\AI\\\\PRD.pdf', 'page': 5}), Document(page_content='2023-08-22~202..\\n2A-次风机\\n早班（08:00:00-1..\\n运行部班组\\n运行部轮次（8小..\\n运行部\\n运行部#2机组巡\\n2023-08-2208:0...\\n2023-08-22~202..\\n2B引风机\\n早班（08:00:00-1..\\n运行部班组\\n运行部轮次（8小.\\n运行部\\n运行部2机组巡\\n2023-08-2208:0...\\n2023-08-22~202...\\n2A引风机', metadata={'source': 'C:\\\\Users\\\\Administrator\\\\Desktop\\\\AI\\\\PRD.pdf', 'page': 5}), Document(page_content='运行部2机组巡\\n2023-08-2208:0...\\n2023-08-22~202...\\n2A引风机\\n早班（08:00:00-1..\\n运行部班组\\n运行部轮次（8小.\\n运行部\\n运行部2机组巡\\n2023-08-2210:3...\\n2023-08-22~202...\\n#2燃油平台\\n早班（08:00:00-1..\\n运行部班组\\n运行部轮次（每...\\n运行部\\n运行部2机组巡\\n2023-08-2210:3...', metadata={'source': 'C:\\\\Users\\\\Administrator\\\\Desktop\\\\AI\\\\PRD.pdf', 'page': 5}), Document(page_content='运行部班组\\n运行部轮次（每...\\n运行部\\n运行部2机组巡\\n2023-08-2210:3...\\n2023-08-22~202...\\n#2A空预器\\n早班（08:00:00-1..\\n运行部班组\\n运行部轮次（每..\\n运行部\\n运行部1机组巡\\n2023-08-2208:0...\\n2023-08-22~202...\\n1A送风机\\n早班（08:00:00-1...\\n运行部班组\\n运行部轮次（8小.', metadata={'source': 'C:\\\\Users\\\\Administrator\\\\Desktop\\\\AI\\\\PRD.pdf', 'page': 5}), Document(page_content='6.APP调整\\n不同巡检主题类型的任务，在APP端有不同的显示：\\n1.把“设备”改成对应类型的文字描述：工艺路线改成“工艺项”，安全路线改成“安全\\n项”，重大危险源路线改成“危险源”。\\n2.在纽扣界面，同样要把“设备”改成对应类型的文字描述。待开始\\n执行中\\n已完成\\n正式测试路线（观察、测温、测\\n振）一天两次\\n2023-08-2412:00~2023-08-2421:00\\n巡检点：2\\n设备：2', metadata={'source': 'C:\\\\Users\\\\Administrator\\\\Desktop\\\\AI\\\\PRD.pdf', 'page': 6}), Document(page_content='振）一天两次\\n2023-08-2412:00~2023-08-2421:00\\n巡检点：2\\n设备：2\\n巡检项：4\\n正常：0\\n异常：0\\n未检：4\\n已提交设备：0/2\\nEPAC工艺路线一天四次\\n2023-08-2412:00~2023-08-2421:00\\n巡检点：2\\n工艺项：2\\n巡检项：4\\n正常：0\\n异常：0\\n未检：4\\n已提交工艺项：0/2\\nEPAC安全巡检', metadata={'source': 'C:\\\\Users\\\\Administrator\\\\Desktop\\\\AI\\\\PRD.pdf', 'page': 6}), Document(page_content='工艺项：2\\n巡检项：4\\n正常：0\\n异常：0\\n未检：4\\n已提交工艺项：0/2\\nEPAC安全巡检\\n2023-08-2412:00~2023-08-2421:00\\n巡检点：2\\n安全项：3\\n巡检项：4\\n正常：0\\n异常：0\\n未检：4\\n已提交安全项：0/3', metadata={'source': 'C:\\\\Users\\\\Administrator\\\\Desktop\\\\AI\\\\PRD.pdf', 'page': 6})]\n"
     ]
    }
   ],
   "source": [
    "from langchain.text_splitter import RecursiveCharacterTextSplitter\n",
    "\n",
    "text_splitter = RecursiveCharacterTextSplitter(\n",
    "                chunk_size = 200,\n",
    "                chunk_overlap  = 50,\n",
    "                length_function = len,\n",
    "            )\n",
    "\n",
    "pages_splitter = loader.load_and_split(text_splitter)\n",
    "\n",
    "\n",
    "object_size = sys.getsizeof(pages_splitter)\n",
    "print(f\"Object Size: {object_size} bytes\")\n",
    "\n",
    "print(pages_splitter)"
   ]
  },
  {
   "cell_type": "code",
   "execution_count": null,
   "id": "4d41a1d6-afce-4057-a7ff-b7fa625534c7",
   "metadata": {},
   "outputs": [],
   "source": []
  }
 ],
 "metadata": {
  "kernelspec": {
   "display_name": "Python 3 (ipykernel)",
   "language": "python",
   "name": "python3"
  },
  "language_info": {
   "codemirror_mode": {
    "name": "ipython",
    "version": 3
   },
   "file_extension": ".py",
   "mimetype": "text/x-python",
   "name": "python",
   "nbconvert_exporter": "python",
   "pygments_lexer": "ipython3",
   "version": "3.10.8"
  }
 },
 "nbformat": 4,
 "nbformat_minor": 5
}
