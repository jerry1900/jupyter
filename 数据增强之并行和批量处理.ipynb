{
 "cells": [
  {
   "cell_type": "markdown",
   "id": "218f7045-b425-4735-85ab-bb5f1ec3922e",
   "metadata": {},
   "source": [
    "# 数据增强之深入理解 RunnableParallel"
   ]
  },
  {
   "cell_type": "markdown",
   "id": "64614b2c-ac92-450d-a77d-61ea9e7bd4cb",
   "metadata": {},
   "source": [
    "### 版权声明：本文为CSDN博主「AI架构师易筋」的原创文章，遵循CC 4.0 BY-SA版权协议，转载请附上原文出处链接及本声明。\n",
    "### 原文链接：https://blog.csdn.net/zgpeace/article/details/135290412"
   ]
  },
  {
   "cell_type": "code",
   "execution_count": 2,
   "id": "2687a2d4-fb59-4f5c-8782-9ec35b68f46d",
   "metadata": {},
   "outputs": [],
   "source": [
    "import time\n",
    "\n",
    "def measure_execution_time(func, *arg, **kwargs):\n",
    "    \"\"\"测量并返回给定函数的执行时间。\n",
    "\n",
    "    Args:\n",
    "        func: 要测量的函数对象。\n",
    "        *args: 传递给函数的位置参数。\n",
    "        **kwargs: 传递给函数的关键字参数。\n",
    "\n",
    "    Returns:\n",
    "        tuple: (执行结果, 耗时秒数)\n",
    "    \"\"\"\n",
    "    \n",
    "    start_time = time.perf_counter()\n",
    "    process = func(*arg, **kwargs)\n",
    "    end_time = time.perf_counter()\n",
    "    elapsed_time = end_time - start_time\n",
    "\n",
    "    return process,elapsed_time\n"
   ]
  },
  {
   "cell_type": "code",
   "execution_count": 8,
   "id": "63d27f25-8d37-4ede-9568-417cf61bcf75",
   "metadata": {},
   "outputs": [],
   "source": [
    "def sheep_counting(sheep_number):\n",
    "    result = 0\n",
    "    for i in range(sheep_number+1):\n",
    "        result = result + i\n",
    "\n",
    "    return result"
   ]
  },
  {
   "cell_type": "code",
   "execution_count": 9,
   "id": "f04c2dae-7736-46cf-a185-c52463625121",
   "metadata": {},
   "outputs": [
    {
     "name": "stdout",
     "output_type": "stream",
     "text": [
      "55 4.999979864805937e-06\n"
     ]
    }
   ],
   "source": [
    "result, pass_time = measure_execution_time(sheep_counting,10)\n",
    "print(result,pass_time)"
   ]
  },
  {
   "cell_type": "code",
   "execution_count": 4,
   "id": "7536d1bf-1a16-4768-99f5-4c2448240a1b",
   "metadata": {},
   "outputs": [
    {
     "name": "stdout",
     "output_type": "stream",
     "text": [
      "执行结果: {'joke': AIMessage(content=\"Why don't bears wear socks?\\n\\nBecause they have bear feet!\"), 'poem': AIMessage(content='Majestic in woods, their grace does astound,\\nBears, fierce and gentle, where wild hearts are found.')}\n",
      "函数执行耗时: 1.5167087999871 秒\n"
     ]
    }
   ],
   "source": [
    "import os\n",
    "\n",
    "from langchain_core.runnables import RunnablePassthrough,RunnableParallel\n",
    "from langchain.prompts import ChatPromptTemplate\n",
    "from langchain_openai import ChatOpenAI\n",
    "from langchain_core.output_parsers import StrOutputParser\n",
    "\n",
    "\n",
    "api_key = os.getenv(\"OPENAI_API_KEY\")\n",
    "model = ChatOpenAI(\n",
    "    openai_api_key=api_key,\n",
    "    temperature=0.8,\n",
    "    base_url=\"https://apejhvxcd.cloud.sealos.io/v1\"\n",
    ")\n",
    "\n",
    "chain1 = ChatPromptTemplate.from_template(\"tell me a joke about {topic}\") | model \n",
    "chain2 = ChatPromptTemplate.from_template(\"write a poem in two lines about  {topic}\") | model\n",
    "\n",
    "combined = RunnableParallel(joke=chain1, poem=chain2) \n",
    "\n",
    "result, pass_time = measure_execution_time(combined.invoke,{\"topic\":\"bears\"})\n",
    "print(f\"执行结果: {result}\")\n",
    "print(f\"函数执行耗时: {pass_time} 秒\")"
   ]
  },
  {
   "cell_type": "code",
   "execution_count": 5,
   "id": "dc8b97ae-c1be-4a77-b6df-6e6a9fb89f83",
   "metadata": {},
   "outputs": [
    {
     "name": "stdout",
     "output_type": "stream",
     "text": [
      "执行结果: content=\"Why don't bears wear shoes?\\n\\nBecause they have bear feet!\"\n",
      "函数执行耗时: 1.1170307000284083 秒\n"
     ]
    }
   ],
   "source": [
    "result, pass_time = measure_execution_time(chain1.invoke,{\"topic\":\"bears\"})\n",
    "print(f\"执行结果: {result}\")\n",
    "print(f\"函数执行耗时: {pass_time} 秒\")"
   ]
  },
  {
   "cell_type": "code",
   "execution_count": 6,
   "id": "e636afe2-6b2e-45b6-8c06-5baebc47f822",
   "metadata": {},
   "outputs": [
    {
     "name": "stdout",
     "output_type": "stream",
     "text": [
      "执行结果: content=\"In forests deep, bears roam wild and free,\\nStrength and grace embodied, nature's majesty.\"\n",
      "函数执行耗时: 1.7084482000209391 秒\n"
     ]
    }
   ],
   "source": [
    "result, pass_time = measure_execution_time(chain2.invoke,{\"topic\":\"bears\"})\n",
    "print(f\"执行结果: {result}\")\n",
    "print(f\"函数执行耗时: {pass_time} 秒\")"
   ]
  },
  {
   "cell_type": "markdown",
   "id": "85bbf1c8-d295-47c8-b3f7-b853987ec2a2",
   "metadata": {},
   "source": [
    "## 理解 RunnablePassthrough的作用和两种用法"
   ]
  },
  {
   "cell_type": "code",
   "execution_count": 1,
   "id": "44694909-d384-4b23-9f29-0668f12359d1",
   "metadata": {},
   "outputs": [
    {
     "data": {
      "text/plain": [
       "{'passed': {'num': 1}, 'extra': {'num': 1, 'mult': 3}, 'modified': 2}"
      ]
     },
     "execution_count": 1,
     "metadata": {},
     "output_type": "execute_result"
    }
   ],
   "source": [
    "from langchain_core.runnables import RunnableParallel, RunnablePassthrough\n",
    "\n",
    "runnable = RunnableParallel(\n",
    "    passed=RunnablePassthrough(),\n",
    "    extra=RunnablePassthrough.assign(mult=lambda x: x[\"num\"] * 3),\n",
    "    modified=lambda x: x[\"num\"] + 1,\n",
    ")\n",
    "\n",
    "runnable.invoke({\"num\": 1})"
   ]
  },
  {
   "cell_type": "code",
   "execution_count": 4,
   "id": "a6d3cd07-8db3-4171-9e66-880b19334f3c",
   "metadata": {},
   "outputs": [
    {
     "data": {
      "text/plain": [
       "{'chain': {'num': 1, 'mult': 3, 'triple': 9}}"
      ]
     },
     "execution_count": 4,
     "metadata": {},
     "output_type": "execute_result"
    }
   ],
   "source": [
    "runnable = RunnableParallel(\n",
    "    \n",
    "    chain=RunnablePassthrough.assign(mult=lambda x: x[\"num\"] * 3).assign(triple =lambda x: x[\"mult\"] * 3),\n",
    "   \n",
    ")\n",
    "\n",
    "runnable.invoke({\"num\": 1})"
   ]
  }
 ],
 "metadata": {
  "kernelspec": {
   "display_name": "Python 3 (ipykernel)",
   "language": "python",
   "name": "python3"
  },
  "language_info": {
   "codemirror_mode": {
    "name": "ipython",
    "version": 3
   },
   "file_extension": ".py",
   "mimetype": "text/x-python",
   "name": "python",
   "nbconvert_exporter": "python",
   "pygments_lexer": "ipython3",
   "version": "3.10.8"
  }
 },
 "nbformat": 4,
 "nbformat_minor": 5
}
