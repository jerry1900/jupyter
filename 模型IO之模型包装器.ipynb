{
 "cells": [
  {
   "cell_type": "markdown",
   "id": "63792fa0-d61f-411c-9ee8-c6e218b21a25",
   "metadata": {},
   "source": [
    "# 使用langchain调用openai的接口\n",
    "# 使用LLM模型包装器进行调用\n",
    "# 使用聊天模型包装器进行调用"
   ]
  },
  {
   "cell_type": "code",
   "execution_count": 1,
   "id": "6f70b3dc-d60e-416b-9745-6162dce4904a",
   "metadata": {},
   "outputs": [
    {
     "name": "stdout",
     "output_type": "stream",
     "text": [
      "Note: you may need to restart the kernel to use updated packages.\n"
     ]
    },
    {
     "name": "stderr",
     "output_type": "stream",
     "text": [
      "\n",
      "[notice] A new release of pip available: 22.2.2 -> 23.3.2\n",
      "[notice] To update, run: python.exe -m pip install --upgrade pip\n"
     ]
    }
   ],
   "source": [
    "pip install -q langchain"
   ]
  },
  {
   "cell_type": "markdown",
   "id": "ea8f331e-b517-4494-b3fc-c26e0f6669e5",
   "metadata": {},
   "source": [
    "## 使用LLM模型包装器进行调用"
   ]
  },
  {
   "cell_type": "code",
   "execution_count": 4,
   "id": "b6d92ee0-eaa4-4c6b-9f57-9d53f34dc0aa",
   "metadata": {},
   "outputs": [],
   "source": [
    "import langchain\n",
    "import os\n",
    "\n",
    "from langchain.llms import OpenAI\n",
    "\n",
    "api_key = os.getenv(\"OPENAI_API_KEY\")"
   ]
  },
  {
   "cell_type": "code",
   "execution_count": 7,
   "id": "a02e49ed-2bc0-4c3f-b5de-d234dd68c87e",
   "metadata": {},
   "outputs": [
    {
     "name": "stdout",
     "output_type": "stream",
     "text": [
      "\n",
      "\n",
      "邓小平被普遍认为是中国改革开放的总设计师。在他担任中国共产党中央委员会主席和中华人民共和国主席期间，他领导了中国进行了一系列的改革开放政策，开创了中国经济和社会发展的新时代。他提出了“一个中心、两个基本点”的理论，即坚持党的领导和社会主义制度不动摇，同时推进经济体制改革和开放政策。他还提出了“发展是硬道理”的著名论断，强调经济发展是解决一切问题的关键。在他的领导下，中国取得了巨大的经济和社会发展成就，成为世界第二大经济体。因此，邓小平被公认为中国改革开放 <class 'str'>\n"
     ]
    }
   ],
   "source": [
    "llm = OpenAI(\n",
    "    openai_api_key = api_key, \n",
    "    temperature=0.5,\n",
    "    base_url = \"https://apejhvxcd.cloud.sealos.io/v1\"\n",
    ")\n",
    "response = llm.invoke('谁是中国改革开放的总设计师？')\n",
    "print(response,type(response))"
   ]
  },
  {
   "cell_type": "markdown",
   "id": "5db06096-024d-4ccc-a0f7-2aa95489a2a8",
   "metadata": {},
   "source": [
    "## 使用聊天模型包装器进行调用"
   ]
  },
  {
   "cell_type": "code",
   "execution_count": 8,
   "id": "c70ae29b-0501-4e45-8701-02c2d81c9c69",
   "metadata": {},
   "outputs": [
    {
     "name": "stdout",
     "output_type": "stream",
     "text": [
      "content='中国改革开放的总设计师是邓小平。' <class 'langchain_core.messages.ai.AIMessage'>\n"
     ]
    }
   ],
   "source": [
    "import langchain\n",
    "import os\n",
    "\n",
    "from langchain_openai import ChatOpenAI\n",
    "\n",
    "\n",
    "api_key = os.getenv(\"OPENAI_API_KEY\")\n",
    "\n",
    "llm = ChatOpenAI(openai_api_key=api_key,temperature = 0.5,  base_url = \"https://apejhvxcd.cloud.sealos.io/v1\")\n",
    "\n",
    "response = llm.invoke(\"中国改革开放的总设计师是谁?\")\n",
    "\n",
    "print(response,type(response))"
   ]
  }
 ],
 "metadata": {
  "kernelspec": {
   "display_name": "Python 3 (ipykernel)",
   "language": "python",
   "name": "python3"
  },
  "language_info": {
   "codemirror_mode": {
    "name": "ipython",
    "version": 3
   },
   "file_extension": ".py",
   "mimetype": "text/x-python",
   "name": "python",
   "nbconvert_exporter": "python",
   "pygments_lexer": "ipython3",
   "version": "3.10.8"
  }
 },
 "nbformat": 4,
 "nbformat_minor": 5
}
