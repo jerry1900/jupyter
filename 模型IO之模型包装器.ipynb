{
 "cells": [
  {
   "cell_type": "markdown",
   "id": "63792fa0-d61f-411c-9ee8-c6e218b21a25",
   "metadata": {},
   "source": [
    "# 使用langchain调用openai的接口\n",
    "# 使用LLM模型包装器进行调用\n",
    "# 使用聊天模型包装器进行调用"
   ]
  },
  {
   "cell_type": "code",
   "execution_count": 1,
   "id": "6f70b3dc-d60e-416b-9745-6162dce4904a",
   "metadata": {},
   "outputs": [
    {
     "name": "stdout",
     "output_type": "stream",
     "text": [
      "Note: you may need to restart the kernel to use updated packages.\n"
     ]
    },
    {
     "name": "stderr",
     "output_type": "stream",
     "text": [
      "\n",
      "[notice] A new release of pip available: 22.2.2 -> 23.3.2\n",
      "[notice] To update, run: python.exe -m pip install --upgrade pip\n"
     ]
    }
   ],
   "source": [
    "pip install -q langchain"
   ]
  },
  {
   "cell_type": "markdown",
   "id": "ea8f331e-b517-4494-b3fc-c26e0f6669e5",
   "metadata": {},
   "source": [
    "## 使用LLM模型包装器进行调用"
   ]
  },
  {
   "cell_type": "code",
   "execution_count": 2,
   "id": "b6d92ee0-eaa4-4c6b-9f57-9d53f34dc0aa",
   "metadata": {},
   "outputs": [],
   "source": [
    "import langchain\n",
    "import os\n",
    "\n",
    "from langchain.llms import OpenAI\n",
    "\n",
    "api_key = os.getenv(\"OPENAI_API_KEY\")"
   ]
  },
  {
   "cell_type": "code",
   "execution_count": 6,
   "id": "a02e49ed-2bc0-4c3f-b5de-d234dd68c87e",
   "metadata": {},
   "outputs": [
    {
     "name": "stdout",
     "output_type": "stream",
     "text": [
      "\n",
      "\n",
      "邓小平被认为是中国改革开放的总设计师。他在1978年提出了改革开放的战略思想，并领导了中国的改革开放进程，为中国的经济发展和社会变革做出了重大贡献。 <class 'str'>\n"
     ]
    }
   ],
   "source": [
    "llm = OpenAI(openai_api_key = api_key, temperature=0.5)\n",
    "response = llm.invoke('谁是中国改革开放的总设计师？')\n",
    "print(response,type(response))"
   ]
  },
  {
   "cell_type": "markdown",
   "id": "5db06096-024d-4ccc-a0f7-2aa95489a2a8",
   "metadata": {},
   "source": [
    "## 使用聊天模型包装器进行调用"
   ]
  },
  {
   "cell_type": "code",
   "execution_count": 1,
   "id": "c70ae29b-0501-4e45-8701-02c2d81c9c69",
   "metadata": {},
   "outputs": [
    {
     "name": "stdout",
     "output_type": "stream",
     "text": [
      "content='中国改革开放的总设计师是邓小平。' <class 'langchain_core.messages.ai.AIMessage'>\n"
     ]
    }
   ],
   "source": [
    "import langchain\n",
    "import os\n",
    "\n",
    "from langchain_openai import ChatOpenAI\n",
    "\n",
    "\n",
    "api_key = os.getenv(\"OPENAI_API_KEY\")\n",
    "\n",
    "llm = ChatOpenAI(openai_api_key=api_key,temperature = 0.5)\n",
    "\n",
    "response = llm.invoke(\"中国改革开放的总设计师是谁?\")\n",
    "\n",
    "print(response,type(response))"
   ]
  }
 ],
 "metadata": {
  "kernelspec": {
   "display_name": "Python 3 (ipykernel)",
   "language": "python",
   "name": "python3"
  },
  "language_info": {
   "codemirror_mode": {
    "name": "ipython",
    "version": 3
   },
   "file_extension": ".py",
   "mimetype": "text/x-python",
   "name": "python",
   "nbconvert_exporter": "python",
   "pygments_lexer": "ipython3",
   "version": "3.10.8"
  }
 },
 "nbformat": 4,
 "nbformat_minor": 5
}
