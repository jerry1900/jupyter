{
 "cells": [
  {
   "cell_type": "markdown",
   "id": "9d2e36b0-85ee-48fc-9ff1-d6cf50241743",
   "metadata": {},
   "source": [
    "## prompt的其他几种生成方式"
   ]
  },
  {
   "cell_type": "code",
   "execution_count": 5,
   "id": "d661e24c-486f-4b0d-8bbf-a9a2bf532617",
   "metadata": {},
   "outputs": [],
   "source": [
    "import langchain\n",
    "import os\n",
    "\n",
    "from langchain_openai import ChatOpenAI\n",
    "\n",
    "# 引入模板 ChatPromptTemplate\n",
    "from langchain_core.prompts import ChatPromptTemplate\n",
    "\n",
    "api_key = os.getenv(\"OPENAI_API_KEY\")\n",
    "\n",
    "llm = ChatOpenAI(\n",
    "    openai_api_key=api_key,\n",
    "    temperature = 0.5,\n",
    "    base_url = \"https://apejhvxcd.cloud.sealos.io/v1\"\n",
    ")"
   ]
  },
  {
   "cell_type": "code",
   "execution_count": 6,
   "id": "fab52a78-c959-4f15-bd20-d5e77f2d3701",
   "metadata": {},
   "outputs": [
    {
     "data": {
      "text/plain": [
       "AIMessage(content=\"Sure, here's an English joke about love:\\n\\nWhy did the scarecrow win an award?\\n\\nBecause he was outstanding in his field!\")"
      ]
     },
     "execution_count": 6,
     "metadata": {},
     "output_type": "execute_result"
    }
   ],
   "source": [
    "prompt = (\n",
    "    ChatPromptTemplate.from_template(\"给我讲一个关于{topic}的笑话\")\n",
    "    + \"\\n\\n 并且用 {language} 来讲\"\n",
    ")\n",
    "\n",
    "chain = prompt | llm\n",
    "\n",
    "chain.invoke({\"topic\":\"爱情\",\"language\":\"英文\"})"
   ]
  },
  {
   "cell_type": "code",
   "execution_count": 7,
   "id": "78eff505-b956-4b75-96b6-ef114fa9ad9d",
   "metadata": {},
   "outputs": [
    {
     "data": {
      "text/plain": [
       "AIMessage(content='哦，亲爱的旅游探索者啊，\\n来听我诉说英伦之国的奇妙，\\n那座城市，众所周知，\\n它是英国的心脏，首都之所在。\\n\\n在泰晤士河畔，它矗立高，\\n伦敦，那座城市的名号，\\n千年历史，传奇故事，\\n它是文化的殿堂，光辉的象征。\\n\\n塔桥横跨河面，优雅而壮丽，\\n大本钟高耸，钟声悠扬回旋，\\n白金汉宫，皇家的府邸，\\n伦敦眼旋转，美景尽收眼底。\\n\\n博物馆、剧院、购物街，\\n伦敦塔、大英博物馆，无尽的宝藏，\\n街头艺人、热闹集市，\\n伦敦的魅力，无人能挡。\\n\\n所以，亲爱的你，\\n踏上英伦之旅，伦敦等你，\\n在这座城市的怀抱中，\\n感受历史与现代的交织。\\n\\n伦敦，英国的首都之城，\\n让我们一同启程，去探索它的奇迹。')"
      ]
     },
     "execution_count": 7,
     "metadata": {},
     "output_type": "execute_result"
    }
   ],
   "source": [
    "from langchain import PromptTemplate\n",
    "\n",
    "template = \"\"\"\n",
    "你是一个旅游销售员，你不仅要告诉用户正确的答案，还要用诗一样的语言来描述这个答案！\n",
    "请告诉我{country}的首都是那座城市？\n",
    "\n",
    "\"\"\"\n",
    "\n",
    "prompt3 = PromptTemplate(template = template, input_variables=[\"country\"])\n",
    "\n",
    "chain3 = prompt3 | llm\n",
    "\n",
    "chain3.invoke({\"country\":\"英国\",})"
   ]
  }
 ],
 "metadata": {
  "kernelspec": {
   "display_name": "Python 3 (ipykernel)",
   "language": "python",
   "name": "python3"
  },
  "language_info": {
   "codemirror_mode": {
    "name": "ipython",
    "version": 3
   },
   "file_extension": ".py",
   "mimetype": "text/x-python",
   "name": "python",
   "nbconvert_exporter": "python",
   "pygments_lexer": "ipython3",
   "version": "3.10.8"
  }
 },
 "nbformat": 4,
 "nbformat_minor": 5
}
