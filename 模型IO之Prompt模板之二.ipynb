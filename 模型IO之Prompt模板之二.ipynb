{
 "cells": [
  {
   "cell_type": "markdown",
   "id": "024af819-ef54-420f-bbdd-09fef2b9c1de",
   "metadata": {},
   "source": [
    "# 介绍Prompt模板的概念\n",
    "# 引入chain链的概念"
   ]
  },
  {
   "cell_type": "markdown",
   "id": "ab07b019-447d-4802-8e2b-34b75562a8a9",
   "metadata": {},
   "source": [
    "## 使用prompt进行openai调用"
   ]
  },
  {
   "cell_type": "code",
   "execution_count": 5,
   "id": "a96b4d73-a27d-48e1-a83a-aa919e138b31",
   "metadata": {},
   "outputs": [],
   "source": [
    "import langchain\n",
    "import os\n",
    "\n",
    "\n",
    "\n",
    "from langchain_core.prompts import ChatPromptTemplate\n",
    "\n",
    "prompt = ChatPromptTemplate.from_messages([\n",
    "    (\"system\", \"你是一个中国历史专家.\"),\n",
    "    (\"user\", \"{input}\")\n",
    "])\n"
   ]
  },
  {
   "cell_type": "markdown",
   "id": "5fd07f2d-e5e0-4e9f-ae52-3fb22868483a",
   "metadata": {},
   "source": [
    "## 使用chain来把 prompt和 llm 结合起来"
   ]
  },
  {
   "cell_type": "code",
   "execution_count": 7,
   "id": "80e7487a-99dc-4d5d-9495-d07dc57b81d5",
   "metadata": {},
   "outputs": [
    {
     "data": {
      "text/plain": [
       "AIMessage(content='中国改革开放的总设计师是邓小平。邓小平是中国共产党的杰出领导人，他在1978年提出并推动了中国的改革开放政策，为中国的经济发展和社会变革奠定了基础。邓小平的改革开放政策引入了市场经济元素，打破了计划经济的束缚，鼓励私营经济的发展，吸引外资和技术引进，推动了中国经济的快速增长和现代化进程。他的决策和改革措施对中国的发展产生了深远的影响，被誉为中国改革开放的总设计师。')"
      ]
     },
     "execution_count": 7,
     "metadata": {},
     "output_type": "execute_result"
    }
   ],
   "source": [
    "from langchain_openai import ChatOpenAI\n",
    "\n",
    "api_key = os.getenv(\"OPENAI_API_KEY\")\n",
    "\n",
    "llm = ChatOpenAI(openai_api_key=api_key,temperature = 0.5)\n",
    "\n",
    "chain = prompt | llm\n",
    "\n",
    "chain.invoke({\"input\":\"中国改革开放的总设计师是谁?\"})"
   ]
  },
  {
   "cell_type": "markdown",
   "id": "9d2e36b0-85ee-48fc-9ff1-d6cf50241743",
   "metadata": {},
   "source": [
    "## prompt的其他几种生成方式"
   ]
  },
  {
   "cell_type": "code",
   "execution_count": 9,
   "id": "fab52a78-c959-4f15-bd20-d5e77f2d3701",
   "metadata": {},
   "outputs": [
    {
     "data": {
      "text/plain": [
       "AIMessage(content=\"Sure! Here's a love joke in English:\\n\\nWhy did the tomato turn red?\\n\\nBecause it saw the salad dressing!\")"
      ]
     },
     "execution_count": 9,
     "metadata": {},
     "output_type": "execute_result"
    }
   ],
   "source": [
    "prompt2 = (\n",
    "    ChatPromptTemplate.from_template(\"给我讲一个关于{topic}的笑话\")\n",
    "    + \"\\n\\n 并且用 {language} 来讲\"\n",
    ")\n",
    "\n",
    "chain2 = prompt2 | llm\n",
    "\n",
    "chain2.invoke({\"topic\":\"爱情\",\"language\":\"英文\"})"
   ]
  },
  {
   "cell_type": "code",
   "execution_count": 14,
   "id": "78eff505-b956-4b75-96b6-ef114fa9ad9d",
   "metadata": {},
   "outputs": [
    {
     "data": {
      "text/plain": [
       "AIMessage(content='英国的首都，伦敦之名，\\n历史悠久，文化繁荣的地方。\\n泰晤士河水，流淌其中，\\n大本钟敲响，时间从容。\\n大英博物馆，珍宝无数，\\n白金汉宫，皇室居所。\\n剑桥牛津，知识的殿堂，\\n伦敦塔桥，美丽的风光。\\n这里是英国的心脏，\\n伦敦，这座魅力之城。')"
      ]
     },
     "execution_count": 14,
     "metadata": {},
     "output_type": "execute_result"
    }
   ],
   "source": [
    "from langchain import PromptTemplate\n",
    "\n",
    "template = \"\"\"\n",
    "你是一个旅游销售员，你不仅要告诉用户正确的答案，还要用诗一样的语言来描述这个答案！\n",
    "请告诉我{country}的首都是那座城市？\n",
    "\n",
    "\"\"\"\n",
    "\n",
    "prompt3 = PromptTemplate(template = template, input_variables=[\"country\"])\n",
    "\n",
    "chain3 = prompt3 | llm\n",
    "\n",
    "chain3.invoke({\"country\":\"英国\",})"
   ]
  }
 ],
 "metadata": {
  "kernelspec": {
   "display_name": "Python 3 (ipykernel)",
   "language": "python",
   "name": "python3"
  },
  "language_info": {
   "codemirror_mode": {
    "name": "ipython",
    "version": 3
   },
   "file_extension": ".py",
   "mimetype": "text/x-python",
   "name": "python",
   "nbconvert_exporter": "python",
   "pygments_lexer": "ipython3",
   "version": "3.10.8"
  }
 },
 "nbformat": 4,
 "nbformat_minor": 5
}
