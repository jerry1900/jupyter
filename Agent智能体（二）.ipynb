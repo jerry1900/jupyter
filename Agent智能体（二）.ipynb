{
 "cells": [
  {
   "cell_type": "markdown",
   "id": "677bd570-86fe-46a8-89ca-d1d58eb78bca",
   "metadata": {},
   "source": [
    "# 我们来构造一个有memory的智能体"
   ]
  },
  {
   "cell_type": "markdown",
   "id": "76c20252-ba03-4d2d-9137-ca7d3bda1abe",
   "metadata": {},
   "source": [
    "##  先构造一个GOOGLE搜索工具"
   ]
  },
  {
   "cell_type": "code",
   "execution_count": 2,
   "id": "045fbaba-f3b6-4fe8-9c8d-c0f68f75d62b",
   "metadata": {},
   "outputs": [
    {
     "data": {
      "text/plain": [
       "\"Join the Nasdaq+ community for more personalized data, exclusive content, and market analysis. Try it today for $4.99/month. Subscribe Now. 10,982.80 - 15,630.59. Performance. 5 Day. -2.23%. 1 Month. 4.51%. 3 Month. 14.06%. YTD. 1.02%. 1 Year. 24.29%. Recent News. MarketWatch. Dow Jones. Read full\\xa0... Find the latest stock market trends and activity today. Compare key indexes, including Nasdaq Composite, Nasdaq-100, Dow Jones Industrial & more. Find the latest information on NASDAQ Composite (^IXIC) including data, charts, related news and more from Yahoo Finance. Results 1 - 25 of 7344 ... Join the Nasdaq+ community for more personalized data, exclusive content, and market analysis. Try it today for $4.99/month. Subscribe\\xa0... ... Index. 4,845.65. - 79.32. 1.61%. NASDAQ Index. 15,164.01. - 345.89. 2.23%. Last updated Jan 31 at 5:27:42 PM ET. Today's hot stocks. Active Gainers Losers. Get the latest stock market news, stock information & quotes, data analysis reports, as well as a general overview of the market landscape from Nasdaq. Markets Performance ; Commodities. Future, Last ; Currencies. Exchange, Last ; Rates & Bonds. Name, Yield ; Stocks. Index, Last\\xa0... Investment Date, Original Shares, Original Value, Current Shares, Current Value, Percent Return. Jan 02, 2014, 100.00, $3,921.00, 300.00, $17,508.00\\xa0... (NASDAQ: AMZN) announced today that it will hold a conference call to discuss its fourth quarter 2023 financial results on Thursday, February 1, 2024,...\""
      ]
     },
     "execution_count": 2,
     "metadata": {},
     "output_type": "execute_result"
    }
   ],
   "source": [
    "from langchain_community.utilities import GoogleSearchAPIWrapper\n",
    "\n",
    "\n",
    "search = GoogleSearchAPIWrapper()\n",
    "\n",
    "# 注意tools是一个列表，只不过这里只有一个元素，回想一下上一节课的内容\n",
    "tools = [\n",
    "    Tool(\n",
    "        name=\"Google Search\",\n",
    "        description=\"useful when you need to answer questions about current events\",\n",
    "        func=search.run,\n",
    "    )\n",
    "]\n",
    "tools[0].run(\"what is the performance of NASDAQ today？\")"
   ]
  },
  {
   "cell_type": "markdown",
   "id": "a20c44aa-c7be-4097-a2d0-59bcab3f609b",
   "metadata": {},
   "source": [
    "## 构造一个ZeroShotAgent with memory"
   ]
  },
  {
   "cell_type": "code",
   "execution_count": 3,
   "id": "58a4d667-cf2d-4a2d-9b90-f48d9062e8c6",
   "metadata": {},
   "outputs": [
    {
     "data": {
      "text/plain": [
       "{'chat_history': ''}"
      ]
     },
     "execution_count": 3,
     "metadata": {},
     "output_type": "execute_result"
    }
   ],
   "source": [
    "import os\n",
    "\n",
    "from langchain_core.prompts import PromptTemplate\n",
    "from langchain_openai import OpenAI\n",
    "from langchain.agents import AgentExecutor,Tool,ZeroShotAgent\n",
    "from langchain.chains import LLMChain\n",
    "from langchain.memory import ConversationBufferMemory\n",
    "\n",
    "\n",
    "prefix = \"\"\"\n",
    "    Have a conversation with a human, answering the following questions as best you can. \n",
    "    If you can answer the question by yourself,dont' use the tools.\n",
    "    You have access to the following tools: \"\"\"\n",
    "\n",
    "\n",
    "suffix = \"\"\"Begin!\"\n",
    "\n",
    "Previous Conversation:{chat_history}\n",
    "Question: {input}\n",
    "Thought: {agent_scratchpad}\"\"\"\n",
    "\n",
    "prompt = ZeroShotAgent.create_prompt(\n",
    "    tools,\n",
    "    prefix=prefix,\n",
    "    suffix=suffix,\n",
    "    input_variables=[\"input\", \"chat_history\", \"agent_scratchpad\"],\n",
    ")\n",
    "\n",
    "\n",
    "memory = ConversationBufferMemory(memory_key=\"chat_history\")\n",
    "memory.clear()\n",
    "\n",
    "memory.load_memory_variables({})"
   ]
  },
  {
   "cell_type": "code",
   "execution_count": 4,
   "id": "2e12b041-e53b-4305-87db-b02ca4fc9be9",
   "metadata": {},
   "outputs": [
    {
     "name": "stderr",
     "output_type": "stream",
     "text": [
      "D:\\chatbot\\jupyter\\.venv\\lib\\site-packages\\langchain_core\\_api\\deprecation.py:117: LangChainDeprecationWarning: The class `langchain.agents.mrkl.base.ZeroShotAgent` was deprecated in langchain 0.1.0 and will be removed in 0.2.0. Use create_react_agent instead.\n",
      "  warn_deprecated(\n"
     ]
    },
    {
     "name": "stdout",
     "output_type": "stream",
     "text": [
      "\n",
      "\n",
      "\u001b[1m> Entering new AgentExecutor chain...\u001b[0m\n",
      "\u001b[32;1m\u001b[1;3m I should use Google Search to find the answer.\n",
      "Action: Google Search\n",
      "Action Input: \"How many people live in China?\"\u001b[0m\n",
      "Observation: \u001b[36;1m\u001b[1;3mChina 2023 population is estimated at 1,425,671,352 people at mid year. ... The China Population (Live) counter shows a continuously updated estimate of ... Dec 5, 2022 ... Although China will lose its title as the world's most populous country, the UN still estimates its population at 1.426 billion people in 2022. Jul 10, 2017 ... 1. Good currency exchange rate and cheap cost of living well. · 2. Great food, the best in the world (in my opinion). · 3. Very friendly, warm, ... Jul 21, 2022 ... Global population projected to exceed 8 billion in 2022; half live in just seven countries ... People shown at a water park in ... Sep 2, 2020 ... \"There is a feeling unavailable to people who were born in the United States: None of us can know what it's like to come from a country ... Apr 1, 2022 ... BEIJING, April 1, 2022— Over the past 40 years, the number of people in China with incomes below $1.90 per day – the International Poverty ... Mu Guangzong, associate professor of the People's University of China, disagrees with the assumption that China can only sustain up to 1.6 billion people. This ... ... lives of millions of people. MAO died in 1976. Beginning in 1978, subsequent leaders DENG Xiaoping, JIANG Zemin, and HU Jintao focused on market-oriented ... Jan 12, 2023 ... The Chinese diaspora in the United States is comprised of approximately 5.4 million individuals who were born in China, Hong Kong, or Macao, or ... May 26, 2022 ... ... lives of people around the world. There's another core source of ... many of which originate in China. As a global food crisis threatens ...\u001b[0m\n",
      "Thought:\u001b[32;1m\u001b[1;3m I now know the final answer\n",
      "Final Answer: The estimated population of China in 2023 is 1,425,671,352 people.\u001b[0m\n",
      "\n",
      "\u001b[1m> Finished chain.\u001b[0m\n"
     ]
    },
    {
     "data": {
      "text/plain": [
       "{'input': 'How many people live in China?',\n",
       " 'chat_history': '',\n",
       " 'output': 'The estimated population of China in 2023 is 1,425,671,352 people.'}"
      ]
     },
     "execution_count": 4,
     "metadata": {},
     "output_type": "execute_result"
    }
   ],
   "source": [
    "llm = OpenAI(\n",
    "    temperature=0,\n",
    "    openai_api_key = os.getenv(\"OPENAI_API_KEY\"),\n",
    "    base_url = os.getenv(\"OPENAI_BASE_URL\")\n",
    ")\n",
    "\n",
    "llm_chain = LLMChain(llm=llm, prompt=prompt)\n",
    "\n",
    "agent = ZeroShotAgent(llm_chain=llm_chain, tools=tools, verbose=True)\n",
    "\n",
    "agent_chain = AgentExecutor.from_agent_and_tools(\n",
    "    agent=agent, tools=tools, verbose=True, memory=memory, max_iterations = 5\n",
    ")\n",
    "\n",
    "agent_chain.invoke({\"input\":\"How many people live in China?\"})"
   ]
  },
  {
   "cell_type": "code",
   "execution_count": 5,
   "id": "875d8e47-4336-49f9-acb7-743fc6b1486b",
   "metadata": {},
   "outputs": [
    {
     "name": "stdout",
     "output_type": "stream",
     "text": [
      "\n",
      "\n",
      "\u001b[1m> Entering new AgentExecutor chain...\u001b[0m\n",
      "\u001b[32;1m\u001b[1;3mI should use Google Search to find the answer.\n",
      "Action: Google Search\n",
      "Action Input: \"Capital of China\"\u001b[0m\n",
      "Observation: \u001b[36;1m\u001b[1;3mJun 4, 2015 ... Beijing is the capital of the People's Republic of China and one of the most populous cities in the world. The metropolis, located in north ... With about 22 million residents, Beijing is the world's most populous national capital city as well as China's second largest city after Shanghai. It is located ... Human Capital and China's Future Growth by Hongbin Li, Prashant Loyalka, Scott Rozelle and Binzhen Wu. Published in volume 31, issue 1, pages 25-48 of ... Beijing is the national capital, while Shanghai is the most populous city and largest financial center. People's Republic of China. 中华人民共和国 (Chinese). Aug 19, 2019 ... Capital misallocation has been documented as a prevailing empirical phenomenon both in less-developed economies in general and in China in ... Oct 18, 2023 ... WASHINGTON, DC – Chairman Mike Gallagher (R-WI) and Ranking Member Raja Krishnamoorthi (D-IL) of the House Select Committee on the Chinese ... May 16, 2022 ... China's ability to cultivate, attract, and retain human capital—or as Beijing more commonly puts it, national “talent”—will shape its ... Although capital accumulation--the growth in the country's stock of capital assets, such as new factories, manufacturing machinery, and communications ... Dec 8, 2006 ... We find that the aggregate rate of return to capital averaged 25% during 1978-1993, fell during 1993-1998, and has become flat at roughly 20% ... U.S. venture capital giant Sequoia plans to split off its Chinese and Indian/Southeast Asian businesses into two independent firms, it said on Tuesday, ...\u001b[0m\n",
      "Thought:\u001b[32;1m\u001b[1;3m I now know the final answer.\n",
      "Final Answer: The capital of China is Beijing.\u001b[0m\n",
      "\n",
      "\u001b[1m> Finished chain.\u001b[0m\n"
     ]
    },
    {
     "data": {
      "text/plain": [
       "{'input': 'What is the capital of that country?',\n",
       " 'chat_history': 'Human: How many people live in China?\\nAI: The estimated population of China in 2023 is 1,425,671,352 people.',\n",
       " 'output': 'The capital of China is Beijing.'}"
      ]
     },
     "execution_count": 5,
     "metadata": {},
     "output_type": "execute_result"
    }
   ],
   "source": [
    "agent_chain.invoke(input=\"What is the capital of that country?\")"
   ]
  },
  {
   "cell_type": "code",
   "execution_count": 7,
   "id": "730e6522-64cd-4a71-96f5-6aa4653ff79a",
   "metadata": {},
   "outputs": [
    {
     "name": "stdout",
     "output_type": "stream",
     "text": [
      "\n",
      "\n",
      "\u001b[1m> Entering new AgentExecutor chain...\u001b[0m\n"
     ]
    },
    {
     "ename": "ValueError",
     "evalue": "An output parsing error occurred. In order to pass this error back to the agent and have it try again, pass `handle_parsing_errors=True` to the AgentExecutor. This is the error: Could not parse LLM output: `I should introduce myself.\nAction: N/A`",
     "output_type": "error",
     "traceback": [
      "\u001b[1;31m---------------------------------------------------------------------------\u001b[0m",
      "\u001b[1;31mOutputParserException\u001b[0m                     Traceback (most recent call last)",
      "File \u001b[1;32mD:\\chatbot\\jupyter\\.venv\\lib\\site-packages\\langchain\\agents\\agent.py:1130\u001b[0m, in \u001b[0;36mAgentExecutor._iter_next_step\u001b[1;34m(self, name_to_tool_map, color_mapping, inputs, intermediate_steps, run_manager)\u001b[0m\n\u001b[0;32m   1129\u001b[0m     \u001b[38;5;66;03m# Call the LLM to see what to do.\u001b[39;00m\n\u001b[1;32m-> 1130\u001b[0m     output \u001b[38;5;241m=\u001b[39m \u001b[38;5;28mself\u001b[39m\u001b[38;5;241m.\u001b[39magent\u001b[38;5;241m.\u001b[39mplan(\n\u001b[0;32m   1131\u001b[0m         intermediate_steps,\n\u001b[0;32m   1132\u001b[0m         callbacks\u001b[38;5;241m=\u001b[39mrun_manager\u001b[38;5;241m.\u001b[39mget_child() \u001b[38;5;28;01mif\u001b[39;00m run_manager \u001b[38;5;28;01melse\u001b[39;00m \u001b[38;5;28;01mNone\u001b[39;00m,\n\u001b[0;32m   1133\u001b[0m         \u001b[38;5;241m*\u001b[39m\u001b[38;5;241m*\u001b[39minputs,\n\u001b[0;32m   1134\u001b[0m     )\n\u001b[0;32m   1135\u001b[0m \u001b[38;5;28;01mexcept\u001b[39;00m OutputParserException \u001b[38;5;28;01mas\u001b[39;00m e:\n",
      "File \u001b[1;32mD:\\chatbot\\jupyter\\.venv\\lib\\site-packages\\langchain\\agents\\agent.py:700\u001b[0m, in \u001b[0;36mAgent.plan\u001b[1;34m(self, intermediate_steps, callbacks, **kwargs)\u001b[0m\n\u001b[0;32m    699\u001b[0m full_output \u001b[38;5;241m=\u001b[39m \u001b[38;5;28mself\u001b[39m\u001b[38;5;241m.\u001b[39mllm_chain\u001b[38;5;241m.\u001b[39mpredict(callbacks\u001b[38;5;241m=\u001b[39mcallbacks, \u001b[38;5;241m*\u001b[39m\u001b[38;5;241m*\u001b[39mfull_inputs)\n\u001b[1;32m--> 700\u001b[0m \u001b[38;5;28;01mreturn\u001b[39;00m \u001b[38;5;28;43mself\u001b[39;49m\u001b[38;5;241;43m.\u001b[39;49m\u001b[43moutput_parser\u001b[49m\u001b[38;5;241;43m.\u001b[39;49m\u001b[43mparse\u001b[49m\u001b[43m(\u001b[49m\u001b[43mfull_output\u001b[49m\u001b[43m)\u001b[49m\n",
      "File \u001b[1;32mD:\\chatbot\\jupyter\\.venv\\lib\\site-packages\\langchain\\agents\\mrkl\\output_parser.py:72\u001b[0m, in \u001b[0;36mMRKLOutputParser.parse\u001b[1;34m(self, text)\u001b[0m\n\u001b[0;32m     69\u001b[0m \u001b[38;5;28;01melif\u001b[39;00m \u001b[38;5;129;01mnot\u001b[39;00m re\u001b[38;5;241m.\u001b[39msearch(\n\u001b[0;32m     70\u001b[0m     \u001b[38;5;124mr\u001b[39m\u001b[38;5;124m\"\u001b[39m\u001b[38;5;124m[\u001b[39m\u001b[38;5;124m\\\u001b[39m\u001b[38;5;124ms]*Action\u001b[39m\u001b[38;5;124m\\\u001b[39m\u001b[38;5;124ms*\u001b[39m\u001b[38;5;124m\\\u001b[39m\u001b[38;5;124md*\u001b[39m\u001b[38;5;124m\\\u001b[39m\u001b[38;5;124ms*Input\u001b[39m\u001b[38;5;124m\\\u001b[39m\u001b[38;5;124ms*\u001b[39m\u001b[38;5;124m\\\u001b[39m\u001b[38;5;124md*\u001b[39m\u001b[38;5;124m\\\u001b[39m\u001b[38;5;124ms*:[\u001b[39m\u001b[38;5;124m\\\u001b[39m\u001b[38;5;124ms]*(.*)\u001b[39m\u001b[38;5;124m\"\u001b[39m, text, re\u001b[38;5;241m.\u001b[39mDOTALL\n\u001b[0;32m     71\u001b[0m ):\n\u001b[1;32m---> 72\u001b[0m     \u001b[38;5;28;01mraise\u001b[39;00m OutputParserException(\n\u001b[0;32m     73\u001b[0m         \u001b[38;5;124mf\u001b[39m\u001b[38;5;124m\"\u001b[39m\u001b[38;5;124mCould not parse LLM output: `\u001b[39m\u001b[38;5;132;01m{\u001b[39;00mtext\u001b[38;5;132;01m}\u001b[39;00m\u001b[38;5;124m`\u001b[39m\u001b[38;5;124m\"\u001b[39m,\n\u001b[0;32m     74\u001b[0m         observation\u001b[38;5;241m=\u001b[39mMISSING_ACTION_INPUT_AFTER_ACTION_ERROR_MESSAGE,\n\u001b[0;32m     75\u001b[0m         llm_output\u001b[38;5;241m=\u001b[39mtext,\n\u001b[0;32m     76\u001b[0m         send_to_llm\u001b[38;5;241m=\u001b[39m\u001b[38;5;28;01mTrue\u001b[39;00m,\n\u001b[0;32m     77\u001b[0m     )\n\u001b[0;32m     78\u001b[0m \u001b[38;5;28;01melse\u001b[39;00m:\n",
      "\u001b[1;31mOutputParserException\u001b[0m: Could not parse LLM output: `I should introduce myself.\nAction: N/A`",
      "\nDuring handling of the above exception, another exception occurred:\n",
      "\u001b[1;31mValueError\u001b[0m                                Traceback (most recent call last)",
      "Cell \u001b[1;32mIn[7], line 1\u001b[0m\n\u001b[1;32m----> 1\u001b[0m \u001b[43magent_chain\u001b[49m\u001b[38;5;241;43m.\u001b[39;49m\u001b[43minvoke\u001b[49m\u001b[43m(\u001b[49m\u001b[38;5;28;43minput\u001b[39;49m\u001b[38;5;241;43m=\u001b[39;49m\u001b[38;5;124;43m\"\u001b[39;49m\u001b[38;5;124;43mwho are you?\u001b[39;49m\u001b[38;5;124;43m\"\u001b[39;49m\u001b[43m)\u001b[49m\n",
      "File \u001b[1;32mD:\\chatbot\\jupyter\\.venv\\lib\\site-packages\\langchain\\chains\\base.py:162\u001b[0m, in \u001b[0;36mChain.invoke\u001b[1;34m(self, input, config, **kwargs)\u001b[0m\n\u001b[0;32m    160\u001b[0m \u001b[38;5;28;01mexcept\u001b[39;00m \u001b[38;5;167;01mBaseException\u001b[39;00m \u001b[38;5;28;01mas\u001b[39;00m e:\n\u001b[0;32m    161\u001b[0m     run_manager\u001b[38;5;241m.\u001b[39mon_chain_error(e)\n\u001b[1;32m--> 162\u001b[0m     \u001b[38;5;28;01mraise\u001b[39;00m e\n\u001b[0;32m    163\u001b[0m run_manager\u001b[38;5;241m.\u001b[39mon_chain_end(outputs)\n\u001b[0;32m    164\u001b[0m final_outputs: Dict[\u001b[38;5;28mstr\u001b[39m, Any] \u001b[38;5;241m=\u001b[39m \u001b[38;5;28mself\u001b[39m\u001b[38;5;241m.\u001b[39mprep_outputs(\n\u001b[0;32m    165\u001b[0m     inputs, outputs, return_only_outputs\n\u001b[0;32m    166\u001b[0m )\n",
      "File \u001b[1;32mD:\\chatbot\\jupyter\\.venv\\lib\\site-packages\\langchain\\chains\\base.py:156\u001b[0m, in \u001b[0;36mChain.invoke\u001b[1;34m(self, input, config, **kwargs)\u001b[0m\n\u001b[0;32m    149\u001b[0m run_manager \u001b[38;5;241m=\u001b[39m callback_manager\u001b[38;5;241m.\u001b[39mon_chain_start(\n\u001b[0;32m    150\u001b[0m     dumpd(\u001b[38;5;28mself\u001b[39m),\n\u001b[0;32m    151\u001b[0m     inputs,\n\u001b[0;32m    152\u001b[0m     name\u001b[38;5;241m=\u001b[39mrun_name,\n\u001b[0;32m    153\u001b[0m )\n\u001b[0;32m    154\u001b[0m \u001b[38;5;28;01mtry\u001b[39;00m:\n\u001b[0;32m    155\u001b[0m     outputs \u001b[38;5;241m=\u001b[39m (\n\u001b[1;32m--> 156\u001b[0m         \u001b[38;5;28;43mself\u001b[39;49m\u001b[38;5;241;43m.\u001b[39;49m\u001b[43m_call\u001b[49m\u001b[43m(\u001b[49m\u001b[43minputs\u001b[49m\u001b[43m,\u001b[49m\u001b[43m \u001b[49m\u001b[43mrun_manager\u001b[49m\u001b[38;5;241;43m=\u001b[39;49m\u001b[43mrun_manager\u001b[49m\u001b[43m)\u001b[49m\n\u001b[0;32m    157\u001b[0m         \u001b[38;5;28;01mif\u001b[39;00m new_arg_supported\n\u001b[0;32m    158\u001b[0m         \u001b[38;5;28;01melse\u001b[39;00m \u001b[38;5;28mself\u001b[39m\u001b[38;5;241m.\u001b[39m_call(inputs)\n\u001b[0;32m    159\u001b[0m     )\n\u001b[0;32m    160\u001b[0m \u001b[38;5;28;01mexcept\u001b[39;00m \u001b[38;5;167;01mBaseException\u001b[39;00m \u001b[38;5;28;01mas\u001b[39;00m e:\n\u001b[0;32m    161\u001b[0m     run_manager\u001b[38;5;241m.\u001b[39mon_chain_error(e)\n",
      "File \u001b[1;32mD:\\chatbot\\jupyter\\.venv\\lib\\site-packages\\langchain\\agents\\agent.py:1376\u001b[0m, in \u001b[0;36mAgentExecutor._call\u001b[1;34m(self, inputs, run_manager)\u001b[0m\n\u001b[0;32m   1374\u001b[0m \u001b[38;5;66;03m# We now enter the agent loop (until it returns something).\u001b[39;00m\n\u001b[0;32m   1375\u001b[0m \u001b[38;5;28;01mwhile\u001b[39;00m \u001b[38;5;28mself\u001b[39m\u001b[38;5;241m.\u001b[39m_should_continue(iterations, time_elapsed):\n\u001b[1;32m-> 1376\u001b[0m     next_step_output \u001b[38;5;241m=\u001b[39m \u001b[38;5;28;43mself\u001b[39;49m\u001b[38;5;241;43m.\u001b[39;49m\u001b[43m_take_next_step\u001b[49m\u001b[43m(\u001b[49m\n\u001b[0;32m   1377\u001b[0m \u001b[43m        \u001b[49m\u001b[43mname_to_tool_map\u001b[49m\u001b[43m,\u001b[49m\n\u001b[0;32m   1378\u001b[0m \u001b[43m        \u001b[49m\u001b[43mcolor_mapping\u001b[49m\u001b[43m,\u001b[49m\n\u001b[0;32m   1379\u001b[0m \u001b[43m        \u001b[49m\u001b[43minputs\u001b[49m\u001b[43m,\u001b[49m\n\u001b[0;32m   1380\u001b[0m \u001b[43m        \u001b[49m\u001b[43mintermediate_steps\u001b[49m\u001b[43m,\u001b[49m\n\u001b[0;32m   1381\u001b[0m \u001b[43m        \u001b[49m\u001b[43mrun_manager\u001b[49m\u001b[38;5;241;43m=\u001b[39;49m\u001b[43mrun_manager\u001b[49m\u001b[43m,\u001b[49m\n\u001b[0;32m   1382\u001b[0m \u001b[43m    \u001b[49m\u001b[43m)\u001b[49m\n\u001b[0;32m   1383\u001b[0m     \u001b[38;5;28;01mif\u001b[39;00m \u001b[38;5;28misinstance\u001b[39m(next_step_output, AgentFinish):\n\u001b[0;32m   1384\u001b[0m         \u001b[38;5;28;01mreturn\u001b[39;00m \u001b[38;5;28mself\u001b[39m\u001b[38;5;241m.\u001b[39m_return(\n\u001b[0;32m   1385\u001b[0m             next_step_output, intermediate_steps, run_manager\u001b[38;5;241m=\u001b[39mrun_manager\n\u001b[0;32m   1386\u001b[0m         )\n",
      "File \u001b[1;32mD:\\chatbot\\jupyter\\.venv\\lib\\site-packages\\langchain\\agents\\agent.py:1102\u001b[0m, in \u001b[0;36mAgentExecutor._take_next_step\u001b[1;34m(self, name_to_tool_map, color_mapping, inputs, intermediate_steps, run_manager)\u001b[0m\n\u001b[0;32m   1093\u001b[0m \u001b[38;5;28;01mdef\u001b[39;00m \u001b[38;5;21m_take_next_step\u001b[39m(\n\u001b[0;32m   1094\u001b[0m     \u001b[38;5;28mself\u001b[39m,\n\u001b[0;32m   1095\u001b[0m     name_to_tool_map: Dict[\u001b[38;5;28mstr\u001b[39m, BaseTool],\n\u001b[1;32m   (...)\u001b[0m\n\u001b[0;32m   1099\u001b[0m     run_manager: Optional[CallbackManagerForChainRun] \u001b[38;5;241m=\u001b[39m \u001b[38;5;28;01mNone\u001b[39;00m,\n\u001b[0;32m   1100\u001b[0m ) \u001b[38;5;241m-\u001b[39m\u001b[38;5;241m>\u001b[39m Union[AgentFinish, List[Tuple[AgentAction, \u001b[38;5;28mstr\u001b[39m]]]:\n\u001b[0;32m   1101\u001b[0m     \u001b[38;5;28;01mreturn\u001b[39;00m \u001b[38;5;28mself\u001b[39m\u001b[38;5;241m.\u001b[39m_consume_next_step(\n\u001b[1;32m-> 1102\u001b[0m         [\n\u001b[0;32m   1103\u001b[0m             a\n\u001b[0;32m   1104\u001b[0m             \u001b[38;5;28;01mfor\u001b[39;00m a \u001b[38;5;129;01min\u001b[39;00m \u001b[38;5;28mself\u001b[39m\u001b[38;5;241m.\u001b[39m_iter_next_step(\n\u001b[0;32m   1105\u001b[0m                 name_to_tool_map,\n\u001b[0;32m   1106\u001b[0m                 color_mapping,\n\u001b[0;32m   1107\u001b[0m                 inputs,\n\u001b[0;32m   1108\u001b[0m                 intermediate_steps,\n\u001b[0;32m   1109\u001b[0m                 run_manager,\n\u001b[0;32m   1110\u001b[0m             )\n\u001b[0;32m   1111\u001b[0m         ]\n\u001b[0;32m   1112\u001b[0m     )\n",
      "File \u001b[1;32mD:\\chatbot\\jupyter\\.venv\\lib\\site-packages\\langchain\\agents\\agent.py:1102\u001b[0m, in \u001b[0;36m<listcomp>\u001b[1;34m(.0)\u001b[0m\n\u001b[0;32m   1093\u001b[0m \u001b[38;5;28;01mdef\u001b[39;00m \u001b[38;5;21m_take_next_step\u001b[39m(\n\u001b[0;32m   1094\u001b[0m     \u001b[38;5;28mself\u001b[39m,\n\u001b[0;32m   1095\u001b[0m     name_to_tool_map: Dict[\u001b[38;5;28mstr\u001b[39m, BaseTool],\n\u001b[1;32m   (...)\u001b[0m\n\u001b[0;32m   1099\u001b[0m     run_manager: Optional[CallbackManagerForChainRun] \u001b[38;5;241m=\u001b[39m \u001b[38;5;28;01mNone\u001b[39;00m,\n\u001b[0;32m   1100\u001b[0m ) \u001b[38;5;241m-\u001b[39m\u001b[38;5;241m>\u001b[39m Union[AgentFinish, List[Tuple[AgentAction, \u001b[38;5;28mstr\u001b[39m]]]:\n\u001b[0;32m   1101\u001b[0m     \u001b[38;5;28;01mreturn\u001b[39;00m \u001b[38;5;28mself\u001b[39m\u001b[38;5;241m.\u001b[39m_consume_next_step(\n\u001b[1;32m-> 1102\u001b[0m         [\n\u001b[0;32m   1103\u001b[0m             a\n\u001b[0;32m   1104\u001b[0m             \u001b[38;5;28;01mfor\u001b[39;00m a \u001b[38;5;129;01min\u001b[39;00m \u001b[38;5;28mself\u001b[39m\u001b[38;5;241m.\u001b[39m_iter_next_step(\n\u001b[0;32m   1105\u001b[0m                 name_to_tool_map,\n\u001b[0;32m   1106\u001b[0m                 color_mapping,\n\u001b[0;32m   1107\u001b[0m                 inputs,\n\u001b[0;32m   1108\u001b[0m                 intermediate_steps,\n\u001b[0;32m   1109\u001b[0m                 run_manager,\n\u001b[0;32m   1110\u001b[0m             )\n\u001b[0;32m   1111\u001b[0m         ]\n\u001b[0;32m   1112\u001b[0m     )\n",
      "File \u001b[1;32mD:\\chatbot\\jupyter\\.venv\\lib\\site-packages\\langchain\\agents\\agent.py:1141\u001b[0m, in \u001b[0;36mAgentExecutor._iter_next_step\u001b[1;34m(self, name_to_tool_map, color_mapping, inputs, intermediate_steps, run_manager)\u001b[0m\n\u001b[0;32m   1139\u001b[0m     raise_error \u001b[38;5;241m=\u001b[39m \u001b[38;5;28;01mFalse\u001b[39;00m\n\u001b[0;32m   1140\u001b[0m \u001b[38;5;28;01mif\u001b[39;00m raise_error:\n\u001b[1;32m-> 1141\u001b[0m     \u001b[38;5;28;01mraise\u001b[39;00m \u001b[38;5;167;01mValueError\u001b[39;00m(\n\u001b[0;32m   1142\u001b[0m         \u001b[38;5;124m\"\u001b[39m\u001b[38;5;124mAn output parsing error occurred. \u001b[39m\u001b[38;5;124m\"\u001b[39m\n\u001b[0;32m   1143\u001b[0m         \u001b[38;5;124m\"\u001b[39m\u001b[38;5;124mIn order to pass this error back to the agent and have it try \u001b[39m\u001b[38;5;124m\"\u001b[39m\n\u001b[0;32m   1144\u001b[0m         \u001b[38;5;124m\"\u001b[39m\u001b[38;5;124magain, pass `handle_parsing_errors=True` to the AgentExecutor. \u001b[39m\u001b[38;5;124m\"\u001b[39m\n\u001b[0;32m   1145\u001b[0m         \u001b[38;5;124mf\u001b[39m\u001b[38;5;124m\"\u001b[39m\u001b[38;5;124mThis is the error: \u001b[39m\u001b[38;5;132;01m{\u001b[39;00m\u001b[38;5;28mstr\u001b[39m(e)\u001b[38;5;132;01m}\u001b[39;00m\u001b[38;5;124m\"\u001b[39m\n\u001b[0;32m   1146\u001b[0m     )\n\u001b[0;32m   1147\u001b[0m text \u001b[38;5;241m=\u001b[39m \u001b[38;5;28mstr\u001b[39m(e)\n\u001b[0;32m   1148\u001b[0m \u001b[38;5;28;01mif\u001b[39;00m \u001b[38;5;28misinstance\u001b[39m(\u001b[38;5;28mself\u001b[39m\u001b[38;5;241m.\u001b[39mhandle_parsing_errors, \u001b[38;5;28mbool\u001b[39m):\n",
      "\u001b[1;31mValueError\u001b[0m: An output parsing error occurred. In order to pass this error back to the agent and have it try again, pass `handle_parsing_errors=True` to the AgentExecutor. This is the error: Could not parse LLM output: `I should introduce myself.\nAction: N/A`"
     ]
    }
   ],
   "source": [
    "agent_chain.invoke(input=\"who are you?\")"
   ]
  },
  {
   "cell_type": "markdown",
   "id": "041520ec-3554-4d85-a1ca-fdc57e504ff3",
   "metadata": {},
   "source": [
    "## 尝试构造一个 create_react_agent"
   ]
  },
  {
   "cell_type": "code",
   "execution_count": 8,
   "id": "21f0c97d-91d7-47d9-8964-9d9eb12665dd",
   "metadata": {},
   "outputs": [
    {
     "name": "stdout",
     "output_type": "stream",
     "text": [
      "input_variables=['agent_scratchpad', 'chat_history', 'input', 'tool_names', 'tools'] template=\"\\nAnswer the following questions as best you can. \\nTry to answer the question by yourself.\\nIf not necessary, don't use the tools.\\n\\nYou have access to the following tools:{tools}\\n\\nUse the following format:\\n\\nQuestion: the input question you must answer\\nThought: you should always think about what to do\\nAction: the action to take, should be one of [{tool_names}]\\nAction Input: the input to the action\\nObservation: the result of the action\\n... (this Thought/Action/Action Input/Observation can repeat N times)\\nThought: I now know the final answer\\nFinal Answer: the final answer to the original input question\\n\\nBegin!\\n\\nPrevious Conversation:{chat_history}\\nQuestion: {input}\\nThought:{agent_scratchpad}\\n\"\n"
     ]
    }
   ],
   "source": [
    "import os\n",
    "\n",
    "from langchain_openai import OpenAI\n",
    "from langchain import hub\n",
    "from langchain_core.prompts import PromptTemplate\n",
    "from langchain.agents import AgentExecutor, create_react_agent\n",
    "\n",
    "template='''\n",
    "Answer the following questions as best you can. \n",
    "Try to answer the question by yourself.\n",
    "If not necessary, don't use the tools.\n",
    "\n",
    "You have access to the following tools:{tools}\n",
    "\n",
    "Use the following format:\n",
    "\n",
    "Question: the input question you must answer\n",
    "Thought: you should always think about what to do\n",
    "Action: the action to take, should be one of [{tool_names}]\n",
    "Action Input: the input to the action\n",
    "Observation: the result of the action\n",
    "... (this Thought/Action/Action Input/Observation can repeat N times)\n",
    "Thought: I now know the final answer\n",
    "Final Answer: the final answer to the original input question\n",
    "\n",
    "Begin!\n",
    "\n",
    "Previous Conversation:{chat_history}\n",
    "Question: {input}\n",
    "Thought:{agent_scratchpad}\n",
    "'''\n",
    "\n",
    "\n",
    "prompt = PromptTemplate.from_template(template)\n",
    "print(prompt)"
   ]
  },
  {
   "cell_type": "code",
   "execution_count": 9,
   "id": "bb0a5a59-22f1-4efe-a395-9a8b24da6ad9",
   "metadata": {},
   "outputs": [
    {
     "name": "stdout",
     "output_type": "stream",
     "text": [
      "\n",
      "\n",
      "\u001b[1m> Entering new AgentExecutor chain...\u001b[0m\n",
      "\u001b[32;1m\u001b[1;3mI should respond politely.\n",
      "Action: None\u001b[0mInvalid Format: Missing 'Action Input:' after 'Action:'\u001b[32;1m\u001b[1;3mI should respond politely.\n",
      "Action: None\n",
      "Action Input: None\u001b[0mNone is not a valid tool, try one of [Google Search].\u001b[32;1m\u001b[1;3mI should respond politely.\n",
      "Action: Google Search\n",
      "Action Input: \"how to respond politely\"\u001b[0m\u001b[36;1m\u001b[1;3mDec 7, 2021 ... Instead of yes, you can say: · Yes I can/Yes, sure thing. · Yes of course!/Of course I will. · Yes I can. It's this way. · Sure. It's 10am. May 3, 2017 ... How to respond politely when someone tells you something useful? · thanks for letting me know · thanks for informing me · thanks for reminding ... Aug 14, 2019 ... Thank you for your advice, but I can handle this.” “I appreciate your help, but I prefer to do this on my own.” “I see what you're trying to ... Jun 15, 2022 ... The standard \"response\" would be ご無沙汰しております, which is \"polite\" and a little \"formal\" but this phrase/response what is usually/normally ... Jul 1, 2022 ... Possible approaches - can you think of more? · Saying \"it works for me\". · Short response with open question e.g. \"Hi, can you explain exactly ... Re: How to politely respond to a customer in this situation? (Digital Designers) ... \"Unfortunately, I cannot complete your request. Please ... Jun 12, 2018 ... Rewrite it as a request to respond in-line, point-by-point, so that you can see exactly which points the writer is responding to. Consider ... Mar 21, 2015 ... If they ask you to pray or say grace or otherwise participate past being quietly respectful or holding hands, try \"I won't intrude on your ... Oct 15, 2014 ... If there isn't enough information in the question to answer it correctly, ask for more information. Don't just assume. Or maybe give a couple of ... Nov 4, 2017 ... I'm glad that you finally made it! I worried a lot, and thought something bad might have happened to you. Luckily, not... Please, next time you ...\u001b[0m\u001b[32;1m\u001b[1;3m\u001b[0m\n",
      "\n",
      "\u001b[1m> Finished chain.\u001b[0m\n"
     ]
    },
    {
     "data": {
      "text/plain": [
       "{'input': 'hi,how are you?',\n",
       " 'chat_history': '',\n",
       " 'output': 'Agent stopped due to iteration limit or time limit.'}"
      ]
     },
     "execution_count": 9,
     "metadata": {},
     "output_type": "execute_result"
    }
   ],
   "source": [
    "llm = OpenAI(\n",
    "    temperature=0,\n",
    "    openai_api_key = os.getenv(\"OPENAI_API_KEY\"),\n",
    "    base_url = os.getenv(\"OPENAI_BASE_URL\")\n",
    ")\n",
    "\n",
    "from langchain_community.utilities import GoogleSearchAPIWrapper\n",
    "\n",
    "\n",
    "search = GoogleSearchAPIWrapper()\n",
    "\n",
    "\n",
    "tools = [\n",
    "    Tool(\n",
    "        name=\"Google Search\",\n",
    "        description=\"A search engine you can use when you need to know latest news or data\",\n",
    "        func=search.run,\n",
    "    ),\n",
    "]\n",
    "\n",
    "memory = ConversationBufferMemory(memory_key=\"chat_history\")\n",
    "\n",
    "agent = create_react_agent(llm, tools, prompt)\n",
    "agent_executor = AgentExecutor(agent=agent, tools=tools, memory = memory, max_iterations = 3,handle_parsing_errors=True,verbose= True)\n",
    "\n",
    "agent_executor.invoke({\"input\":\"hi,how are you?\"})\n"
   ]
  },
  {
   "cell_type": "code",
   "execution_count": 10,
   "id": "ba2c85af-a600-4056-96f6-c4c0570181c3",
   "metadata": {},
   "outputs": [
    {
     "name": "stdout",
     "output_type": "stream",
     "text": [
      "\n",
      "\n",
      "\u001b[1m> Entering new AgentExecutor chain...\u001b[0m\n",
      "\u001b[32;1m\u001b[1;3mAction: Google Search\n",
      "Action Input: \"population USA\"\u001b[0m\u001b[36;1m\u001b[1;3mShows estimates of current USA Population overall and people by US state/county and of World Population overall, by country and most populated countries. The current population of the United States of America is 341,059,544 as of Wednesday, January 31, 2024, based on Worldometer elaboration of the latest United ... QuickFacts provides statistics for all states and counties. Also for cities and towns with a population of 5,000 or more. -- Select a fact -- ... With a population of over 334 million, it is the third-most populous country in the world. The national capital is Washington, D.C., and its most populous city ... Access demographic, economic and population data from the U.S. Census Bureau. ... USA Population (depicts US population). 335,996,532. World Population (depicts ... The Bureau of Population, Refugees, and Migration (PRM) is the humanitarian bureau of the U.S. Department of State. Prevalence of Both Diagnosed and Undiagnosed Diabetes. Among the US population overall, crude estimates for 2021 were: 38.4 million people of all ages—or 11.6% ... The Current Population Survey (CPS) is a monthly survey of households conducted by the Bureau of Census for the Bureau of Labor Statistics. IPUMS CPS harmonizes microdata from the monthly U.S. labor force survey, the Current Population Survey (CPS), covering the period 1962 to the present. LPRs, also known as “green card” holders, are immigrants who have been granted lawful permanent residence in the United States but have not yet become U.S. ...\u001b[0m\u001b[32;1m\u001b[1;3mI now know the final answer\n",
      "Final Answer: The current population of the United States of America is 341,059,544 as of Wednesday, January 31, 2024.\u001b[0m\n",
      "\n",
      "\u001b[1m> Finished chain.\u001b[0m\n"
     ]
    },
    {
     "data": {
      "text/plain": [
       "{'input': 'what is the population in USA?',\n",
       " 'chat_history': 'Human: hi,how are you?\\nAI: Agent stopped due to iteration limit or time limit.',\n",
       " 'output': 'The current population of the United States of America is 341,059,544 as of Wednesday, January 31, 2024.'}"
      ]
     },
     "execution_count": 10,
     "metadata": {},
     "output_type": "execute_result"
    }
   ],
   "source": [
    "agent_executor.invoke({\"input\":\"what is the population in USA?\"})"
   ]
  }
 ],
 "metadata": {
  "kernelspec": {
   "display_name": "Python 3 (ipykernel)",
   "language": "python",
   "name": "python3"
  },
  "language_info": {
   "codemirror_mode": {
    "name": "ipython",
    "version": 3
   },
   "file_extension": ".py",
   "mimetype": "text/x-python",
   "name": "python",
   "nbconvert_exporter": "python",
   "pygments_lexer": "ipython3",
   "version": "3.10.8"
  }
 },
 "nbformat": 4,
 "nbformat_minor": 5
}
