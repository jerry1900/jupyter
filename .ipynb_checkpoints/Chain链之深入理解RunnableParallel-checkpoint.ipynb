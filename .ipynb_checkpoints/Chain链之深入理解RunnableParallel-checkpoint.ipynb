{
 "cells": [
  {
   "cell_type": "markdown",
   "id": "218f7045-b425-4735-85ab-bb5f1ec3922e",
   "metadata": {},
   "source": [
    "# 数据增强之深入理解 RunnableParallel"
   ]
  },
  {
   "cell_type": "markdown",
   "id": "64614b2c-ac92-450d-a77d-61ea9e7bd4cb",
   "metadata": {},
   "source": [
    "### 版权声明：本文为CSDN博主「AI架构师易筋」的原创文章，遵循CC 4.0 BY-SA版权协议，转载请附上原文出处链接及本声明。\n",
    "### 原文链接：https://blog.csdn.net/zgpeace/article/details/135290412"
   ]
  },
  {
   "cell_type": "code",
   "execution_count": 4,
   "id": "2687a2d4-fb59-4f5c-8782-9ec35b68f46d",
   "metadata": {},
   "outputs": [],
   "source": [
    "import time\n",
    "\n",
    "def measure_execution_time(func, *arg, **kwargs):\n",
    "    \"\"\"测量并返回给定函数的执行时间。\n",
    "\n",
    "    Args:\n",
    "        func: 要测量的函数对象。\n",
    "        *args: 传递给函数的位置参数。\n",
    "        **kwargs: 传递给函数的关键字参数。\n",
    "\n",
    "    Returns:\n",
    "        tuple: (执行结果, 耗时秒数)\n",
    "    \"\"\"\n",
    "    \n",
    "    start_time = time.perf_counter()\n",
    "    process = func(*arg, **kwargs)\n",
    "    end_time = time.perf_counter()\n",
    "    elapsed_time = end_time - start_time\n",
    "\n",
    "    return process,elapsed_time\n"
   ]
  },
  {
   "cell_type": "code",
   "execution_count": 8,
   "id": "63d27f25-8d37-4ede-9568-417cf61bcf75",
   "metadata": {},
   "outputs": [],
   "source": [
    "def sheep_counting(sheep_number):\n",
    "    result = 0\n",
    "    for i in range(sheep_number+1):\n",
    "        result = result + i\n",
    "\n",
    "    return result"
   ]
  },
  {
   "cell_type": "code",
   "execution_count": 9,
   "id": "f04c2dae-7736-46cf-a185-c52463625121",
   "metadata": {},
   "outputs": [
    {
     "name": "stdout",
     "output_type": "stream",
     "text": [
      "55 4.999979864805937e-06\n"
     ]
    }
   ],
   "source": [
    "result, pass_time = measure_execution_time(sheep_counting,10)\n",
    "print(result,pass_time)"
   ]
  },
  {
   "cell_type": "code",
   "execution_count": null,
   "id": "7536d1bf-1a16-4768-99f5-4c2448240a1b",
   "metadata": {},
   "outputs": [],
   "source": [
    "import time\n",
    "import os\n",
    "\n",
    "from langchain_core.runnables import RunnablePassthrough,RunnableParallel\n",
    "from langchain.prompts import ChatPromptTemplate\n",
    "from langchain_openai import ChatOpenAI\n",
    "from langchain_core.output_parsers import StrOutputParser\n",
    "\n",
    "\n",
    "api_key = os.getenv(\"OPENAI_API_KEY\")\n",
    "model = ChatOpenAI(openai_api_key=api_key,temperature=0.8)"
   ]
  }
 ],
 "metadata": {
  "kernelspec": {
   "display_name": "Python 3 (ipykernel)",
   "language": "python",
   "name": "python3"
  },
  "language_info": {
   "codemirror_mode": {
    "name": "ipython",
    "version": 3
   },
   "file_extension": ".py",
   "mimetype": "text/x-python",
   "name": "python",
   "nbconvert_exporter": "python",
   "pygments_lexer": "ipython3",
   "version": "3.10.8"
  }
 },
 "nbformat": 4,
 "nbformat_minor": 5
}
