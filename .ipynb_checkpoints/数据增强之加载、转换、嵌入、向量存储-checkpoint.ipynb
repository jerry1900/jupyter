{
 "cells": [
  {
   "cell_type": "markdown",
   "id": "dba248ba-ba47-4f05-87c2-08a45a985c50",
   "metadata": {},
   "source": [
    "# 介绍数据增强的数据加载、转换"
   ]
  },
  {
   "cell_type": "markdown",
   "id": "0457941f-3129-47c6-acf4-2e66c4484bf2",
   "metadata": {},
   "source": [
    "## 使用PDF加载器加载一个PDF文档"
   ]
  },
  {
   "cell_type": "code",
   "execution_count": null,
   "id": "aab54ba8-4607-4492-aa41-c610cc43319a",
   "metadata": {},
   "outputs": [],
   "source": [
    "pip install pypdf"
   ]
  },
  {
   "cell_type": "code",
   "execution_count": null,
   "id": "63a4fba4-2d16-4b4c-8bbe-90522e45334d",
   "metadata": {},
   "outputs": [],
   "source": [
    "## 加载 可以加载PDF里图像中的文字"
   ]
  },
  {
   "cell_type": "code",
   "execution_count": 10,
   "id": "e4d86df0-cffe-408b-b638-65d1120fe835",
   "metadata": {},
   "outputs": [
    {
     "name": "stdout",
     "output_type": "stream",
     "text": [
      "Note: you may need to restart the kernel to use updated packages.\n"
     ]
    },
    {
     "name": "stderr",
     "output_type": "stream",
     "text": [
      "ERROR: Invalid requirement: '#'\n",
      "\n",
      "[notice] A new release of pip available: 22.2.2 -> 23.3.2\n",
      "[notice] To update, run: python.exe -m pip install --upgrade pip\n"
     ]
    }
   ],
   "source": [
    "pip install rapidocr-onnxruntime "
   ]
  },
  {
   "cell_type": "markdown",
   "id": "86bead6b-867c-4d5d-8976-33e1911a39ab",
   "metadata": {},
   "source": [
    "## 注意加载本地文件的时候要注意 \\ 是转义符，直接填入地址会报错"
   ]
  },
  {
   "cell_type": "code",
   "execution_count": 4,
   "id": "41cdbaf4-974e-4791-a5db-52cb3a7057d2",
   "metadata": {},
   "outputs": [
    {
     "name": "stdout",
     "output_type": "stream",
     "text": [
      "page_content='目录\\n一、项目背景..................................................................................................................................2\\n二、需求介绍..................................................................................................................................2\\n一、项目背景\\n天伟化学，目前在用我们的智能巡检产品（2.0），目前客户使用反馈可以满足一线员\\n工的日常设备巡检，但是无法满足其他巡检需求，如重大危险源、工艺、安全巡检；并且我\\n们的产品设计之初考虑的直接使用者是一线外操人员，没有考虑其他角色（厂领导、值班领\\n导等其他角色）。且现有巡检2.0产品，终端无法跨组织使用，无法满足天伟的需求。\\n为了更好地服务客户，现考虑将天伟化工从巡检2.0升级到巡检3.0，为了满足天伟对\\n于重大危险源、工艺、安全、设备四类巡检工作的展现和统计要求，需对巡检3.0做项目提\\n升。\\n同时，为了更好地提升现有巡检产品，此次需求不仅考虑天伟的需求，同时考虑产品的\\n通用性，以便其他客户能够更好地使用我们的巡检3.0产品。\\n二、需求介绍\\n1.需求总体思路\\n对于路线和设备，引入一个“巡检主题”类型的概念。所谓“巡检主题”是指不同类型\\n的巡检，比如设备巡检（我们现有的），我们可以根据客户实际需要配置新的巡检主题，比\\n如工艺、安全、重大危险源或其他“主题”。\\n对于路线、设备、巡检项，新增一个属性“巡检主题”。默认的巡检主题是设备，是我\\n们目前现有的模式，用户在添加路线和巡检项时，可以选择不同的巡检主题。\\n一个路线、一个巡检项只能有一种巡检主题；一个设备可以有多个巡检主题；\\n路线有了类型，那么巡检任务也会有不同的“巡检主题”，在APP和后台展示不同类\\n型的巡检任务，会有不同的标识，帮助用户区分不同类型的任务。同时在工作台、统计和报\\n表中，要对不同类型的路线和任务进行统计，增加筛选条件。' metadata={'source': 'C:\\\\Users\\\\Administrator\\\\Desktop\\\\AI\\\\PRD.pdf', 'page': 1}\n",
      "<class 'list'>\n"
     ]
    }
   ],
   "source": [
    "import sys\n",
    "\n",
    "from langchain_community.document_loaders import PyPDFLoader\n",
    "\n",
    "\n",
    "loader = PyPDFLoader(r\"C:\\Users\\Administrator\\Desktop\\AI\\PRD.pdf\")\n",
    "pages = loader.load_and_split()\n",
    "\n",
    "print(pages[1])\n",
    "print(type(pages))"
   ]
  },
  {
   "cell_type": "code",
   "execution_count": 1,
   "id": "219c9b74-99b1-40fe-ba88-6d6c4268451d",
   "metadata": {},
   "outputs": [
    {
     "ename": "NameError",
     "evalue": "name 'pages' is not defined",
     "output_type": "error",
     "traceback": [
      "\u001b[1;31m---------------------------------------------------------------------------\u001b[0m",
      "\u001b[1;31mNameError\u001b[0m                                 Traceback (most recent call last)",
      "Cell \u001b[1;32mIn[1], line 1\u001b[0m\n\u001b[1;32m----> 1\u001b[0m \u001b[38;5;28mprint\u001b[39m(\u001b[43mpages\u001b[49m[\u001b[38;5;241m1\u001b[39m])\n",
      "\u001b[1;31mNameError\u001b[0m: name 'pages' is not defined"
     ]
    }
   ],
   "source": [
    "print(pages[1])"
   ]
  },
  {
   "cell_type": "code",
   "execution_count": 5,
   "id": "2d474102-9038-4895-9fb5-f9f5571cfc85",
   "metadata": {},
   "outputs": [
    {
     "name": "stdout",
     "output_type": "stream",
     "text": [
      "page_content='巡检3.0产品提升需求\\n时间 版本 改动内容 待解决问题 作者\\n2023-08-22 1.0介绍项目背景、需求介绍；\\n目标版本v3.8.7.0万贺\\n2023-8-25 1.1经和杨红梅、卓玉保等讨论，修改思路，将\\n巡检主题作为设备的一个内在属性（新增设\\n备时无需选择），在新增巡检项时选择是哪\\n一种巡检主题。万贺' metadata={'source': 'C:\\\\Users\\\\Administrator\\\\Desktop\\\\AI\\\\PRD.pdf', 'page': 0}\n",
      "<class 'list'>\n"
     ]
    }
   ],
   "source": [
    "loader = PyPDFLoader(\"C:\\\\Users\\\\Administrator\\\\Desktop\\\\AI\\\\PRD.pdf\")\n",
    "pages = loader.load_and_split()\n",
    "\n",
    "print(pages[0])\n",
    "print(type(pages))"
   ]
  },
  {
   "cell_type": "markdown",
   "id": "c2331194-be34-4670-847a-fc6eaa3e67f2",
   "metadata": {},
   "source": [
    "## 查看加载文档的内存地址和大小"
   ]
  },
  {
   "cell_type": "code",
   "execution_count": 9,
   "id": "67730475-493a-4b12-ae06-64c137f21094",
   "metadata": {},
   "outputs": [
    {
     "name": "stdout",
     "output_type": "stream",
     "text": [
      "Memory Address: 2902002569216\n",
      "Object Size: 120 bytes\n"
     ]
    }
   ],
   "source": [
    "memory_address = id(pages)\n",
    "print(f\"Memory Address: {memory_address}\")\n",
    "\n",
    "object_size = sys.getsizeof(pages)\n",
    "print(f\"Object Size: {object_size} bytes\")"
   ]
  },
  {
   "cell_type": "markdown",
   "id": "b17479b2-91aa-4a9c-844f-300a4dec2866",
   "metadata": {},
   "source": [
    "## 对文档进行切分"
   ]
  },
  {
   "cell_type": "code",
   "execution_count": null,
   "id": "8b311da8-91a9-47cc-ba52-1e5f69cffcb8",
   "metadata": {},
   "outputs": [],
   "source": [
    "from langchain.text_splitter import CharacterTextSplitter"
   ]
  }
 ],
 "metadata": {
  "kernelspec": {
   "display_name": "Python 3 (ipykernel)",
   "language": "python",
   "name": "python3"
  },
  "language_info": {
   "codemirror_mode": {
    "name": "ipython",
    "version": 3
   },
   "file_extension": ".py",
   "mimetype": "text/x-python",
   "name": "python",
   "nbconvert_exporter": "python",
   "pygments_lexer": "ipython3",
   "version": "3.10.8"
  }
 },
 "nbformat": 4,
 "nbformat_minor": 5
}
