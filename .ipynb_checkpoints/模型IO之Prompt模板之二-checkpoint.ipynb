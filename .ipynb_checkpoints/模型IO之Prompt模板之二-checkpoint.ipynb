{
 "cells": [
  {
   "cell_type": "markdown",
   "id": "9d2e36b0-85ee-48fc-9ff1-d6cf50241743",
   "metadata": {},
   "source": [
    "## prompt的其他几种生成方式"
   ]
  },
  {
   "cell_type": "code",
   "execution_count": 1,
   "id": "d661e24c-486f-4b0d-8bbf-a9a2bf532617",
   "metadata": {},
   "outputs": [],
   "source": [
    "import langchain\n",
    "import os\n",
    "\n",
    "from langchain_openai import ChatOpenAI\n",
    "\n",
    "# 引入模板 ChatPromptTemplate\n",
    "from langchain_core.prompts import ChatPromptTemplate\n",
    "\n",
    "api_key = os.getenv(\"OPENAI_API_KEY\")\n",
    "\n",
    "llm = ChatOpenAI(\n",
    "    openai_api_key=api_key,\n",
    "    temperature = 0.5,\n",
    "    base_url = \"https://apejhvxcd.cloud.sealos.io/v1\"\n",
    ")"
   ]
  },
  {
   "cell_type": "code",
   "execution_count": 3,
   "id": "fab52a78-c959-4f15-bd20-d5e77f2d3701",
   "metadata": {},
   "outputs": [
    {
     "ename": "TypeError",
     "evalue": "can only concatenate str (not \"ChatPromptTemplate\") to str",
     "output_type": "error",
     "traceback": [
      "\u001b[1;31m---------------------------------------------------------------------------\u001b[0m",
      "\u001b[1;31mTypeError\u001b[0m                                 Traceback (most recent call last)",
      "Cell \u001b[1;32mIn[3], line 2\u001b[0m\n\u001b[0;32m      1\u001b[0m prompt \u001b[38;5;241m=\u001b[39m (\n\u001b[1;32m----> 2\u001b[0m     \u001b[38;5;124;43m\"\u001b[39;49m\u001b[38;5;124;43m你是一个讲笑话的人工智能\u001b[39;49m\u001b[38;5;130;43;01m\\n\u001b[39;49;00m\u001b[38;5;130;43;01m\\n\u001b[39;49;00m\u001b[38;5;124;43m\"\u001b[39;49m\u001b[38;5;241;43m+\u001b[39;49m\u001b[43mChatPromptTemplate\u001b[49m\u001b[38;5;241;43m.\u001b[39;49m\u001b[43mfrom_template\u001b[49m\u001b[43m(\u001b[49m\u001b[38;5;124;43m\"\u001b[39;49m\u001b[38;5;124;43m给我讲一个关于\u001b[39;49m\u001b[38;5;132;43;01m{topic}\u001b[39;49;00m\u001b[38;5;124;43m的笑话\u001b[39;49m\u001b[38;5;124;43m\"\u001b[39;49m\u001b[43m)\u001b[49m\n\u001b[0;32m      3\u001b[0m     \u001b[38;5;241m+\u001b[39m \u001b[38;5;124m\"\u001b[39m\u001b[38;5;130;01m\\n\u001b[39;00m\u001b[38;5;130;01m\\n\u001b[39;00m\u001b[38;5;124m 并且用 \u001b[39m\u001b[38;5;132;01m{language}\u001b[39;00m\u001b[38;5;124m 来讲\u001b[39m\u001b[38;5;124m\"\u001b[39m\n\u001b[0;32m      4\u001b[0m )\n\u001b[0;32m      6\u001b[0m chain \u001b[38;5;241m=\u001b[39m prompt \u001b[38;5;241m|\u001b[39m llm\n\u001b[0;32m      8\u001b[0m chain\u001b[38;5;241m.\u001b[39minvoke({\u001b[38;5;124m\"\u001b[39m\u001b[38;5;124mtopic\u001b[39m\u001b[38;5;124m\"\u001b[39m:\u001b[38;5;124m\"\u001b[39m\u001b[38;5;124m爱情\u001b[39m\u001b[38;5;124m\"\u001b[39m,\u001b[38;5;124m\"\u001b[39m\u001b[38;5;124mlanguage\u001b[39m\u001b[38;5;124m\"\u001b[39m:\u001b[38;5;124m\"\u001b[39m\u001b[38;5;124m英文\u001b[39m\u001b[38;5;124m\"\u001b[39m})\n",
      "\u001b[1;31mTypeError\u001b[0m: can only concatenate str (not \"ChatPromptTemplate\") to str"
     ]
    }
   ],
   "source": [
    "prompt = (\n",
    "    ChatPromptTemplate.from_template(\"给我讲一个关于{topic}的笑话\")\n",
    "    + \"\\n\\n 并且用 {language} 来讲\"\n",
    ")\n",
    "\n",
    "chain = prompt | llm\n",
    "\n",
    "chain.invoke({\"topic\":\"爱情\",\"language\":\"英文\"})"
   ]
  },
  {
   "cell_type": "code",
   "execution_count": 14,
   "id": "78eff505-b956-4b75-96b6-ef114fa9ad9d",
   "metadata": {},
   "outputs": [
    {
     "data": {
      "text/plain": [
       "AIMessage(content='英国的首都，伦敦之名，\\n历史悠久，文化繁荣的地方。\\n泰晤士河水，流淌其中，\\n大本钟敲响，时间从容。\\n大英博物馆，珍宝无数，\\n白金汉宫，皇室居所。\\n剑桥牛津，知识的殿堂，\\n伦敦塔桥，美丽的风光。\\n这里是英国的心脏，\\n伦敦，这座魅力之城。')"
      ]
     },
     "execution_count": 14,
     "metadata": {},
     "output_type": "execute_result"
    }
   ],
   "source": [
    "from langchain import PromptTemplate\n",
    "\n",
    "template = \"\"\"\n",
    "你是一个旅游销售员，你不仅要告诉用户正确的答案，还要用诗一样的语言来描述这个答案！\n",
    "请告诉我{country}的首都是那座城市？\n",
    "\n",
    "\"\"\"\n",
    "\n",
    "prompt3 = PromptTemplate(template = template, input_variables=[\"country\"])\n",
    "\n",
    "chain3 = prompt3 | llm\n",
    "\n",
    "chain3.invoke({\"country\":\"英国\",})"
   ]
  }
 ],
 "metadata": {
  "kernelspec": {
   "display_name": "Python 3 (ipykernel)",
   "language": "python",
   "name": "python3"
  },
  "language_info": {
   "codemirror_mode": {
    "name": "ipython",
    "version": 3
   },
   "file_extension": ".py",
   "mimetype": "text/x-python",
   "name": "python",
   "nbconvert_exporter": "python",
   "pygments_lexer": "ipython3",
   "version": "3.10.8"
  }
 },
 "nbformat": 4,
 "nbformat_minor": 5
}
