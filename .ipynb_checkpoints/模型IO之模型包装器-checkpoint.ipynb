{
 "cells": [
  {
   "cell_type": "markdown",
   "id": "63792fa0-d61f-411c-9ee8-c6e218b21a25",
   "metadata": {},
   "source": [
    "# 使用langchain调用openai的接口\n",
    "# 使用LLM模型包装器进行调用\n",
    "# 使用聊天模型包装器进行调用"
   ]
  },
  {
   "cell_type": "code",
   "execution_count": 1,
   "id": "6f70b3dc-d60e-416b-9745-6162dce4904a",
   "metadata": {},
   "outputs": [
    {
     "name": "stdout",
     "output_type": "stream",
     "text": [
      "Note: you may need to restart the kernel to use updated packages.\n"
     ]
    },
    {
     "name": "stderr",
     "output_type": "stream",
     "text": [
      "\n",
      "[notice] A new release of pip available: 22.2.2 -> 23.3.2\n",
      "[notice] To update, run: python.exe -m pip install --upgrade pip\n"
     ]
    }
   ],
   "source": [
    "pip install -q langchain"
   ]
  },
  {
   "cell_type": "markdown",
   "id": "ea8f331e-b517-4494-b3fc-c26e0f6669e5",
   "metadata": {},
   "source": [
    "## 使用LLM模型包装器进行调用"
   ]
  },
  {
   "cell_type": "code",
   "execution_count": 2,
   "id": "b6d92ee0-eaa4-4c6b-9f57-9d53f34dc0aa",
   "metadata": {},
   "outputs": [],
   "source": [
    "import langchain\n",
    "import os\n",
    "\n",
    "from langchain.llms import OpenAI\n",
    "\n",
    "api_key = os.getenv(\"OPENAI_API_KEY\")"
   ]
  },
  {
   "cell_type": "code",
   "execution_count": 6,
   "id": "a02e49ed-2bc0-4c3f-b5de-d234dd68c87e",
   "metadata": {},
   "outputs": [
    {
     "name": "stdout",
     "output_type": "stream",
     "text": [
      "\n",
      "\n",
      "邓小平被认为是中国改革开放的总设计师。他在1978年提出了改革开放的战略思想，并领导了中国的改革开放进程，为中国的经济发展和社会变革做出了重大贡献。 <class 'str'>\n"
     ]
    }
   ],
   "source": [
    "llm = OpenAI(openai_api_key = api_key, temperature=0.5)\n",
    "response = llm.invoke('谁是中国改革开放的总设计师？')\n",
    "print(response,type(response))"
   ]
  },
  {
   "cell_type": "markdown",
   "id": "5db06096-024d-4ccc-a0f7-2aa95489a2a8",
   "metadata": {},
   "source": [
    "## 使用聊天模型包装器进行调用"
   ]
  },
  {
   "cell_type": "code",
   "execution_count": 7,
   "id": "c70ae29b-0501-4e45-8701-02c2d81c9c69",
   "metadata": {},
   "outputs": [
    {
     "name": "stdout",
     "output_type": "stream",
     "text": [
      "content='中国改革开放的总设计师是邓小平。' <class 'langchain_core.messages.ai.AIMessage'>\n"
     ]
    }
   ],
   "source": [
    "import langchain\n",
    "import os\n",
    "\n",
    "from langchain_openai import ChatOpenAI\n",
    "\n",
    "\n",
    "api_key = os.getenv(\"OPENAI_API_KEY\")\n",
    "\n",
    "llm = ChatOpenAI(openai_api_key=api_key,temperature = 0.5)\n",
    "\n",
    "response = llm.invoke(\"中国改革开放的总设计师是谁?\")\n",
    "\n",
    "print(response,type(response))"
   ]
  },
  {
   "cell_type": "code",
   "execution_count": 4,
   "id": "2b79e462-dd24-430b-aa61-6f2c5a6e2a43",
   "metadata": {},
   "outputs": [
    {
     "data": {
      "text/plain": [
       "AIMessage(content='中国改革开放的总设计师是邓小平。邓小平是中国共产党的重要领导人，他在1978年提出了改革开放的政策，推动了中国经济的快速发展和社会变革。邓小平的改革开放政策包括了经济体制改革、对外开放、农村改革、科技进步等方面的重要举措，为中国的现代化建设奠定了基础。他的思想和政策对中国的发展产生了深远影响，被誉为中国改革开放的总设计师。')"
      ]
     },
     "execution_count": 4,
     "metadata": {},
     "output_type": "execute_result"
    }
   ],
   "source": [
    "from langchain_core.prompts import ChatPromptTemplate\n",
    "\n",
    "prompt = ChatPromptTemplate.from_messages([\n",
    "    (\"system\", \"你是一个中国历史专家.\"),\n",
    "    (\"user\", \"{input}\")\n",
    "])\n",
    "\n",
    "chain = prompt | llm\n",
    "\n",
    "chain.invoke({\"input\":\"中国改革开放的总设计师是谁?\"})\n"
   ]
  },
  {
   "cell_type": "code",
   "execution_count": 6,
   "id": "c00bab1a-7fb6-49dc-afb2-3930ce47a5f4",
   "metadata": {},
   "outputs": [
    {
     "data": {
      "text/plain": [
       "AIMessage(content='作为一个中国历史专家，我对编程语言的评价不在我的专业范围之内。JAVA和Python都是广泛使用的编程语言，它们在不同的领域有各自的优势。选择哪个语言取决于你的项目需求、个人偏好和目标。建议你根据自己的需求和兴趣，了解两种语言的特点和用途，并根据自己的情况做出选择。')"
      ]
     },
     "execution_count": 6,
     "metadata": {},
     "output_type": "execute_result"
    }
   ],
   "source": [
    "prompt2 = ChatPromptTemplate.from_messages([\n",
    "    (\"system\", \"你是一个中国历史专家.你对历史之外的知识不予以回答\"),\n",
    "    (\"user\", \"{input}\")\n",
    "])\n",
    "\n",
    "chain2 = prompt2 | llm\n",
    "\n",
    "chain2.invoke({\"input\":\"JAVA和python哪个是更好的语言?\"})"
   ]
  },
  {
   "cell_type": "code",
   "execution_count": 8,
   "id": "df31f928-62cd-4b74-8ca6-ee1e649c92d5",
   "metadata": {},
   "outputs": [
    {
     "name": "stdout",
     "output_type": "stream",
     "text": [
      "content='作为一个中国历史专家，我对JAVA和Python这两种编程语言没有专业的了解和评价。我建议咨询相关的专业人士或者进行更多的研究，以便得出自己的判断。' <class 'langchain_core.messages.ai.AIMessage'>\n"
     ]
    }
   ],
   "source": [
    "answer = chain2.invoke({\"input\":\"JAVA和python哪个是更好的语言?\"})\n",
    "print(answer,type(answer))\n"
   ]
  },
  {
   "cell_type": "code",
   "execution_count": 10,
   "id": "0d944e74-5d85-4455-b099-fc5bb676e7d3",
   "metadata": {},
   "outputs": [
    {
     "name": "stdout",
     "output_type": "stream",
     "text": [
      "作为一个中国历史专家，我对编程语言方面的知识并不是专业的，因此不能给出关于JAVA和Python哪个更好的评价。这是一个非常主观的问题，取决于您的需求、个人偏好以及具体的应用场景。JAVA和Python都是非常流行的编程语言，各有优势和特点。JAVA在企业级开发和大型项目中广泛应用，而Python则更适合科学计算、数据分析和人工智能等领域。您可以根据自己的需求和兴趣，了解两种语言的特点和用途，然后选择适合自己的语言。 <class 'str'>\n"
     ]
    }
   ],
   "source": [
    "from langchain_core.output_parsers import StrOutputParser\n",
    "\n",
    "output_parser = StrOutputParser()\n",
    "\n",
    "chain3 = prompt2 | llm | output_parser\n",
    "\n",
    "answer = chain3.invoke({\"input\":\"JAVA和python哪个是更好的语言?\"})\n",
    "\n",
    "print(answer,type(answer))"
   ]
  },
  {
   "cell_type": "markdown",
   "id": "9da05409-9a1f-4857-b8f2-7ab736818280",
   "metadata": {},
   "source": [
    "# 如果调用的是langchain_openai.llms invoke出来的是 string"
   ]
  },
  {
   "cell_type": "code",
   "execution_count": 1,
   "id": "81be3c06-761b-47d0-a850-29de9d223e3b",
   "metadata": {},
   "outputs": [
    {
     "data": {
      "text/plain": [
       "'\\n\\n邓小平。'"
      ]
     },
     "execution_count": 1,
     "metadata": {},
     "output_type": "execute_result"
    }
   ],
   "source": [
    "import langchain\n",
    "import os\n",
    "\n",
    "from langchain_openai.llms import OpenAI\n",
    "\n",
    "\n",
    "api_key = os.getenv(\"OPENAI_API_KEY\")\n",
    "\n",
    "llm = OpenAI(openai_api_key=api_key,temperature = 0.5)\n",
    "\n",
    "llm.invoke(\"中国改革开放的总设计师是谁?\")"
   ]
  }
 ],
 "metadata": {
  "kernelspec": {
   "display_name": "Python 3 (ipykernel)",
   "language": "python",
   "name": "python3"
  },
  "language_info": {
   "codemirror_mode": {
    "name": "ipython",
    "version": 3
   },
   "file_extension": ".py",
   "mimetype": "text/x-python",
   "name": "python",
   "nbconvert_exporter": "python",
   "pygments_lexer": "ipython3",
   "version": "3.10.8"
  }
 },
 "nbformat": 4,
 "nbformat_minor": 5
}
