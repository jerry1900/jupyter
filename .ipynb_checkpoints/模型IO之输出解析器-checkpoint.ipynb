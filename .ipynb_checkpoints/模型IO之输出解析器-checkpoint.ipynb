{
 "cells": [
  {
   "cell_type": "markdown",
   "id": "4cdcd204-5a64-4273-afec-e69a825ef03d",
   "metadata": {},
   "source": [
    "# 介绍输出解析器的基本使用和案例"
   ]
  },
  {
   "cell_type": "code",
   "execution_count": null,
   "id": "291bef85-c8be-44ed-bef8-e3d14f9058ff",
   "metadata": {},
   "outputs": [],
   "source": [
    "import langchain\n",
    "import os\n",
    "\n",
    "from langchain_openai import ChatOpenAI\n",
    "from langchain_core.prompts import ChatPromptTemplate\n",
    "from langchain_core.output_parsers import StrOutputParser\n",
    "\n",
    "api_key = os.getenv(\"OPENAI_API_KEY\")\n",
    "\n",
    "llm = ChatOpenAI(openai_api_key=api_key,temperature=0.5)\n",
    "\n",
    "prompt = ChatPromptTemplate.from_messages([\n",
    "    (\"system\", \"你是一个中国历史专家.\"),\n",
    "    (\"user\", \"{input}的第一个皇帝是谁？\")\n",
    "])\n",
    "\n",
    "output_parser = StrOutputParser()\n",
    "\n",
    "chain = prompt | llm | output_parser\n",
    "\n",
    "chain.invoke({\"input\":\"宋朝\"})"
   ]
  },
  {
   "cell_type": "markdown",
   "id": "f2376a93-66fb-4dd2-b457-82d1ca62e0d6",
   "metadata": {},
   "source": [
    "# 介绍模型绑定和控制"
   ]
  },
  {
   "cell_type": "code",
   "execution_count": null,
   "id": "54b58c23-d290-4de7-8675-821f220e624b",
   "metadata": {},
   "outputs": [],
   "source": [
    "import langchain\n",
    "import os\n",
    "\n",
    "from langchain_openai import ChatOpenAI\n",
    "from langchain_core.prompts import ChatPromptTemplate\n",
    "from langchain_core.output_parsers import StrOutputParser\n",
    "\n",
    "api_key = os.getenv(\"OPENAI_API_KEY\")\n",
    "\n",
    "llm = ChatOpenAI(openai_api_key=api_key,temperature=0.5)\n",
    "\n",
    "prompt = ChatPromptTemplate.from_messages([\n",
    "    (\"system\", \"你是一个中国历史专家.\"),\n",
    "    (\"user\", \"{input}的第一个皇帝是谁？\")\n",
    "])\n",
    "\n",
    "output_parser = StrOutputParser()\n",
    "\n",
    "chain = prompt | llm.bind(stop=[\"\\n\"]) | output_parser\n",
    "\n",
    "chain.invoke({\"input\":\"宋朝\"})"
   ]
  },
  {
   "cell_type": "markdown",
   "id": "9e8cabde-c997-431e-b4e8-9ea2159b2ba8",
   "metadata": {},
   "source": [
    "## 介绍一种可用但不推荐的组链方式"
   ]
  },
  {
   "cell_type": "code",
   "execution_count": 5,
   "id": "1d12e5b1-a890-41a0-8ff1-dde13a5cee3f",
   "metadata": {},
   "outputs": [
    {
     "name": "stdout",
     "output_type": "stream",
     "text": [
      "{'topic': '历史', 'language': 'chinese', 'text': 'Sure, here\\'s a joke about 历史 (lìshǐ), which means \"history\" in Chinese:\\n\\nWhy did the history book go to the dentist?\\n\\nBecause it had too many \"cavities\" to fill!'}\n"
     ]
    }
   ],
   "source": [
    "import langchain\n",
    "import os\n",
    "\n",
    "from langchain_openai import ChatOpenAI\n",
    "from langchain.chains import LLMChain\n",
    "from langchain.prompts import PromptTemplate\n",
    "from langchain_core.prompts import ChatPromptTemplate\n",
    "from langchain_core.output_parsers import StrOutputParser\n",
    "\n",
    "api_key = os.getenv(\"OPENAI_API_KEY\")\n",
    "\n",
    "llm = ChatOpenAI(openai_api_key=api_key,temperature=0.8)\n",
    "\n",
    "prompt = (\n",
    "    ChatPromptTemplate.from_template(\"Tell me a joke about {topic}\")\n",
    "    + \", make it funny\"\n",
    "    + \"\\n\\n and in {language}\"\n",
    "    \n",
    "    # PromptTemplate.from_template(\"Tell me a joke about {topic}\")\n",
    "    # + \", make it funny\"\n",
    "    # + \"\\n\\n and in {language}\"\n",
    ")\n",
    "\n",
    "# print(prompt)\n",
    "\n",
    "output_parser = StrOutputParser()\n",
    "\n",
    "#这种chain的组装方式是老的方式，不太推荐，推荐用新的 | 组装chain\n",
    "chain = LLMChain(llm=llm, prompt=prompt, output_parser=output_parser) \n",
    "\n",
    "print(chain.invoke({\"topic\":\"历史\", \"language\":\"chinese\"}))"
   ]
  }
 ],
 "metadata": {
  "kernelspec": {
   "display_name": "Python 3 (ipykernel)",
   "language": "python",
   "name": "python3"
  },
  "language_info": {
   "codemirror_mode": {
    "name": "ipython",
    "version": 3
   },
   "file_extension": ".py",
   "mimetype": "text/x-python",
   "name": "python",
   "nbconvert_exporter": "python",
   "pygments_lexer": "ipython3",
   "version": "3.10.8"
  }
 },
 "nbformat": 4,
 "nbformat_minor": 5
}
