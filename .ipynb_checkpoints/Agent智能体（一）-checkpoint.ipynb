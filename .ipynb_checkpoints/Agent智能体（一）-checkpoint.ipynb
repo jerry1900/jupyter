{
 "cells": [
  {
   "cell_type": "markdown",
   "id": "4f74f408-3f6a-40ab-9c28-3b2ff7286428",
   "metadata": {},
   "source": [
    "# 开始介绍Agent的简单实现"
   ]
  },
  {
   "cell_type": "markdown",
   "id": "a4e0d9f6-4e13-49aa-89ea-de3a2778106e",
   "metadata": {},
   "source": [
    "## 引入一个互联网查询的工具 Tavily，也可以用GOOGL的搜索工具，好像目前没有国内的搜索工具集成"
   ]
  },
  {
   "cell_type": "code",
   "execution_count": 6,
   "id": "58afcd79-1090-4915-b55b-efa55b0354a6",
   "metadata": {},
   "outputs": [
    {
     "name": "stdout",
     "output_type": "stream",
     "text": [
      "\u001b[32;1m\u001b[1;3m[{'url': 'http://mp.cnfol.com/32158/article/1706659344-141237095.html', 'content': '技术分析：昨天沪指跌1.83%，报2830.53点，深成指跌2.4%，报8375.98点，创业板指跌2.47%，报1583.77点，科创50指数跌3.79%，报697.85点。沪深两市合计成交额6636.4亿元，北向资金实际净买入17.3  早上好！昨日A股低开，上午时段沪指整体呈现震荡态势，盘中跌幅曾扩大至1%，深成指、创业板指短暂冲高后回落，一度双双跌超1%；午后市场延续弱势表现，尾盘三大指数集体走弱，沪指跌近2%，创业板指跌逾2%失守1600点，与深成指一同再创调整新低  ，是不是很多同学希望看到的市场出清的时候呢？这个A股新纪录每持续增加一天，是不是都代表着反转的概率越来越大呢？是不是一次向死而生的机遇呢？这都是2月份要思考的问题。  ，促进区域职住平衡、产城融合。2、美股收盘涨跌不一，道指四连涨，续创收盘新高，纳指跌0.76%，标普跌0.06%；科技股多数下跌。2 hours ago — 2 hours ago早上好！昨日A股低开，上午时段沪指整体呈现震荡态势，盘中跌幅曾扩大至1%，深成指、创业板指短暂冲高后回落，一度双双跌超1%；午后市场延续弱势\\xa0...'}]\u001b[0m"
     ]
    },
    {
     "data": {
      "text/plain": [
       "[{'url': 'http://mp.cnfol.com/32158/article/1706659344-141237095.html',\n",
       "  'content': '技术分析：昨天沪指跌1.83%，报2830.53点，深成指跌2.4%，报8375.98点，创业板指跌2.47%，报1583.77点，科创50指数跌3.79%，报697.85点。沪深两市合计成交额6636.4亿元，北向资金实际净买入17.3  早上好！昨日A股低开，上午时段沪指整体呈现震荡态势，盘中跌幅曾扩大至1%，深成指、创业板指短暂冲高后回落，一度双双跌超1%；午后市场延续弱势表现，尾盘三大指数集体走弱，沪指跌近2%，创业板指跌逾2%失守1600点，与深成指一同再创调整新低  ，是不是很多同学希望看到的市场出清的时候呢？这个A股新纪录每持续增加一天，是不是都代表着反转的概率越来越大呢？是不是一次向死而生的机遇呢？这都是2月份要思考的问题。  ，促进区域职住平衡、产城融合。2、美股收盘涨跌不一，道指四连涨，续创收盘新高，纳指跌0.76%，标普跌0.06%；科技股多数下跌。2 hours ago — 2 hours ago早上好！昨日A股低开，上午时段沪指整体呈现震荡态势，盘中跌幅曾扩大至1%，深成指、创业板指短暂冲高后回落，一度双双跌超1%；午后市场延续弱势\\xa0...'}]"
      ]
     },
     "execution_count": 6,
     "metadata": {},
     "output_type": "execute_result"
    }
   ],
   "source": [
    "from langchain_community.tools.tavily_search import TavilySearchResults\n",
    "\n",
    "search = TavilySearchResults(\n",
    "    max_results = 1,\n",
    "    verbose = True,\n",
    ")\n",
    "\n",
    "search.invoke(\"今天中国A股的表现如何，沪指和深指分别是多少？\")"
   ]
  },
  {
   "cell_type": "markdown",
   "id": "3670202b-3bd9-4474-b084-ca79b9e41212",
   "metadata": {},
   "source": [
    "## 构造一个检索器工具 Retriever"
   ]
  },
  {
   "cell_type": "code",
   "execution_count": 4,
   "id": "b9e0ad5f-cdef-494b-ac7a-df08b66025b9",
   "metadata": {},
   "outputs": [],
   "source": [
    "import os\n",
    "\n",
    "from langchain.text_splitter import RecursiveCharacterTextSplitter\n",
    "from langchain_community.document_loaders import WebBaseLoader\n",
    "from langchain_community.vectorstores import Chroma\n",
    "from langchain_openai import OpenAIEmbeddings\n",
    "\n",
    "loader = WebBaseLoader(\"https://docs.smith.langchain.com/overview\")\n",
    "\n",
    "docs = loader.load()\n",
    "documents = RecursiveCharacterTextSplitter(\n",
    "    chunk_size=1000, chunk_overlap=200\n",
    ").split_documents(docs)\n",
    "\n",
    "vector = Chroma.from_documents(\n",
    "    documents, \n",
    "    OpenAIEmbeddings(\n",
    "        openai_api_key = os.getenv(\"OPENAI_API_KEY\"),\n",
    "        base_url = os.getenv(\"OPENAI_BASE_URL\")\n",
    "    )\n",
    ")\n",
    "retriever = vector.as_retriever()"
   ]
  },
  {
   "cell_type": "code",
   "execution_count": 5,
   "id": "c2818d37-0db0-49d7-b62a-da0474fd4ec4",
   "metadata": {},
   "outputs": [
    {
     "data": {
      "text/plain": [
       "Document(page_content=\"dataset uploading.Once we have a dataset, how can we use it to test changes to a prompt or chain? The most basic approach is to run the chain over the data points and visualize the outputs. Despite technological advancements, there still is no substitute for looking at outputs by eye. Currently, running the chain over the data points needs to be done client-side. The LangSmith client makes it easy to pull down a dataset and then run a chain over them, logging the results to a new project associated with the dataset. From there, you can review them. We've made it easy to assign feedback to runs and mark them as correct or incorrect directly in the web app, displaying aggregate statistics for each test project.We also make it easier to evaluate these runs. To that end, we've added a set of evaluators to the open-source LangChain library. These evaluators can be specified when initiating a test run and will evaluate the results once the test run completes. If we’re being honest, most of\", metadata={'description': 'Building reliable LLM applications can be challenging. LangChain simplifies the initial setup, but there is still work needed to bring the performance of prompts, chains and agents up the level where they are reliable enough to be used in production.', 'language': 'en', 'source': 'https://docs.smith.langchain.com/overview', 'title': 'LangSmith Overview and User Guide | 🦜️🛠️ LangSmith'})"
      ]
     },
     "execution_count": 5,
     "metadata": {},
     "output_type": "execute_result"
    }
   ],
   "source": [
    "retriever.get_relevant_documents(\"how to upload a dataset\")[0]"
   ]
  },
  {
   "cell_type": "markdown",
   "id": "1f7490a1-1f39-457a-87c6-2c56da95832b",
   "metadata": {},
   "source": [
    "### 构造一个Agent可以使用的tool"
   ]
  },
  {
   "cell_type": "code",
   "execution_count": 9,
   "id": "de9f8a69-ea4e-4c4e-9dee-27fe3e781580",
   "metadata": {},
   "outputs": [],
   "source": [
    "from langchain.tools.retriever import create_retriever_tool\n",
    "\n",
    "retriever_tool = create_retriever_tool(\n",
    "    retriever,\n",
    "    \"langsmith_search\",\n",
    "    # 这里相当于一个工具的使用说明，agent在选择工具时会检查这个说明\n",
    "    \"Search for information about LangSmith.For any questions about LangSmith, you must use this tool\"\n",
    ")\n",
    "\n",
    "tools = [search,retriever_tool]\n"
   ]
  },
  {
   "cell_type": "markdown",
   "id": "3ba206b5-5184-47d4-979f-3d0a7a0bb1e0",
   "metadata": {},
   "source": [
    "## 构造一个简单的、没有memory的Agent"
   ]
  },
  {
   "cell_type": "markdown",
   "id": "c152180e-63b7-4489-a1f4-348cad0f0e29",
   "metadata": {},
   "source": [
    "### 加载一个聊天模型包装器"
   ]
  },
  {
   "cell_type": "code",
   "execution_count": 11,
   "id": "7ee601b9-6a9a-4e17-860c-37c64fca6061",
   "metadata": {},
   "outputs": [],
   "source": [
    "from langchain_openai import ChatOpenAI\n",
    "\n",
    "llm = ChatOpenAI(\n",
    "    temperature=0,\n",
    "    openai_api_key = os.getenv(\"OPENAI_API_KEY\"),\n",
    "    base_url = os.getenv(\"OPENAI_BASE_URL\")\n",
    ")"
   ]
  },
  {
   "cell_type": "markdown",
   "id": "95be142c-478c-4dcd-bb95-1c6461c0c8df",
   "metadata": {},
   "source": [
    "## 可以到LangSmith的hub里面找别人已经写好的提示词"
   ]
  },
  {
   "cell_type": "code",
   "execution_count": 12,
   "id": "eacb6519-d5cd-4d63-9539-7d1ef5376efe",
   "metadata": {},
   "outputs": [
    {
     "name": "stdout",
     "output_type": "stream",
     "text": [
      "You are a helpful assistant\n"
     ]
    }
   ],
   "source": [
    "from langchain import hub\n",
    "\n",
    "# Get the prompt to use - you can modify this!\n",
    "prompt = hub.pull(\"hwchase17/openai-functions-agent\")\n",
    "\n",
    "print(prompt.messages[0].prompt.template)"
   ]
  },
  {
   "cell_type": "markdown",
   "id": "d4195087-e9aa-4dc2-bfac-fe7809d780f6",
   "metadata": {},
   "source": [
    "## 构造一个Agent以及 Agent_executor"
   ]
  },
  {
   "cell_type": "code",
   "execution_count": 13,
   "id": "95f738b6-6211-4f08-bdb1-6d74d99f59a0",
   "metadata": {},
   "outputs": [
    {
     "data": {
      "text/plain": [
       "{'input': 'hello how are you?',\n",
       " 'output': \"Hello! I'm an AI assistant, so I don't have feelings, but I'm here to help you. How can I assist you today?\"}"
      ]
     },
     "execution_count": 13,
     "metadata": {},
     "output_type": "execute_result"
    }
   ],
   "source": [
    "from langchain.agents import create_openai_functions_agent, AgentExecutor\n",
    "\n",
    "agent = create_openai_functions_agent(llm, tools, prompt)\n",
    "\n",
    "agent_executor = AgentExecutor(agent = agent, tools = tools)\n",
    "\n",
    "agent_executor.invoke({\"input\":\"\"})"
   ]
  },
  {
   "cell_type": "markdown",
   "id": "13bb0b5c-91eb-409b-8d06-f2f3f2ee2a09",
   "metadata": {},
   "source": [
    "## 添加verbose，测试工具使用能力"
   ]
  },
  {
   "cell_type": "code",
   "execution_count": 20,
   "id": "ff89dd0e-9217-4b44-94aa-d0829db17888",
   "metadata": {},
   "outputs": [
    {
     "name": "stdout",
     "output_type": "stream",
     "text": [
      "\n",
      "\n",
      "\u001b[1m> Entering new AgentExecutor chain...\u001b[0m\n",
      "\u001b[32;1m\u001b[1;3m\n",
      "Invoking: `tavily_search_results_json` with `{'query': '北京天气'}`\n",
      "\n",
      "\n",
      "\u001b[0m\u001b[36;1m\u001b[1;3mHTTPError('400 Client Error: Bad Request for url: https://api.tavily.com/search')\u001b[0m\u001b[32;1m\u001b[1;3m很抱歉，我无法获取到今天北京的天气信息。你可以尝试使用其他天气查询工具或者访问天气网站来获取最新的天气情况。\u001b[0m\n",
      "\n",
      "\u001b[1m> Finished chain.\u001b[0m\n"
     ]
    },
    {
     "data": {
      "text/plain": [
       "{'input': '你能告诉我今天北京的天气如何么?',\n",
       " 'output': '很抱歉，我无法获取到今天北京的天气信息。你可以尝试使用其他天气查询工具或者访问天气网站来获取最新的天气情况。'}"
      ]
     },
     "execution_count": 20,
     "metadata": {},
     "output_type": "execute_result"
    }
   ],
   "source": [
    "from langchain.memory import ConversationBufferMemory\n",
    "\n",
    "memory = ConversationBufferMemory()\n",
    "\n",
    "agent_executor = AgentExecutor(\n",
    "    agent = agent, \n",
    "    tools = tools,\n",
    "    verbose =True,\n",
    ")\n",
    "\n",
    "agent_executor.invoke({\"input\":\"你能告诉我今天北京的天气如何么?\"})"
   ]
  },
  {
   "cell_type": "code",
   "execution_count": 21,
   "id": "a6269ec2-acea-4040-b81a-f141c87218eb",
   "metadata": {},
   "outputs": [
    {
     "name": "stdout",
     "output_type": "stream",
     "text": [
      "\n",
      "\n",
      "\u001b[1m> Entering new AgentExecutor chain...\u001b[0m\n",
      "\u001b[32;1m\u001b[1;3m\n",
      "Invoking: `tavily_search_results_json` with `{'query': '今天沪指表现'}`\n",
      "\n",
      "\n",
      "\u001b[0m\u001b[36;1m\u001b[1;3m[{'url': 'https://finance.sina.cn/stock/dpps/2024-01-30/detail-inafhhxq0363131.d.html', 'content': '市场资讯 分时图 1月30日消息，A股三大指数集体低开，供销社、保险板块跌幅居前。截至今日开盘，沪指报2866.28点，跌0.59%；深成指报8523.74点，跌0.68%；创指报1613.46点，跌0.64%。 消息面：  新浪财经 股票 开盘：三大指数集体低开沪指跌0.59% 供销社、保险板块跌幅居前 市场资讯 分时图  15、美股三大指数周一集体收涨，纳指涨1.12%，续创2022年1月以来新高，标普500指数涨0.76%，道指涨0.59%，均续创历史新高。  12、比亚迪预计2023年净利润290亿元-310亿元，同比增长74.46%-86.49%。 13、浦东金桥连续5个交易日涨停，上交所就公司股价波动有关事项下发监管工作函。中信建投1月30日研报指出，1月24日，国务院新闻办公室发布会上有关负责人表示，将进一步研究把市值管理纳入中央企业负责人业绩考核，引导中央企业负责人更加重视所控股上市公司的市场表现，及时通过应用市场化增持、回购等手段传递信心、稳定预期 ...'}]\u001b[0m\u001b[32;1m\u001b[1;3m根据搜索结果，今天沪指表现不佳。截至今日开盘，沪指报2866.28点，下跌了0.59%。深成指报8523.74点，下跌了0.68%。创指报1613.46点，下跌了0.64%。\u001b[0m\n",
      "\n",
      "\u001b[1m> Finished chain.\u001b[0m\n"
     ]
    },
    {
     "data": {
      "text/plain": [
       "{'input': '你能告诉我今天沪指表现如何么?',\n",
       " 'output': '根据搜索结果，今天沪指表现不佳。截至今日开盘，沪指报2866.28点，下跌了0.59%。深成指报8523.74点，下跌了0.68%。创指报1613.46点，下跌了0.64%。'}"
      ]
     },
     "execution_count": 21,
     "metadata": {},
     "output_type": "execute_result"
    }
   ],
   "source": [
    "agent_executor.invoke({\"input\":\"你能告诉我今天沪指表现如何么?\"})"
   ]
  },
  {
   "cell_type": "code",
   "execution_count": 23,
   "id": "93ce91d5-7881-45b6-a56f-a203776ebe5a",
   "metadata": {},
   "outputs": [
    {
     "name": "stdout",
     "output_type": "stream",
     "text": [
      "\n",
      "\n",
      "\u001b[1m> Entering new AgentExecutor chain...\u001b[0m\n",
      "\u001b[32;1m\u001b[1;3m\n",
      "Invoking: `tavily_search_results_json` with `{'query': 'latest index of NASDAQ'}`\n",
      "\n",
      "\n",
      "\u001b[0m\u001b[36;1m\u001b[1;3m[{'url': 'https://www.bloomberg.com/quote/NDX:IND', 'content': '21,1998 the Nasdaq 100 was a cap-weighted index.  The NASDAQ-100 Index is a modified capitalization-weighted index of the 100 largest and most active non-financial  non-financial domestic and international issues listed on the NASDAQ. No security can have more than a 24% weighting.  markets news information as it happens.Index performance for NASDAQ 100 Stock Index (NDX) including value, chart, profile & other market data.'}]\u001b[0m\u001b[32;1m\u001b[1;3mThe latest index of NASDAQ is the NASDAQ 100 Stock Index (NDX). As of the latest information, the index is at 21,1998. You can find more information about the index on the [Bloomberg website](https://www.bloomberg.com/quote/NDX:IND).\u001b[0m\n",
      "\n",
      "\u001b[1m> Finished chain.\u001b[0m\n"
     ]
    },
    {
     "data": {
      "text/plain": [
       "{'input': 'could you tell me the latest index of NASDAQ?',\n",
       " 'output': 'The latest index of NASDAQ is the NASDAQ 100 Stock Index (NDX). As of the latest information, the index is at 21,1998. You can find more information about the index on the [Bloomberg website](https://www.bloomberg.com/quote/NDX:IND).'}"
      ]
     },
     "execution_count": 23,
     "metadata": {},
     "output_type": "execute_result"
    }
   ],
   "source": [
    "agent_executor.invoke({\"input\":\"could you tell me the latest index of NASDAQ?\"})"
   ]
  },
  {
   "cell_type": "code",
   "execution_count": 24,
   "id": "45e5b119-a065-4b09-be9b-f0a064cac334",
   "metadata": {},
   "outputs": [
    {
     "name": "stdout",
     "output_type": "stream",
     "text": [
      "\n",
      "\n",
      "\u001b[1m> Entering new AgentExecutor chain...\u001b[0m\n",
      "\u001b[32;1m\u001b[1;3m\n",
      "Invoking: `langsmith_search` with `{'query': 'LangSmith基本概念'}`\n",
      "\n",
      "\n",
      "\u001b[0m\u001b[33;1m\u001b[1;3m[Document(page_content='LangSmith Overview and User Guide | 🦜️🛠️ LangSmith', metadata={'description': 'Building reliable LLM applications can be challenging. LangChain simplifies the initial setup, but there is still work needed to bring the performance of prompts, chains and agents up the level where they are reliable enough to be used in production.', 'language': 'en', 'source': 'https://docs.smith.langchain.com/overview', 'title': 'LangSmith Overview and User Guide | 🦜️🛠️ LangSmith'}), Document(page_content='Skip to main content🦜️🛠️ LangSmith DocsPython DocsJS/TS DocsSearchGo to AppLangSmithOverviewTracingTesting & EvaluationOrganizationsHubLangSmith CookbookOverviewOn this pageLangSmith Overview and User GuideBuilding reliable LLM applications can be challenging. LangChain simplifies the initial setup, but there is still work needed to bring the performance of prompts, chains and agents up the level where they are reliable enough to be used in production.Over the past two months, we at LangChain have been building and using LangSmith with the goal of bridging this gap. This is our tactical user guide to outline effective ways to use LangSmith and maximize its benefits.On by default\\u200bAt LangChain, all of us have LangSmith’s tracing running in the background by default. On the Python side, this is achieved by setting environment variables, which we establish whenever we launch a virtual environment or open our bash shell and leave them set. The same principle applies to most JavaScript', metadata={'description': 'Building reliable LLM applications can be challenging. LangChain simplifies the initial setup, but there is still work needed to bring the performance of prompts, chains and agents up the level where they are reliable enough to be used in production.', 'language': 'en', 'source': 'https://docs.smith.langchain.com/overview', 'title': 'LangSmith Overview and User Guide | 🦜️🛠️ LangSmith'}), Document(page_content='You can also quickly edit examples and add them to datasets to expand the surface area of your evaluation sets or to fine-tune a model for improved quality or reduced costs.Monitoring\\u200bAfter all this, your app might finally ready to go in production. LangSmith can also be used to monitor your application in much the same way that you used for debugging. You can log all traces, visualize latency and token usage statistics, and troubleshoot specific issues as they arise. Each run can also be assigned string tags or key-value metadata, allowing you to attach correlation ids or AB test variants, and filter runs accordingly.We’ve also made it possible to associate feedback programmatically with runs. This means that if your application has a thumbs up/down button on it, you can use that to log feedback back to LangSmith. This can be used to track performance over time and pinpoint under performing data points, which you can subsequently add to a dataset for future testing — mirroring the', metadata={'description': 'Building reliable LLM applications can be challenging. LangChain simplifies the initial setup, but there is still work needed to bring the performance of prompts, chains and agents up the level where they are reliable enough to be used in production.', 'language': 'en', 'source': 'https://docs.smith.langchain.com/overview', 'title': 'LangSmith Overview and User Guide | 🦜️🛠️ LangSmith'}), Document(page_content=\"the total token usage for a chain and the token usage of each step. This makes it easy to identify potentially costly parts of the chain.Collaborative debugging\\u200bIn the past, sharing a faulty chain with a colleague for debugging was challenging when performed locally. With LangSmith, we've added a “Share” button that makes the chain and LLM runs accessible to anyone with the shared link.Collecting examples\\u200bMost of the time we go to debug, it's because something bad or unexpected outcome has happened in our application. These failures are valuable data points! By identifying how our chain can fail and monitoring these failures, we can test future chain versions against these known issues.Why is this so impactful? When building LLM applications, it’s often common to start without a dataset of any kind. This is part of the power of LLMs! They are amazing zero-shot learners, making it possible to get started as easily as possible. But this can also be a curse -- as you adjust the prompt,\", metadata={'description': 'Building reliable LLM applications can be challenging. LangChain simplifies the initial setup, but there is still work needed to bring the performance of prompts, chains and agents up the level where they are reliable enough to be used in production.', 'language': 'en', 'source': 'https://docs.smith.langchain.com/overview', 'title': 'LangSmith Overview and User Guide | 🦜️🛠️ LangSmith'})]\u001b[0m\u001b[32;1m\u001b[1;3mLangSmith是一种用于构建可靠的LLM（Language Model Microservice）应用程序的工具。LLM应用程序的性能需要达到足够可靠的水平才能投入生产使用，而LangSmith旨在简化这一过程。它通过优化提示（prompts）、链（chains）和代理（agents）的性能，提供了一种有效的方式来使用LangSmith并最大化其效益。\n",
      "\n",
      "LangSmith具有以下主要功能和特点：\n",
      "- 跟踪（Tracing）：LangSmith默认启用跟踪功能，可以在后台跟踪应用程序的运行情况。可以记录所有的跟踪信息，可视化延迟和令牌使用统计数据，并在需要时进行故障排除。\n",
      "- 测试和评估（Testing & Evaluation）：LangSmith可以帮助扩展评估集的表面积，通过快速编辑示例并将其添加到数据集中，以改进模型的质量或降低成本。\n",
      "- 监控（Monitoring）：LangSmith可以用于监控应用程序的运行情况，记录所有的跟踪信息，并可视化延迟和令牌使用统计数据。还可以与运行关联反馈信息，以跟踪性能并识别问题。\n",
      "- 协作调试（Collaborative Debugging）：LangSmith提供了“分享”按钮，可以将链和LLM运行共享给其他人进行调试。\n",
      "- 收集示例（Collecting Examples）：LangSmith鼓励收集应用程序中出现的失败示例，以便测试未来的链版本。这样可以更好地了解链的潜在问题，并进行改进。\n",
      "\n",
      "更多关于LangSmith的详细信息和使用指南，请参考[LangSmith Overview and User Guide](https://docs.smith.langchain.com/overview)。\u001b[0m\n",
      "\n",
      "\u001b[1m> Finished chain.\u001b[0m\n"
     ]
    },
    {
     "data": {
      "text/plain": [
       "{'input': '告诉我langsimth的基本概念?',\n",
       " 'output': 'LangSmith是一种用于构建可靠的LLM（Language Model Microservice）应用程序的工具。LLM应用程序的性能需要达到足够可靠的水平才能投入生产使用，而LangSmith旨在简化这一过程。它通过优化提示（prompts）、链（chains）和代理（agents）的性能，提供了一种有效的方式来使用LangSmith并最大化其效益。\\n\\nLangSmith具有以下主要功能和特点：\\n- 跟踪（Tracing）：LangSmith默认启用跟踪功能，可以在后台跟踪应用程序的运行情况。可以记录所有的跟踪信息，可视化延迟和令牌使用统计数据，并在需要时进行故障排除。\\n- 测试和评估（Testing & Evaluation）：LangSmith可以帮助扩展评估集的表面积，通过快速编辑示例并将其添加到数据集中，以改进模型的质量或降低成本。\\n- 监控（Monitoring）：LangSmith可以用于监控应用程序的运行情况，记录所有的跟踪信息，并可视化延迟和令牌使用统计数据。还可以与运行关联反馈信息，以跟踪性能并识别问题。\\n- 协作调试（Collaborative Debugging）：LangSmith提供了“分享”按钮，可以将链和LLM运行共享给其他人进行调试。\\n- 收集示例（Collecting Examples）：LangSmith鼓励收集应用程序中出现的失败示例，以便测试未来的链版本。这样可以更好地了解链的潜在问题，并进行改进。\\n\\n更多关于LangSmith的详细信息和使用指南，请参考[LangSmith Overview and User Guide](https://docs.smith.langchain.com/overview)。'}"
      ]
     },
     "execution_count": 24,
     "metadata": {},
     "output_type": "execute_result"
    }
   ],
   "source": [
    "agent_executor.invoke({\"input\":\"告诉我langsimth的基本概念?\"})"
   ]
  }
 ],
 "metadata": {
  "kernelspec": {
   "display_name": "Python 3 (ipykernel)",
   "language": "python",
   "name": "python3"
  },
  "language_info": {
   "codemirror_mode": {
    "name": "ipython",
    "version": 3
   },
   "file_extension": ".py",
   "mimetype": "text/x-python",
   "name": "python",
   "nbconvert_exporter": "python",
   "pygments_lexer": "ipython3",
   "version": "3.10.8"
  }
 },
 "nbformat": 4,
 "nbformat_minor": 5
}
