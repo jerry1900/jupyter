{
 "cells": [
  {
   "cell_type": "markdown",
   "id": "677bd570-86fe-46a8-89ca-d1d58eb78bca",
   "metadata": {},
   "source": [
    "# 我们来构造一个有memory的智能体"
   ]
  },
  {
   "cell_type": "markdown",
   "id": "76c20252-ba03-4d2d-9137-ca7d3bda1abe",
   "metadata": {},
   "source": [
    "##  先构造一个GOOGLE搜索工具"
   ]
  },
  {
   "cell_type": "code",
   "execution_count": 13,
   "id": "045fbaba-f3b6-4fe8-9c8d-c0f68f75d62b",
   "metadata": {},
   "outputs": [
    {
     "data": {
      "text/plain": [
       "\"Join the Nasdaq+ community for more personalized data, exclusive content, and market analysis. Try it today for $4.99/month. Subscribe Now. 10,982.80 - 15,630.58. Performance. 5 Day. 0.54%. 1 Month. 5.04%. 3 Month. 20.69%. YTD. 3.32%. 1 Year. 33.88%. Recent News. MarketWatch. Dow Jones. Read full\\xa0... Find the latest stock market trends and activity today. Compare key indexes, including Nasdaq Composite, Nasdaq-100, Dow Jones Industrial & more. Markets ; Today's hot stocks. Active Gainers Losers · Change ; Commodities. Most active Energy · Livestock. Price Change ; ETF movers. Active Gainers Losers. Price\\xa0... Join the Nasdaq+ community for more personalized data, exclusive content, and market analysis. Try it today for $4.99/month. Subscribe\\xa0... Find the latest information on NASDAQ Composite (^IXIC) including data, charts, related news and more from Yahoo Finance. Get the latest stock market news, stock information & quotes, data analysis reports, as well as a general overview of the market landscape from Nasdaq. Markets Performance · Markets Now · More U.S. Markets · Site Index · Latest · Media · Browse · About Reuters. Investment Date, Original Shares, Original Value, Current Shares, Current Value, Percent Return. Jan 02, 2014, 100.00, $3,921.00, 300.00, $17,535.00\\xa0... (NASDAQ: AMZN) announced today that it will hold a conference call to discuss its fourth quarter 2023 financial results on Thursday, February 1, 2024,...\""
      ]
     },
     "execution_count": 13,
     "metadata": {},
     "output_type": "execute_result"
    }
   ],
   "source": [
    "from langchain_community.utilities import GoogleSearchAPIWrapper\n",
    "\n",
    "\n",
    "search = GoogleSearchAPIWrapper()\n",
    "\n",
    "# 注意tools是一个列表，只不过这里只有一个元素，回想一下上一节课的内容\n",
    "tools = [\n",
    "    Tool(\n",
    "        name=\"Google Search\",\n",
    "        description=\"useful when you need to answer questions about current events\",\n",
    "        func=search.run,\n",
    "    )\n",
    "]\n",
    "tools[0].run(\"what is the performance of NASDAQ today？\")"
   ]
  },
  {
   "cell_type": "markdown",
   "id": "a20c44aa-c7be-4097-a2d0-59bcab3f609b",
   "metadata": {},
   "source": [
    "## 构造一个ZeroShotAgent with memory"
   ]
  },
  {
   "cell_type": "code",
   "execution_count": 54,
   "id": "58a4d667-cf2d-4a2d-9b90-f48d9062e8c6",
   "metadata": {},
   "outputs": [
    {
     "data": {
      "text/plain": [
       "{'chat_history': ''}"
      ]
     },
     "execution_count": 54,
     "metadata": {},
     "output_type": "execute_result"
    }
   ],
   "source": [
    "import os\n",
    "\n",
    "from langchain_core.prompts import PromptTemplate\n",
    "from langchain_openai import OpenAI\n",
    "from langchain.agents import AgentExecutor,Tool,ZeroShotAgent\n",
    "from langchain.chains import LLMChain\n",
    "from langchain.memory import ConversationBufferMemory\n",
    "\n",
    "\n",
    "# prefix = \"\"\"\n",
    "#     Have a conversation with a human, answering the following questions as best you can. \n",
    "#     If you can answer the question by yourself,dont' use the tools.\n",
    "#     You have access to the following tools: \"\"\"\n",
    "\n",
    "\n",
    "# suffix = \"\"\"Begin!\"\n",
    "\n",
    "# Previous Conversation:{chat_history}\n",
    "# Question: {input}\n",
    "# Thought: {agent_scratchpad}\"\"\"\n",
    "\n",
    "# prompt = ZeroShotAgent.create_prompt(\n",
    "#     tools,\n",
    "#     prefix=prefix,\n",
    "#     suffix=suffix,\n",
    "#     input_variables=[\"input\", \"chat_history\", \"agent_scratchpad\"],\n",
    "# )\n",
    "template='''\n",
    "Answer the following questions as best you can. \n",
    "Try to answer the question by yourself.\n",
    "If not necessary, don't use the tools.\n",
    "\n",
    "You have access to the following tools:{tools}\n",
    "\n",
    "Use the following format:\n",
    "\n",
    "Question: the input question you must answer\n",
    "Thought: you should always think about what to do\n",
    "Action: the action to take, should be one of [{tool_names}]\n",
    "Action Input: the input to the action\n",
    "Observation: the result of the action\n",
    "... (this Thought/Action/Action Input/Observation can repeat N times)\n",
    "Thought: I now know the final answer\n",
    "Final Answer: the final answer to the original input question\n",
    "\n",
    "Begin!\n",
    "\n",
    "Previous Conversation:{chat_history}\n",
    "Question: {input}\n",
    "Thought:{agent_scratchpad}\n",
    "'''\n",
    "\n",
    "\n",
    "prompt = PromptTemplate.from_template(template)\n",
    "\n",
    "memory = ConversationBufferMemory(memory_key=\"chat_history\")\n",
    "memory.clear()\n",
    "\n",
    "memory.load_memory_variables({})"
   ]
  },
  {
   "cell_type": "code",
   "execution_count": 55,
   "id": "2e12b041-e53b-4305-87db-b02ca4fc9be9",
   "metadata": {},
   "outputs": [
    {
     "ename": "ValueError",
     "evalue": "A single string input was passed in, but this chain expects multiple inputs ({'tools', 'tool_names', 'input'}). When a chain expects multiple inputs, please call it by passing in a dictionary, eg `chain({'foo': 1, 'bar': 2})`",
     "output_type": "error",
     "traceback": [
      "\u001b[1;31m---------------------------------------------------------------------------\u001b[0m",
      "\u001b[1;31mValueError\u001b[0m                                Traceback (most recent call last)",
      "Cell \u001b[1;32mIn[55], line 15\u001b[0m\n\u001b[0;32m      9\u001b[0m agent \u001b[38;5;241m=\u001b[39m ZeroShotAgent(llm_chain\u001b[38;5;241m=\u001b[39mllm_chain, tools\u001b[38;5;241m=\u001b[39mtools, verbose\u001b[38;5;241m=\u001b[39m\u001b[38;5;28;01mTrue\u001b[39;00m)\n\u001b[0;32m     11\u001b[0m agent_chain \u001b[38;5;241m=\u001b[39m AgentExecutor\u001b[38;5;241m.\u001b[39mfrom_agent_and_tools(\n\u001b[0;32m     12\u001b[0m     agent\u001b[38;5;241m=\u001b[39magent, tools\u001b[38;5;241m=\u001b[39mtools, verbose\u001b[38;5;241m=\u001b[39m\u001b[38;5;28;01mTrue\u001b[39;00m, memory\u001b[38;5;241m=\u001b[39mmemory, max_iterations \u001b[38;5;241m=\u001b[39m \u001b[38;5;241m5\u001b[39m\n\u001b[0;32m     13\u001b[0m )\n\u001b[1;32m---> 15\u001b[0m \u001b[43magent_chain\u001b[49m\u001b[38;5;241;43m.\u001b[39;49m\u001b[43minvoke\u001b[49m\u001b[43m(\u001b[49m\u001b[38;5;28;43minput\u001b[39;49m\u001b[38;5;241;43m=\u001b[39;49m\u001b[38;5;124;43m\"\u001b[39;49m\u001b[38;5;124;43mHow many people live in China?\u001b[39;49m\u001b[38;5;124;43m\"\u001b[39;49m\u001b[43m)\u001b[49m\n",
      "File \u001b[1;32mD:\\chatbot\\jupyter\\.venv\\lib\\site-packages\\langchain\\chains\\base.py:138\u001b[0m, in \u001b[0;36mChain.invoke\u001b[1;34m(self, input, config, **kwargs)\u001b[0m\n\u001b[0;32m    135\u001b[0m include_run_info \u001b[38;5;241m=\u001b[39m kwargs\u001b[38;5;241m.\u001b[39mget(\u001b[38;5;124m\"\u001b[39m\u001b[38;5;124minclude_run_info\u001b[39m\u001b[38;5;124m\"\u001b[39m, \u001b[38;5;28;01mFalse\u001b[39;00m)\n\u001b[0;32m    136\u001b[0m return_only_outputs \u001b[38;5;241m=\u001b[39m kwargs\u001b[38;5;241m.\u001b[39mget(\u001b[38;5;124m\"\u001b[39m\u001b[38;5;124mreturn_only_outputs\u001b[39m\u001b[38;5;124m\"\u001b[39m, \u001b[38;5;28;01mFalse\u001b[39;00m)\n\u001b[1;32m--> 138\u001b[0m inputs \u001b[38;5;241m=\u001b[39m \u001b[38;5;28;43mself\u001b[39;49m\u001b[38;5;241;43m.\u001b[39;49m\u001b[43mprep_inputs\u001b[49m\u001b[43m(\u001b[49m\u001b[38;5;28;43minput\u001b[39;49m\u001b[43m)\u001b[49m\n\u001b[0;32m    139\u001b[0m callback_manager \u001b[38;5;241m=\u001b[39m CallbackManager\u001b[38;5;241m.\u001b[39mconfigure(\n\u001b[0;32m    140\u001b[0m     callbacks,\n\u001b[0;32m    141\u001b[0m     \u001b[38;5;28mself\u001b[39m\u001b[38;5;241m.\u001b[39mcallbacks,\n\u001b[1;32m   (...)\u001b[0m\n\u001b[0;32m    146\u001b[0m     \u001b[38;5;28mself\u001b[39m\u001b[38;5;241m.\u001b[39mmetadata,\n\u001b[0;32m    147\u001b[0m )\n\u001b[0;32m    148\u001b[0m new_arg_supported \u001b[38;5;241m=\u001b[39m inspect\u001b[38;5;241m.\u001b[39msignature(\u001b[38;5;28mself\u001b[39m\u001b[38;5;241m.\u001b[39m_call)\u001b[38;5;241m.\u001b[39mparameters\u001b[38;5;241m.\u001b[39mget(\u001b[38;5;124m\"\u001b[39m\u001b[38;5;124mrun_manager\u001b[39m\u001b[38;5;124m\"\u001b[39m)\n",
      "File \u001b[1;32mD:\\chatbot\\jupyter\\.venv\\lib\\site-packages\\langchain\\chains\\base.py:465\u001b[0m, in \u001b[0;36mChain.prep_inputs\u001b[1;34m(self, inputs)\u001b[0m\n\u001b[0;32m    463\u001b[0m         _input_keys \u001b[38;5;241m=\u001b[39m _input_keys\u001b[38;5;241m.\u001b[39mdifference(\u001b[38;5;28mself\u001b[39m\u001b[38;5;241m.\u001b[39mmemory\u001b[38;5;241m.\u001b[39mmemory_variables)\n\u001b[0;32m    464\u001b[0m     \u001b[38;5;28;01mif\u001b[39;00m \u001b[38;5;28mlen\u001b[39m(_input_keys) \u001b[38;5;241m!=\u001b[39m \u001b[38;5;241m1\u001b[39m:\n\u001b[1;32m--> 465\u001b[0m         \u001b[38;5;28;01mraise\u001b[39;00m \u001b[38;5;167;01mValueError\u001b[39;00m(\n\u001b[0;32m    466\u001b[0m             \u001b[38;5;124mf\u001b[39m\u001b[38;5;124m\"\u001b[39m\u001b[38;5;124mA single string input was passed in, but this chain expects \u001b[39m\u001b[38;5;124m\"\u001b[39m\n\u001b[0;32m    467\u001b[0m             \u001b[38;5;124mf\u001b[39m\u001b[38;5;124m\"\u001b[39m\u001b[38;5;124mmultiple inputs (\u001b[39m\u001b[38;5;132;01m{\u001b[39;00m_input_keys\u001b[38;5;132;01m}\u001b[39;00m\u001b[38;5;124m). When a chain expects \u001b[39m\u001b[38;5;124m\"\u001b[39m\n\u001b[0;32m    468\u001b[0m             \u001b[38;5;124mf\u001b[39m\u001b[38;5;124m\"\u001b[39m\u001b[38;5;124mmultiple inputs, please call it by passing in a dictionary, \u001b[39m\u001b[38;5;124m\"\u001b[39m\n\u001b[0;32m    469\u001b[0m             \u001b[38;5;124m\"\u001b[39m\u001b[38;5;124meg `chain(\u001b[39m\u001b[38;5;124m{\u001b[39m\u001b[38;5;124m'\u001b[39m\u001b[38;5;124mfoo\u001b[39m\u001b[38;5;124m'\u001b[39m\u001b[38;5;124m: 1, \u001b[39m\u001b[38;5;124m'\u001b[39m\u001b[38;5;124mbar\u001b[39m\u001b[38;5;124m'\u001b[39m\u001b[38;5;124m: 2})`\u001b[39m\u001b[38;5;124m\"\u001b[39m\n\u001b[0;32m    470\u001b[0m         )\n\u001b[0;32m    471\u001b[0m     inputs \u001b[38;5;241m=\u001b[39m {\u001b[38;5;28mlist\u001b[39m(_input_keys)[\u001b[38;5;241m0\u001b[39m]: inputs}\n\u001b[0;32m    472\u001b[0m \u001b[38;5;28;01mif\u001b[39;00m \u001b[38;5;28mself\u001b[39m\u001b[38;5;241m.\u001b[39mmemory \u001b[38;5;129;01mis\u001b[39;00m \u001b[38;5;129;01mnot\u001b[39;00m \u001b[38;5;28;01mNone\u001b[39;00m:\n",
      "\u001b[1;31mValueError\u001b[0m: A single string input was passed in, but this chain expects multiple inputs ({'tools', 'tool_names', 'input'}). When a chain expects multiple inputs, please call it by passing in a dictionary, eg `chain({'foo': 1, 'bar': 2})`"
     ]
    }
   ],
   "source": [
    "llm = OpenAI(\n",
    "    temperature=0,\n",
    "    openai_api_key = os.getenv(\"OPENAI_API_KEY\"),\n",
    "    base_url = os.getenv(\"OPENAI_BASE_URL\")\n",
    ")\n",
    "\n",
    "llm_chain = LLMChain(llm=llm, prompt=prompt)\n",
    "\n",
    "agent = ZeroShotAgent(llm_chain=llm_chain, tools=tools, verbose=True)\n",
    "\n",
    "agent_chain = AgentExecutor.from_agent_and_tools(\n",
    "    agent=agent, tools=tools, verbose=True, memory=memory, max_iterations = 5\n",
    ")\n",
    "\n",
    "agent_chain.invoke(\"input=\"How many people live in China?\")"
   ]
  },
  {
   "cell_type": "code",
   "execution_count": 38,
   "id": "875d8e47-4336-49f9-acb7-743fc6b1486b",
   "metadata": {},
   "outputs": [
    {
     "name": "stdout",
     "output_type": "stream",
     "text": [
      "\n",
      "\n",
      "\u001b[1m> Entering new AgentExecutor chain...\u001b[0m\n",
      "\u001b[32;1m\u001b[1;3mI should use Google Search to find the answer.\n",
      "Action: Google Search\n",
      "Action Input: \"Capital of China\"\u001b[0m\n",
      "Observation: \u001b[36;1m\u001b[1;3mJun 4, 2015 ... Beijing is the capital of the People's Republic of China and one of the most populous cities in the world. The metropolis, located in north ... With over 21 million residents, Beijing is the world's most populous national capital city as well as China's second largest city after Shanghai. It is located ... Human Capital and China's Future Growth by Hongbin Li, Prashant Loyalka, Scott Rozelle and Binzhen Wu. Published in volume 31, issue 1, pages 25-48 of ... Beijing is the national capital, while Shanghai is the most populous city and largest financial center. People's Republic of China. 中华人民共和国 (Chinese). Aug 19, 2019 ... Capital misallocation has been documented as a prevailing empirical phenomenon both in less-developed economies in general and in China in ... May 16, 2022 ... China's ability to cultivate, attract, and retain human capital—or as Beijing more commonly puts it, national “talent”—will shape its ... Oct 18, 2023 ... WASHINGTON, DC – Chairman Mike Gallagher (R-WI) and Ranking Member Raja Krishnamoorthi (D-IL) of the House Select Committee on the Chinese ... Although capital accumulation--the growth in the country's stock of capital assets, such as new factories, manufacturing machinery, and communications ... Dec 8, 2006 ... We find that the aggregate rate of return to capital averaged 25% during 1978-1993, fell during 1993-1998, and has become flat at roughly 20% ... U.S. venture capital giant Sequoia plans to split off its Chinese and Indian/Southeast Asian businesses into two independent firms, it said on Tuesday, ...\u001b[0m\n",
      "Thought:\u001b[32;1m\u001b[1;3m I now know the final answer.\n",
      "Final Answer: The capital of China is Beijing.\u001b[0m\n",
      "\n",
      "\u001b[1m> Finished chain.\u001b[0m\n"
     ]
    },
    {
     "data": {
      "text/plain": [
       "{'input': 'What is the capital of that country?',\n",
       " 'chat_history': 'Human: How many people live in China?\\nAI: The estimated population of China in 2023 is 1,425,671,352 people.',\n",
       " 'output': 'The capital of China is Beijing.'}"
      ]
     },
     "execution_count": 38,
     "metadata": {},
     "output_type": "execute_result"
    }
   ],
   "source": [
    "agent_chain.invoke(input=\"What is the capital of that country?\")"
   ]
  },
  {
   "cell_type": "code",
   "execution_count": 42,
   "id": "730e6522-64cd-4a71-96f5-6aa4653ff79a",
   "metadata": {},
   "outputs": [
    {
     "name": "stdout",
     "output_type": "stream",
     "text": [
      "\n",
      "\n",
      "\u001b[1m> Entering new AgentExecutor chain...\u001b[0m\n",
      "\u001b[32;1m\u001b[1;3mI should introduce myself.\n",
      "Action: [Google Search]\n",
      "Action Input: \"AI\"\u001b[0m\n",
      "Observation: [Google Search] is not a valid tool, try one of [Google Search].\n",
      "Thought:\u001b[32;1m\u001b[1;3m I should use [Google Search] to find out who I am.\n",
      "Action: [Google Search]\n",
      "Action Input: \"AI\"\u001b[0m\n",
      "Observation: [Google Search] is not a valid tool, try one of [Google Search].\n",
      "Thought:\u001b[32;1m\u001b[1;3m I should use [Google Search] to find out who I am.\n",
      "Action: [Google Search]\n",
      "Action Input: \"AI definition\"\u001b[0m\n",
      "Observation: [Google Search] is not a valid tool, try one of [Google Search].\n",
      "Thought:\u001b[32;1m\u001b[1;3m I should use [Google Search] to find out who I am.\n",
      "Action: [Google Search]\n",
      "Action Input: \"AI meaning\"\u001b[0m\n",
      "Observation: [Google Search] is not a valid tool, try one of [Google Search].\n",
      "Thought:\u001b[32;1m\u001b[1;3m I should use [Google Search] to find out who I am.\n",
      "Action: [Google Search]\n",
      "Action Input: \"AI definition\"\u001b[0m\n",
      "Observation: [Google Search] is not a valid tool, try one of [Google Search].\n",
      "Thought:\u001b[32;1m\u001b[1;3m\u001b[0m\n",
      "\n",
      "\u001b[1m> Finished chain.\u001b[0m\n"
     ]
    },
    {
     "data": {
      "text/plain": [
       "{'input': 'who are you?',\n",
       " 'chat_history': 'Human: How many people live in China?\\nAI: China 2023 population is estimated at 1,425,671,352 people at mid year.',\n",
       " 'output': 'Agent stopped due to iteration limit or time limit.'}"
      ]
     },
     "execution_count": 42,
     "metadata": {},
     "output_type": "execute_result"
    }
   ],
   "source": [
    "agent_chain.invoke(input=\"who are you?\")"
   ]
  },
  {
   "cell_type": "markdown",
   "id": "041520ec-3554-4d85-a1ca-fdc57e504ff3",
   "metadata": {},
   "source": [
    "## 尝试构造一个 create_react_agent"
   ]
  },
  {
   "cell_type": "code",
   "execution_count": 50,
   "id": "21f0c97d-91d7-47d9-8964-9d9eb12665dd",
   "metadata": {},
   "outputs": [
    {
     "name": "stdout",
     "output_type": "stream",
     "text": [
      "input_variables=['agent_scratchpad', 'chat_history', 'input', 'tool_names', 'tools'] template=\"\\nAnswer the following questions as best you can. \\nTry to answer the question by yourself.\\nIf not necessary, don't use the tools.\\n\\nYou have access to the following tools:{tools}\\n\\nUse the following format:\\n\\nQuestion: the input question you must answer\\nThought: you should always think about what to do\\nAction: the action to take, should be one of [{tool_names}]\\nAction Input: the input to the action\\nObservation: the result of the action\\n... (this Thought/Action/Action Input/Observation can repeat N times)\\nThought: I now know the final answer\\nFinal Answer: the final answer to the original input question\\n\\nBegin!\\n\\nPrevious Conversation:{chat_history}\\nQuestion: {input}\\nThought:{agent_scratchpad}\\n\"\n"
     ]
    }
   ],
   "source": [
    "import os\n",
    "\n",
    "from langchain_openai import OpenAI\n",
    "from langchain import hub\n",
    "from langchain_core.prompts import PromptTemplate\n",
    "from langchain.agents import AgentExecutor, create_react_agent\n",
    "\n",
    "template='''\n",
    "Answer the following questions as best you can. \n",
    "Try to answer the question by yourself.\n",
    "If not necessary, don't use the tools.\n",
    "\n",
    "You have access to the following tools:{tools}\n",
    "\n",
    "Use the following format:\n",
    "\n",
    "Question: the input question you must answer\n",
    "Thought: you should always think about what to do\n",
    "Action: the action to take, should be one of [{tool_names}]\n",
    "Action Input: the input to the action\n",
    "Observation: the result of the action\n",
    "... (this Thought/Action/Action Input/Observation can repeat N times)\n",
    "Thought: I now know the final answer\n",
    "Final Answer: the final answer to the original input question\n",
    "\n",
    "Begin!\n",
    "\n",
    "Previous Conversation:{chat_history}\n",
    "Question: {input}\n",
    "Thought:{agent_scratchpad}\n",
    "'''\n",
    "\n",
    "\n",
    "prompt = PromptTemplate.from_template(template)\n",
    "print(prompt)"
   ]
  },
  {
   "cell_type": "code",
   "execution_count": 53,
   "id": "bb0a5a59-22f1-4efe-a395-9a8b24da6ad9",
   "metadata": {},
   "outputs": [
    {
     "name": "stdout",
     "output_type": "stream",
     "text": [
      "\n",
      "\n",
      "\u001b[1m> Entering new AgentExecutor chain...\u001b[0m\n",
      "\u001b[32;1m\u001b[1;3mI should respond politely.\n",
      "Action: None\u001b[0mInvalid Format: Missing 'Action Input:' after 'Action:'\u001b[32;1m\u001b[1;3mI should respond politely.\n",
      "Action: None\n",
      "Action Input: None\u001b[0mNone is not a valid tool, try one of [Google Search].\u001b[32;1m\u001b[1;3mI should respond politely.\n",
      "Action: Google Search\n",
      "Action Input: \"how to respond politely\"\u001b[0m\u001b[36;1m\u001b[1;3mDec 7, 2021 ... Instead of yes, you can say: · Yes I can/Yes, sure thing. · Yes of course!/Of course I will. · Yes I can. It's this way. · Sure. It's 10am. May 3, 2017 ... How to respond politely when someone tells you something useful? · thanks for letting me know · thanks for informing me · thanks for reminding ... Aug 14, 2019 ... Thank you for your advice, but I can handle this.” “I appreciate your help, but I prefer to do this on my own.” “I see what you're trying to ... Jun 15, 2022 ... The standard \"response\" would be ご無沙汰しております, which is \"polite\" and a little \"formal\" but this phrase/response what is usually/normally ... Jul 1, 2022 ... Possible approaches - can you think of more? · Saying \"it works for me\". · Short response with open question e.g. \"Hi, can you explain exactly ... Re: How to politely respond to a customer in this situation? (Digital Designers) ... \"Unfortunately, I cannot complete your request. Please ... Jun 12, 2018 ... Rewrite it as a request to respond in-line, point-by-point, so that you can see exactly which points the writer is responding to. Consider ... Mar 21, 2015 ... If they ask you to pray or say grace or otherwise participate past being quietly respectful or holding hands, try \"I won't intrude on your ... Oct 15, 2014 ... If there isn't enough information in the question to answer it correctly, ask for more information. Don't just assume. Or maybe give a couple of ... Nov 4, 2017 ... I'm glad that you finally made it! I worried a lot, and thought something bad might have happened to you. Luckily, not... Please, next time you ...\u001b[0m\u001b[32;1m\u001b[1;3m\u001b[0m\n",
      "\n",
      "\u001b[1m> Finished chain.\u001b[0m\n"
     ]
    },
    {
     "data": {
      "text/plain": [
       "{'input': 'hi,how are you?',\n",
       " 'chat_history': '',\n",
       " 'output': 'Agent stopped due to iteration limit or time limit.'}"
      ]
     },
     "execution_count": 53,
     "metadata": {},
     "output_type": "execute_result"
    }
   ],
   "source": [
    "llm = OpenAI(\n",
    "    temperature=0,\n",
    "    openai_api_key = os.getenv(\"OPENAI_API_KEY\"),\n",
    "    base_url = os.getenv(\"OPENAI_BASE_URL\")\n",
    ")\n",
    "\n",
    "from langchain_community.utilities import GoogleSearchAPIWrapper\n",
    "\n",
    "\n",
    "search = GoogleSearchAPIWrapper()\n",
    "\n",
    "\n",
    "tools = [\n",
    "    Tool(\n",
    "        name=\"Google Search\",\n",
    "        description=\"A search engine you can use when you need to know latest news or data\",\n",
    "        func=search.run,\n",
    "    ),\n",
    "]\n",
    "\n",
    "memory = ConversationBufferMemory(memory_key=\"chat_history\")\n",
    "\n",
    "agent = create_react_agent(llm, tools, prompt)\n",
    "agent_executor = AgentExecutor(agent=agent, tools=tools, memory = memory, max_iterations = 3,handle_parsing_errors=True,verbose= True)\n",
    "\n",
    "agent_executor.invoke({\"input\":\"hi,how are you?\"})\n"
   ]
  }
 ],
 "metadata": {
  "kernelspec": {
   "display_name": "Python 3 (ipykernel)",
   "language": "python",
   "name": "python3"
  },
  "language_info": {
   "codemirror_mode": {
    "name": "ipython",
    "version": 3
   },
   "file_extension": ".py",
   "mimetype": "text/x-python",
   "name": "python",
   "nbconvert_exporter": "python",
   "pygments_lexer": "ipython3",
   "version": "3.10.8"
  }
 },
 "nbformat": 4,
 "nbformat_minor": 5
}
